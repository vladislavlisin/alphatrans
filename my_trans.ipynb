{
  "metadata": {
    "kernelspec": {
      "display_name": "Python 3",
      "name": "python3"
    },
    "language_info": {
      "pygments_lexer": "ipython3",
      "nbconvert_exporter": "python",
      "version": "3.6.4",
      "file_extension": ".py",
      "codemirror_mode": {
        "name": "ipython",
        "version": 3
      },
      "name": "python",
      "mimetype": "text/x-python"
    },
    "colab": {
      "provenance": [],
      "gpuType": "T4",
      "include_colab_link": true
    },
    "accelerator": "GPU"
  },
  "nbformat_minor": 0,
  "nbformat": 4,
  "cells": [
    {
      "cell_type": "markdown",
      "metadata": {
        "id": "view-in-github",
        "colab_type": "text"
      },
      "source": [
        "<a href=\"https://colab.research.google.com/github/vladislavlisin/alphatrans/blob/main/my_trans.ipynb\" target=\"_parent\"><img src=\"https://colab.research.google.com/assets/colab-badge.svg\" alt=\"Open In Colab\"/></a>"
      ]
    },
    {
      "cell_type": "markdown",
      "source": [
        "## Библиотеки"
      ],
      "metadata": {
        "id": "hsSTPFYZdEJf"
      }
    },
    {
      "cell_type": "code",
      "source": [
        "\n",
        "# работаем в google colab\n",
        "# подключаем гугл диск с данными\n",
        "from google.colab import drive\n",
        "drive.mount('/content/drive')"
      ],
      "metadata": {
        "colab": {
          "base_uri": "https://localhost:8080/"
        },
        "id": "OlKI5bMndZ7H",
        "outputId": "dc9370d2-e353-49f5-aaa4-68fbfdb45cf0"
      },
      "execution_count": null,
      "outputs": [
        {
          "output_type": "stream",
          "name": "stdout",
          "text": [
            "Mounted at /content/drive\n"
          ]
        }
      ]
    },
    {
      "cell_type": "code",
      "source": [
        "import numpy as np\n",
        "import pandas as pd\n",
        "from collections import Counter\n",
        "\n",
        "import warnings\n",
        "warnings.filterwarnings(\"ignore\")"
      ],
      "metadata": {
        "execution": {
          "iopub.status.busy": "2022-04-29T11:14:09.611601Z",
          "iopub.execute_input": "2022-04-29T11:14:09.612517Z",
          "iopub.status.idle": "2022-04-29T11:14:09.617725Z",
          "shell.execute_reply.started": "2022-04-29T11:14:09.612464Z",
          "shell.execute_reply": "2022-04-29T11:14:09.616729Z"
        },
        "trusted": true,
        "id": "5Dep0asadEJi"
      },
      "execution_count": null,
      "outputs": []
    },
    {
      "cell_type": "markdown",
      "source": [
        "## Функции"
      ],
      "metadata": {
        "id": "RrETGqQgdEJk"
      }
    },
    {
      "cell_type": "code",
      "source": [
        "import numpy as np\n",
        "\n",
        "def apk(recs, rels):\n",
        "  x = 0\n",
        "  sum = 0\n",
        "  for i, rec_id in enumerate(recs):\n",
        "    is_rel = (rec_id in rels)\n",
        "    mult = 1 if is_rel else 0\n",
        "    if is_rel:\n",
        "      x += 1\n",
        "    sum += mult * (x / (i+1))\n",
        "\n",
        "  return sum / min(len(rels), len(recs))\n",
        "\n",
        "def mapk(actual, predicted):\n",
        "    return np.mean([apk(a, p) for a, p in zip(actual, predicted)])"
      ],
      "metadata": {
        "id": "VxSaXL4QxqzN"
      },
      "execution_count": null,
      "outputs": []
    },
    {
      "cell_type": "code",
      "source": [
        "# https://github.com/benhamner/Metrics/blob/master/Python/ml_metrics/average_precision.py\n",
        "\n",
        "# MAP@10\n",
        "\n",
        "def apk(actual, predicted, k=10):\n",
        "    if len(predicted) > k:\n",
        "        predicted = predicted[:k]\n",
        "\n",
        "    score = 0.0\n",
        "    num_hits = 0.0\n",
        "\n",
        "    for i, p in enumerate(predicted):\n",
        "        if p in actual and p not in predicted[:i]:\n",
        "            num_hits += 1.0\n",
        "            score += num_hits / (i+1.0)\n",
        "\n",
        "    if not actual:\n",
        "        return 0.0\n",
        "\n",
        "    return score / min(len(actual), k)\n",
        "\n",
        "def mapk(actual, predicted, k=10):\n",
        "    return np.mean([apk(a, p, k) for a, p in zip(actual, predicted)])"
      ],
      "metadata": {
        "execution": {
          "iopub.status.busy": "2022-04-29T11:14:09.621556Z",
          "iopub.execute_input": "2022-04-29T11:14:09.622183Z",
          "iopub.status.idle": "2022-04-29T11:14:09.638102Z",
          "shell.execute_reply.started": "2022-04-29T11:14:09.622136Z",
          "shell.execute_reply": "2022-04-29T11:14:09.637438Z"
        },
        "trusted": true,
        "id": "x1ZbLmwqdEJl"
      },
      "execution_count": null,
      "outputs": []
    },
    {
      "cell_type": "code",
      "source": [
        "mapk([[1,2,3,4,7,7,7,8,9,10]], [[1,2,3,4,7,7,7,8,9,10]])"
      ],
      "metadata": {
        "colab": {
          "base_uri": "https://localhost:8080/"
        },
        "id": "Peq6aq20NZfx",
        "outputId": "b15919d9-0188-45ec-bd89-45c468dadaa8"
      },
      "execution_count": null,
      "outputs": [
        {
          "output_type": "execute_result",
          "data": {
            "text/plain": [
              "1.0"
            ]
          },
          "metadata": {},
          "execution_count": 4
        }
      ]
    },
    {
      "cell_type": "markdown",
      "source": [
        "## Получение данных"
      ],
      "metadata": {
        "id": "ifOfhyhldEJm"
      }
    },
    {
      "cell_type": "code",
      "source": [
        "# df_train = pd.read_csv('/kaggle/input/alfabankchallengedata/df_train.csv', sep=';')\n",
        "# df_test = pd.read_csv('/kaggle/input/alfabankchallengedata/df_test.csv', sep=';')\n",
        "\n",
        "df_train = pd.read_csv('/content/drive/MyDrive/alpha trans/df_train.csv', sep=';')\n",
        "df_test = pd.read_csv('/content/drive/MyDrive/alpha trans/df_test.csv', sep=';')"
      ],
      "metadata": {
        "execution": {
          "iopub.status.busy": "2022-04-29T11:14:09.639436Z",
          "iopub.execute_input": "2022-04-29T11:14:09.640173Z",
          "iopub.status.idle": "2022-04-29T11:14:10.031891Z",
          "shell.execute_reply.started": "2022-04-29T11:14:09.640141Z",
          "shell.execute_reply": "2022-04-29T11:14:10.031043Z"
        },
        "trusted": true,
        "id": "BC5Wf56ZdEJm"
      },
      "execution_count": null,
      "outputs": []
    },
    {
      "cell_type": "code",
      "source": [
        "df_train.head()"
      ],
      "metadata": {
        "colab": {
          "base_uri": "https://localhost:8080/",
          "height": 206
        },
        "id": "72jyUhwlfTcw",
        "outputId": "87951f68-4149-4194-97e8-798e9f99f2e8"
      },
      "execution_count": null,
      "outputs": [
        {
          "output_type": "execute_result",
          "data": {
            "text/plain": [
              "   Id                                               Data  \\\n",
              "0   0  4814,4814,6010,6011,4814,6011,6011,4814,6011,6...   \n",
              "1   1  6011,6011,6011,6011,6011,6011,6011,4814,4814,4...   \n",
              "2   2  8021,6011,6011,6010,4829,4814,6011,6011,6011,6...   \n",
              "3   3  4814,6011,4814,4814,4814,6011,6011,5691,5691,5...   \n",
              "4   4  4814,4814,4814,4814,4814,4814,5946,4814,4814,6...   \n",
              "\n",
              "                                              Target  \n",
              "0  4814,4814,4814,4814,5411,4814,4814,4814,4814,4814  \n",
              "1  4814,6011,4814,6011,4814,4814,6011,4814,6011,4814  \n",
              "2  6011,6011,6010,4829,4829,6010,6011,6011,4814,6011  \n",
              "3  6011,6011,6010,6011,6011,4814,4814,6011,4814,4814  \n",
              "4  5499,6011,4814,4829,5200,5411,5499,5912,5411,5912  "
            ],
            "text/html": [
              "\n",
              "  <div id=\"df-b18773d7-45f6-4f18-9f60-bf353bff3345\" class=\"colab-df-container\">\n",
              "    <div>\n",
              "<style scoped>\n",
              "    .dataframe tbody tr th:only-of-type {\n",
              "        vertical-align: middle;\n",
              "    }\n",
              "\n",
              "    .dataframe tbody tr th {\n",
              "        vertical-align: top;\n",
              "    }\n",
              "\n",
              "    .dataframe thead th {\n",
              "        text-align: right;\n",
              "    }\n",
              "</style>\n",
              "<table border=\"1\" class=\"dataframe\">\n",
              "  <thead>\n",
              "    <tr style=\"text-align: right;\">\n",
              "      <th></th>\n",
              "      <th>Id</th>\n",
              "      <th>Data</th>\n",
              "      <th>Target</th>\n",
              "    </tr>\n",
              "  </thead>\n",
              "  <tbody>\n",
              "    <tr>\n",
              "      <th>0</th>\n",
              "      <td>0</td>\n",
              "      <td>4814,4814,6010,6011,4814,6011,6011,4814,6011,6...</td>\n",
              "      <td>4814,4814,4814,4814,5411,4814,4814,4814,4814,4814</td>\n",
              "    </tr>\n",
              "    <tr>\n",
              "      <th>1</th>\n",
              "      <td>1</td>\n",
              "      <td>6011,6011,6011,6011,6011,6011,6011,4814,4814,4...</td>\n",
              "      <td>4814,6011,4814,6011,4814,4814,6011,4814,6011,4814</td>\n",
              "    </tr>\n",
              "    <tr>\n",
              "      <th>2</th>\n",
              "      <td>2</td>\n",
              "      <td>8021,6011,6011,6010,4829,4814,6011,6011,6011,6...</td>\n",
              "      <td>6011,6011,6010,4829,4829,6010,6011,6011,4814,6011</td>\n",
              "    </tr>\n",
              "    <tr>\n",
              "      <th>3</th>\n",
              "      <td>3</td>\n",
              "      <td>4814,6011,4814,4814,4814,6011,6011,5691,5691,5...</td>\n",
              "      <td>6011,6011,6010,6011,6011,4814,4814,6011,4814,4814</td>\n",
              "    </tr>\n",
              "    <tr>\n",
              "      <th>4</th>\n",
              "      <td>4</td>\n",
              "      <td>4814,4814,4814,4814,4814,4814,5946,4814,4814,6...</td>\n",
              "      <td>5499,6011,4814,4829,5200,5411,5499,5912,5411,5912</td>\n",
              "    </tr>\n",
              "  </tbody>\n",
              "</table>\n",
              "</div>\n",
              "    <div class=\"colab-df-buttons\">\n",
              "\n",
              "  <div class=\"colab-df-container\">\n",
              "    <button class=\"colab-df-convert\" onclick=\"convertToInteractive('df-b18773d7-45f6-4f18-9f60-bf353bff3345')\"\n",
              "            title=\"Convert this dataframe to an interactive table.\"\n",
              "            style=\"display:none;\">\n",
              "\n",
              "  <svg xmlns=\"http://www.w3.org/2000/svg\" height=\"24px\" viewBox=\"0 -960 960 960\">\n",
              "    <path d=\"M120-120v-720h720v720H120Zm60-500h600v-160H180v160Zm220 220h160v-160H400v160Zm0 220h160v-160H400v160ZM180-400h160v-160H180v160Zm440 0h160v-160H620v160ZM180-180h160v-160H180v160Zm440 0h160v-160H620v160Z\"/>\n",
              "  </svg>\n",
              "    </button>\n",
              "\n",
              "  <style>\n",
              "    .colab-df-container {\n",
              "      display:flex;\n",
              "      gap: 12px;\n",
              "    }\n",
              "\n",
              "    .colab-df-convert {\n",
              "      background-color: #E8F0FE;\n",
              "      border: none;\n",
              "      border-radius: 50%;\n",
              "      cursor: pointer;\n",
              "      display: none;\n",
              "      fill: #1967D2;\n",
              "      height: 32px;\n",
              "      padding: 0 0 0 0;\n",
              "      width: 32px;\n",
              "    }\n",
              "\n",
              "    .colab-df-convert:hover {\n",
              "      background-color: #E2EBFA;\n",
              "      box-shadow: 0px 1px 2px rgba(60, 64, 67, 0.3), 0px 1px 3px 1px rgba(60, 64, 67, 0.15);\n",
              "      fill: #174EA6;\n",
              "    }\n",
              "\n",
              "    .colab-df-buttons div {\n",
              "      margin-bottom: 4px;\n",
              "    }\n",
              "\n",
              "    [theme=dark] .colab-df-convert {\n",
              "      background-color: #3B4455;\n",
              "      fill: #D2E3FC;\n",
              "    }\n",
              "\n",
              "    [theme=dark] .colab-df-convert:hover {\n",
              "      background-color: #434B5C;\n",
              "      box-shadow: 0px 1px 3px 1px rgba(0, 0, 0, 0.15);\n",
              "      filter: drop-shadow(0px 1px 2px rgba(0, 0, 0, 0.3));\n",
              "      fill: #FFFFFF;\n",
              "    }\n",
              "  </style>\n",
              "\n",
              "    <script>\n",
              "      const buttonEl =\n",
              "        document.querySelector('#df-b18773d7-45f6-4f18-9f60-bf353bff3345 button.colab-df-convert');\n",
              "      buttonEl.style.display =\n",
              "        google.colab.kernel.accessAllowed ? 'block' : 'none';\n",
              "\n",
              "      async function convertToInteractive(key) {\n",
              "        const element = document.querySelector('#df-b18773d7-45f6-4f18-9f60-bf353bff3345');\n",
              "        const dataTable =\n",
              "          await google.colab.kernel.invokeFunction('convertToInteractive',\n",
              "                                                    [key], {});\n",
              "        if (!dataTable) return;\n",
              "\n",
              "        const docLinkHtml = 'Like what you see? Visit the ' +\n",
              "          '<a target=\"_blank\" href=https://colab.research.google.com/notebooks/data_table.ipynb>data table notebook</a>'\n",
              "          + ' to learn more about interactive tables.';\n",
              "        element.innerHTML = '';\n",
              "        dataTable['output_type'] = 'display_data';\n",
              "        await google.colab.output.renderOutput(dataTable, element);\n",
              "        const docLink = document.createElement('div');\n",
              "        docLink.innerHTML = docLinkHtml;\n",
              "        element.appendChild(docLink);\n",
              "      }\n",
              "    </script>\n",
              "  </div>\n",
              "\n",
              "\n",
              "<div id=\"df-32a67447-62ef-4b85-82a4-c53c5a3399dc\">\n",
              "  <button class=\"colab-df-quickchart\" onclick=\"quickchart('df-32a67447-62ef-4b85-82a4-c53c5a3399dc')\"\n",
              "            title=\"Suggest charts.\"\n",
              "            style=\"display:none;\">\n",
              "\n",
              "<svg xmlns=\"http://www.w3.org/2000/svg\" height=\"24px\"viewBox=\"0 0 24 24\"\n",
              "     width=\"24px\">\n",
              "    <g>\n",
              "        <path d=\"M19 3H5c-1.1 0-2 .9-2 2v14c0 1.1.9 2 2 2h14c1.1 0 2-.9 2-2V5c0-1.1-.9-2-2-2zM9 17H7v-7h2v7zm4 0h-2V7h2v10zm4 0h-2v-4h2v4z\"/>\n",
              "    </g>\n",
              "</svg>\n",
              "  </button>\n",
              "\n",
              "<style>\n",
              "  .colab-df-quickchart {\n",
              "      --bg-color: #E8F0FE;\n",
              "      --fill-color: #1967D2;\n",
              "      --hover-bg-color: #E2EBFA;\n",
              "      --hover-fill-color: #174EA6;\n",
              "      --disabled-fill-color: #AAA;\n",
              "      --disabled-bg-color: #DDD;\n",
              "  }\n",
              "\n",
              "  [theme=dark] .colab-df-quickchart {\n",
              "      --bg-color: #3B4455;\n",
              "      --fill-color: #D2E3FC;\n",
              "      --hover-bg-color: #434B5C;\n",
              "      --hover-fill-color: #FFFFFF;\n",
              "      --disabled-bg-color: #3B4455;\n",
              "      --disabled-fill-color: #666;\n",
              "  }\n",
              "\n",
              "  .colab-df-quickchart {\n",
              "    background-color: var(--bg-color);\n",
              "    border: none;\n",
              "    border-radius: 50%;\n",
              "    cursor: pointer;\n",
              "    display: none;\n",
              "    fill: var(--fill-color);\n",
              "    height: 32px;\n",
              "    padding: 0;\n",
              "    width: 32px;\n",
              "  }\n",
              "\n",
              "  .colab-df-quickchart:hover {\n",
              "    background-color: var(--hover-bg-color);\n",
              "    box-shadow: 0 1px 2px rgba(60, 64, 67, 0.3), 0 1px 3px 1px rgba(60, 64, 67, 0.15);\n",
              "    fill: var(--button-hover-fill-color);\n",
              "  }\n",
              "\n",
              "  .colab-df-quickchart-complete:disabled,\n",
              "  .colab-df-quickchart-complete:disabled:hover {\n",
              "    background-color: var(--disabled-bg-color);\n",
              "    fill: var(--disabled-fill-color);\n",
              "    box-shadow: none;\n",
              "  }\n",
              "\n",
              "  .colab-df-spinner {\n",
              "    border: 2px solid var(--fill-color);\n",
              "    border-color: transparent;\n",
              "    border-bottom-color: var(--fill-color);\n",
              "    animation:\n",
              "      spin 1s steps(1) infinite;\n",
              "  }\n",
              "\n",
              "  @keyframes spin {\n",
              "    0% {\n",
              "      border-color: transparent;\n",
              "      border-bottom-color: var(--fill-color);\n",
              "      border-left-color: var(--fill-color);\n",
              "    }\n",
              "    20% {\n",
              "      border-color: transparent;\n",
              "      border-left-color: var(--fill-color);\n",
              "      border-top-color: var(--fill-color);\n",
              "    }\n",
              "    30% {\n",
              "      border-color: transparent;\n",
              "      border-left-color: var(--fill-color);\n",
              "      border-top-color: var(--fill-color);\n",
              "      border-right-color: var(--fill-color);\n",
              "    }\n",
              "    40% {\n",
              "      border-color: transparent;\n",
              "      border-right-color: var(--fill-color);\n",
              "      border-top-color: var(--fill-color);\n",
              "    }\n",
              "    60% {\n",
              "      border-color: transparent;\n",
              "      border-right-color: var(--fill-color);\n",
              "    }\n",
              "    80% {\n",
              "      border-color: transparent;\n",
              "      border-right-color: var(--fill-color);\n",
              "      border-bottom-color: var(--fill-color);\n",
              "    }\n",
              "    90% {\n",
              "      border-color: transparent;\n",
              "      border-bottom-color: var(--fill-color);\n",
              "    }\n",
              "  }\n",
              "</style>\n",
              "\n",
              "  <script>\n",
              "    async function quickchart(key) {\n",
              "      const quickchartButtonEl =\n",
              "        document.querySelector('#' + key + ' button');\n",
              "      quickchartButtonEl.disabled = true;  // To prevent multiple clicks.\n",
              "      quickchartButtonEl.classList.add('colab-df-spinner');\n",
              "      try {\n",
              "        const charts = await google.colab.kernel.invokeFunction(\n",
              "            'suggestCharts', [key], {});\n",
              "      } catch (error) {\n",
              "        console.error('Error during call to suggestCharts:', error);\n",
              "      }\n",
              "      quickchartButtonEl.classList.remove('colab-df-spinner');\n",
              "      quickchartButtonEl.classList.add('colab-df-quickchart-complete');\n",
              "    }\n",
              "    (() => {\n",
              "      let quickchartButtonEl =\n",
              "        document.querySelector('#df-32a67447-62ef-4b85-82a4-c53c5a3399dc button');\n",
              "      quickchartButtonEl.style.display =\n",
              "        google.colab.kernel.accessAllowed ? 'block' : 'none';\n",
              "    })();\n",
              "  </script>\n",
              "</div>\n",
              "    </div>\n",
              "  </div>\n"
            ]
          },
          "metadata": {},
          "execution_count": 6
        }
      ]
    },
    {
      "cell_type": "code",
      "source": [
        "df_train['Data'] = df_train.Data.apply(lambda s: list(map(int, s.split(','))))\n",
        "df_train['Target'] = df_train.Target.apply(lambda s: list(map(int, s.split(','))))\n",
        "df_test['Data'] = df_test.Data.apply(lambda s: list(map(int, s.split(','))))"
      ],
      "metadata": {
        "execution": {
          "iopub.status.busy": "2022-04-29T11:14:10.03292Z",
          "iopub.execute_input": "2022-04-29T11:14:10.033129Z",
          "iopub.status.idle": "2022-04-29T11:14:11.483851Z",
          "shell.execute_reply.started": "2022-04-29T11:14:10.033103Z",
          "shell.execute_reply": "2022-04-29T11:14:11.483019Z"
        },
        "trusted": true,
        "id": "2XmLNeKqdEJm"
      },
      "execution_count": null,
      "outputs": []
    },
    {
      "cell_type": "code",
      "source": [
        "df_train.head()"
      ],
      "metadata": {
        "execution": {
          "iopub.status.busy": "2022-04-29T11:14:11.485019Z",
          "iopub.execute_input": "2022-04-29T11:14:11.485236Z",
          "iopub.status.idle": "2022-04-29T11:14:11.500382Z",
          "shell.execute_reply.started": "2022-04-29T11:14:11.48521Z",
          "shell.execute_reply": "2022-04-29T11:14:11.499438Z"
        },
        "trusted": true,
        "colab": {
          "base_uri": "https://localhost:8080/",
          "height": 206
        },
        "id": "VeBisAwBdEJn",
        "outputId": "eff356ce-e4f4-494b-9601-7a215ae6ef03"
      },
      "execution_count": null,
      "outputs": [
        {
          "output_type": "execute_result",
          "data": {
            "text/plain": [
              "   Id                                               Data  \\\n",
              "0   0  [4814, 4814, 6010, 6011, 4814, 6011, 6011, 481...   \n",
              "1   1  [6011, 6011, 6011, 6011, 6011, 6011, 6011, 481...   \n",
              "2   2  [8021, 6011, 6011, 6010, 4829, 4814, 6011, 601...   \n",
              "3   3  [4814, 6011, 4814, 4814, 4814, 6011, 6011, 569...   \n",
              "4   4  [4814, 4814, 4814, 4814, 4814, 4814, 5946, 481...   \n",
              "\n",
              "                                              Target  \n",
              "0  [4814, 4814, 4814, 4814, 5411, 4814, 4814, 481...  \n",
              "1  [4814, 6011, 4814, 6011, 4814, 4814, 6011, 481...  \n",
              "2  [6011, 6011, 6010, 4829, 4829, 6010, 6011, 601...  \n",
              "3  [6011, 6011, 6010, 6011, 6011, 4814, 4814, 601...  \n",
              "4  [5499, 6011, 4814, 4829, 5200, 5411, 5499, 591...  "
            ],
            "text/html": [
              "\n",
              "  <div id=\"df-270f87f4-c1e5-4c3c-bd75-568cc89f5502\" class=\"colab-df-container\">\n",
              "    <div>\n",
              "<style scoped>\n",
              "    .dataframe tbody tr th:only-of-type {\n",
              "        vertical-align: middle;\n",
              "    }\n",
              "\n",
              "    .dataframe tbody tr th {\n",
              "        vertical-align: top;\n",
              "    }\n",
              "\n",
              "    .dataframe thead th {\n",
              "        text-align: right;\n",
              "    }\n",
              "</style>\n",
              "<table border=\"1\" class=\"dataframe\">\n",
              "  <thead>\n",
              "    <tr style=\"text-align: right;\">\n",
              "      <th></th>\n",
              "      <th>Id</th>\n",
              "      <th>Data</th>\n",
              "      <th>Target</th>\n",
              "    </tr>\n",
              "  </thead>\n",
              "  <tbody>\n",
              "    <tr>\n",
              "      <th>0</th>\n",
              "      <td>0</td>\n",
              "      <td>[4814, 4814, 6010, 6011, 4814, 6011, 6011, 481...</td>\n",
              "      <td>[4814, 4814, 4814, 4814, 5411, 4814, 4814, 481...</td>\n",
              "    </tr>\n",
              "    <tr>\n",
              "      <th>1</th>\n",
              "      <td>1</td>\n",
              "      <td>[6011, 6011, 6011, 6011, 6011, 6011, 6011, 481...</td>\n",
              "      <td>[4814, 6011, 4814, 6011, 4814, 4814, 6011, 481...</td>\n",
              "    </tr>\n",
              "    <tr>\n",
              "      <th>2</th>\n",
              "      <td>2</td>\n",
              "      <td>[8021, 6011, 6011, 6010, 4829, 4814, 6011, 601...</td>\n",
              "      <td>[6011, 6011, 6010, 4829, 4829, 6010, 6011, 601...</td>\n",
              "    </tr>\n",
              "    <tr>\n",
              "      <th>3</th>\n",
              "      <td>3</td>\n",
              "      <td>[4814, 6011, 4814, 4814, 4814, 6011, 6011, 569...</td>\n",
              "      <td>[6011, 6011, 6010, 6011, 6011, 4814, 4814, 601...</td>\n",
              "    </tr>\n",
              "    <tr>\n",
              "      <th>4</th>\n",
              "      <td>4</td>\n",
              "      <td>[4814, 4814, 4814, 4814, 4814, 4814, 5946, 481...</td>\n",
              "      <td>[5499, 6011, 4814, 4829, 5200, 5411, 5499, 591...</td>\n",
              "    </tr>\n",
              "  </tbody>\n",
              "</table>\n",
              "</div>\n",
              "    <div class=\"colab-df-buttons\">\n",
              "\n",
              "  <div class=\"colab-df-container\">\n",
              "    <button class=\"colab-df-convert\" onclick=\"convertToInteractive('df-270f87f4-c1e5-4c3c-bd75-568cc89f5502')\"\n",
              "            title=\"Convert this dataframe to an interactive table.\"\n",
              "            style=\"display:none;\">\n",
              "\n",
              "  <svg xmlns=\"http://www.w3.org/2000/svg\" height=\"24px\" viewBox=\"0 -960 960 960\">\n",
              "    <path d=\"M120-120v-720h720v720H120Zm60-500h600v-160H180v160Zm220 220h160v-160H400v160Zm0 220h160v-160H400v160ZM180-400h160v-160H180v160Zm440 0h160v-160H620v160ZM180-180h160v-160H180v160Zm440 0h160v-160H620v160Z\"/>\n",
              "  </svg>\n",
              "    </button>\n",
              "\n",
              "  <style>\n",
              "    .colab-df-container {\n",
              "      display:flex;\n",
              "      gap: 12px;\n",
              "    }\n",
              "\n",
              "    .colab-df-convert {\n",
              "      background-color: #E8F0FE;\n",
              "      border: none;\n",
              "      border-radius: 50%;\n",
              "      cursor: pointer;\n",
              "      display: none;\n",
              "      fill: #1967D2;\n",
              "      height: 32px;\n",
              "      padding: 0 0 0 0;\n",
              "      width: 32px;\n",
              "    }\n",
              "\n",
              "    .colab-df-convert:hover {\n",
              "      background-color: #E2EBFA;\n",
              "      box-shadow: 0px 1px 2px rgba(60, 64, 67, 0.3), 0px 1px 3px 1px rgba(60, 64, 67, 0.15);\n",
              "      fill: #174EA6;\n",
              "    }\n",
              "\n",
              "    .colab-df-buttons div {\n",
              "      margin-bottom: 4px;\n",
              "    }\n",
              "\n",
              "    [theme=dark] .colab-df-convert {\n",
              "      background-color: #3B4455;\n",
              "      fill: #D2E3FC;\n",
              "    }\n",
              "\n",
              "    [theme=dark] .colab-df-convert:hover {\n",
              "      background-color: #434B5C;\n",
              "      box-shadow: 0px 1px 3px 1px rgba(0, 0, 0, 0.15);\n",
              "      filter: drop-shadow(0px 1px 2px rgba(0, 0, 0, 0.3));\n",
              "      fill: #FFFFFF;\n",
              "    }\n",
              "  </style>\n",
              "\n",
              "    <script>\n",
              "      const buttonEl =\n",
              "        document.querySelector('#df-270f87f4-c1e5-4c3c-bd75-568cc89f5502 button.colab-df-convert');\n",
              "      buttonEl.style.display =\n",
              "        google.colab.kernel.accessAllowed ? 'block' : 'none';\n",
              "\n",
              "      async function convertToInteractive(key) {\n",
              "        const element = document.querySelector('#df-270f87f4-c1e5-4c3c-bd75-568cc89f5502');\n",
              "        const dataTable =\n",
              "          await google.colab.kernel.invokeFunction('convertToInteractive',\n",
              "                                                    [key], {});\n",
              "        if (!dataTable) return;\n",
              "\n",
              "        const docLinkHtml = 'Like what you see? Visit the ' +\n",
              "          '<a target=\"_blank\" href=https://colab.research.google.com/notebooks/data_table.ipynb>data table notebook</a>'\n",
              "          + ' to learn more about interactive tables.';\n",
              "        element.innerHTML = '';\n",
              "        dataTable['output_type'] = 'display_data';\n",
              "        await google.colab.output.renderOutput(dataTable, element);\n",
              "        const docLink = document.createElement('div');\n",
              "        docLink.innerHTML = docLinkHtml;\n",
              "        element.appendChild(docLink);\n",
              "      }\n",
              "    </script>\n",
              "  </div>\n",
              "\n",
              "\n",
              "<div id=\"df-83263a9d-e9b0-45bb-b35a-bd54fd36003f\">\n",
              "  <button class=\"colab-df-quickchart\" onclick=\"quickchart('df-83263a9d-e9b0-45bb-b35a-bd54fd36003f')\"\n",
              "            title=\"Suggest charts.\"\n",
              "            style=\"display:none;\">\n",
              "\n",
              "<svg xmlns=\"http://www.w3.org/2000/svg\" height=\"24px\"viewBox=\"0 0 24 24\"\n",
              "     width=\"24px\">\n",
              "    <g>\n",
              "        <path d=\"M19 3H5c-1.1 0-2 .9-2 2v14c0 1.1.9 2 2 2h14c1.1 0 2-.9 2-2V5c0-1.1-.9-2-2-2zM9 17H7v-7h2v7zm4 0h-2V7h2v10zm4 0h-2v-4h2v4z\"/>\n",
              "    </g>\n",
              "</svg>\n",
              "  </button>\n",
              "\n",
              "<style>\n",
              "  .colab-df-quickchart {\n",
              "      --bg-color: #E8F0FE;\n",
              "      --fill-color: #1967D2;\n",
              "      --hover-bg-color: #E2EBFA;\n",
              "      --hover-fill-color: #174EA6;\n",
              "      --disabled-fill-color: #AAA;\n",
              "      --disabled-bg-color: #DDD;\n",
              "  }\n",
              "\n",
              "  [theme=dark] .colab-df-quickchart {\n",
              "      --bg-color: #3B4455;\n",
              "      --fill-color: #D2E3FC;\n",
              "      --hover-bg-color: #434B5C;\n",
              "      --hover-fill-color: #FFFFFF;\n",
              "      --disabled-bg-color: #3B4455;\n",
              "      --disabled-fill-color: #666;\n",
              "  }\n",
              "\n",
              "  .colab-df-quickchart {\n",
              "    background-color: var(--bg-color);\n",
              "    border: none;\n",
              "    border-radius: 50%;\n",
              "    cursor: pointer;\n",
              "    display: none;\n",
              "    fill: var(--fill-color);\n",
              "    height: 32px;\n",
              "    padding: 0;\n",
              "    width: 32px;\n",
              "  }\n",
              "\n",
              "  .colab-df-quickchart:hover {\n",
              "    background-color: var(--hover-bg-color);\n",
              "    box-shadow: 0 1px 2px rgba(60, 64, 67, 0.3), 0 1px 3px 1px rgba(60, 64, 67, 0.15);\n",
              "    fill: var(--button-hover-fill-color);\n",
              "  }\n",
              "\n",
              "  .colab-df-quickchart-complete:disabled,\n",
              "  .colab-df-quickchart-complete:disabled:hover {\n",
              "    background-color: var(--disabled-bg-color);\n",
              "    fill: var(--disabled-fill-color);\n",
              "    box-shadow: none;\n",
              "  }\n",
              "\n",
              "  .colab-df-spinner {\n",
              "    border: 2px solid var(--fill-color);\n",
              "    border-color: transparent;\n",
              "    border-bottom-color: var(--fill-color);\n",
              "    animation:\n",
              "      spin 1s steps(1) infinite;\n",
              "  }\n",
              "\n",
              "  @keyframes spin {\n",
              "    0% {\n",
              "      border-color: transparent;\n",
              "      border-bottom-color: var(--fill-color);\n",
              "      border-left-color: var(--fill-color);\n",
              "    }\n",
              "    20% {\n",
              "      border-color: transparent;\n",
              "      border-left-color: var(--fill-color);\n",
              "      border-top-color: var(--fill-color);\n",
              "    }\n",
              "    30% {\n",
              "      border-color: transparent;\n",
              "      border-left-color: var(--fill-color);\n",
              "      border-top-color: var(--fill-color);\n",
              "      border-right-color: var(--fill-color);\n",
              "    }\n",
              "    40% {\n",
              "      border-color: transparent;\n",
              "      border-right-color: var(--fill-color);\n",
              "      border-top-color: var(--fill-color);\n",
              "    }\n",
              "    60% {\n",
              "      border-color: transparent;\n",
              "      border-right-color: var(--fill-color);\n",
              "    }\n",
              "    80% {\n",
              "      border-color: transparent;\n",
              "      border-right-color: var(--fill-color);\n",
              "      border-bottom-color: var(--fill-color);\n",
              "    }\n",
              "    90% {\n",
              "      border-color: transparent;\n",
              "      border-bottom-color: var(--fill-color);\n",
              "    }\n",
              "  }\n",
              "</style>\n",
              "\n",
              "  <script>\n",
              "    async function quickchart(key) {\n",
              "      const quickchartButtonEl =\n",
              "        document.querySelector('#' + key + ' button');\n",
              "      quickchartButtonEl.disabled = true;  // To prevent multiple clicks.\n",
              "      quickchartButtonEl.classList.add('colab-df-spinner');\n",
              "      try {\n",
              "        const charts = await google.colab.kernel.invokeFunction(\n",
              "            'suggestCharts', [key], {});\n",
              "      } catch (error) {\n",
              "        console.error('Error during call to suggestCharts:', error);\n",
              "      }\n",
              "      quickchartButtonEl.classList.remove('colab-df-spinner');\n",
              "      quickchartButtonEl.classList.add('colab-df-quickchart-complete');\n",
              "    }\n",
              "    (() => {\n",
              "      let quickchartButtonEl =\n",
              "        document.querySelector('#df-83263a9d-e9b0-45bb-b35a-bd54fd36003f button');\n",
              "      quickchartButtonEl.style.display =\n",
              "        google.colab.kernel.accessAllowed ? 'block' : 'none';\n",
              "    })();\n",
              "  </script>\n",
              "</div>\n",
              "    </div>\n",
              "  </div>\n"
            ]
          },
          "metadata": {},
          "execution_count": 7
        }
      ]
    },
    {
      "cell_type": "code",
      "source": [
        "# выходная последовательность всегда длиной в 10, действительно...\n",
        "len(df_train.Target[1])"
      ],
      "metadata": {
        "colab": {
          "base_uri": "https://localhost:8080/"
        },
        "id": "0N9pVB5dqUhs",
        "outputId": "01c0d2c9-f762-421d-abde-1aa95a5075a4"
      },
      "execution_count": null,
      "outputs": [
        {
          "output_type": "execute_result",
          "data": {
            "text/plain": [
              "10"
            ]
          },
          "metadata": {},
          "execution_count": 8
        }
      ]
    },
    {
      "cell_type": "code",
      "source": [
        "df_train.Target[1]"
      ],
      "metadata": {
        "colab": {
          "base_uri": "https://localhost:8080/"
        },
        "id": "9vdoCntf70_t",
        "outputId": "a8f0b24d-3303-4395-8b37-f25fb423010e"
      },
      "execution_count": null,
      "outputs": [
        {
          "output_type": "execute_result",
          "data": {
            "text/plain": [
              "[4814, 6011, 4814, 6011, 4814, 4814, 6011, 4814, 6011, 4814]"
            ]
          },
          "metadata": {},
          "execution_count": 9
        }
      ]
    },
    {
      "cell_type": "code",
      "source": [
        "Counter(df_train.Data[1]).items()"
      ],
      "metadata": {
        "colab": {
          "base_uri": "https://localhost:8080/"
        },
        "id": "2ZJeSzG5-uYp",
        "outputId": "7b5a10e4-13ed-40b6-f5a3-0608299e9acd"
      },
      "execution_count": null,
      "outputs": [
        {
          "output_type": "execute_result",
          "data": {
            "text/plain": [
              "dict_items([(6011, 41), (4814, 52), (4829, 3), (6010, 2), (5541, 1), (5732, 2)])"
            ]
          },
          "metadata": {},
          "execution_count": 10
        }
      ]
    },
    {
      "cell_type": "code",
      "source": [
        "df_train.Data[1]"
      ],
      "metadata": {
        "id": "PU--EZTC7_NT"
      },
      "execution_count": null,
      "outputs": []
    },
    {
      "cell_type": "code",
      "source": [
        "# заментим, что длина транзакицй разная\n",
        "len(df_train.Data[0])"
      ],
      "metadata": {
        "colab": {
          "base_uri": "https://localhost:8080/"
        },
        "id": "qgwG5GHyqP4i",
        "outputId": "e2c32212-ca24-428c-c06a-08c69f2e17f1"
      },
      "execution_count": null,
      "outputs": [
        {
          "output_type": "execute_result",
          "data": {
            "text/plain": [
              "216"
            ]
          },
          "metadata": {},
          "execution_count": 12
        }
      ]
    },
    {
      "cell_type": "code",
      "source": [
        "df_train.shape"
      ],
      "metadata": {
        "execution": {
          "iopub.status.busy": "2022-04-29T11:14:11.502457Z",
          "iopub.execute_input": "2022-04-29T11:14:11.502827Z",
          "iopub.status.idle": "2022-04-29T11:14:11.513814Z",
          "shell.execute_reply.started": "2022-04-29T11:14:11.502787Z",
          "shell.execute_reply": "2022-04-29T11:14:11.513239Z"
        },
        "trusted": true,
        "colab": {
          "base_uri": "https://localhost:8080/"
        },
        "id": "KOFmPk6BdEJn",
        "outputId": "246f0a91-acfc-4258-da6c-910e49b96602"
      },
      "execution_count": null,
      "outputs": [
        {
          "output_type": "execute_result",
          "data": {
            "text/plain": [
              "(7033, 3)"
            ]
          },
          "metadata": {},
          "execution_count": 13
        }
      ]
    },
    {
      "cell_type": "code",
      "source": [
        "df_train.dtypes"
      ],
      "metadata": {
        "execution": {
          "iopub.status.busy": "2022-04-29T11:14:11.514984Z",
          "iopub.execute_input": "2022-04-29T11:14:11.515206Z",
          "iopub.status.idle": "2022-04-29T11:14:11.530152Z",
          "shell.execute_reply.started": "2022-04-29T11:14:11.51518Z",
          "shell.execute_reply": "2022-04-29T11:14:11.529394Z"
        },
        "trusted": true,
        "colab": {
          "base_uri": "https://localhost:8080/"
        },
        "id": "5WIt40StdEJn",
        "outputId": "d6e773b0-4795-4377-b479-aaa7eb2cd2ff"
      },
      "execution_count": null,
      "outputs": [
        {
          "output_type": "execute_result",
          "data": {
            "text/plain": [
              "Id         int64\n",
              "Data      object\n",
              "Target    object\n",
              "dtype: object"
            ]
          },
          "metadata": {},
          "execution_count": 14
        }
      ]
    },
    {
      "cell_type": "code",
      "source": [
        "df_test.head()"
      ],
      "metadata": {
        "execution": {
          "iopub.status.busy": "2022-04-29T11:14:11.531226Z",
          "iopub.execute_input": "2022-04-29T11:14:11.531664Z",
          "iopub.status.idle": "2022-04-29T11:14:11.550728Z",
          "shell.execute_reply.started": "2022-04-29T11:14:11.531626Z",
          "shell.execute_reply": "2022-04-29T11:14:11.550104Z"
        },
        "trusted": true,
        "colab": {
          "base_uri": "https://localhost:8080/",
          "height": 206
        },
        "id": "k246xQA_dEJo",
        "outputId": "9f4a79cf-e646-402c-e7b9-3d0718a5024e"
      },
      "execution_count": null,
      "outputs": [
        {
          "output_type": "execute_result",
          "data": {
            "text/plain": [
              "   Id                                               Data\n",
              "0   0  [4814, 4814, 6011, 6011, 6010, 6011, 6011, 481...\n",
              "1   1  [6010, 6011, 6010, 5411, 5411, 5977, 6011, 601...\n",
              "2   2  [4814, 6011, 5251, 6011, 7832, 5641, 5814, 482...\n",
              "3   3  [6011, 4722, 4722, 4722, 4814, 6011, 6011, 482...\n",
              "4   4  [4814, 4814, 4814, 6011, 4814, 4814, 4814, 481..."
            ],
            "text/html": [
              "\n",
              "  <div id=\"df-9a7e655d-010a-4527-9e90-1d75ca58881f\" class=\"colab-df-container\">\n",
              "    <div>\n",
              "<style scoped>\n",
              "    .dataframe tbody tr th:only-of-type {\n",
              "        vertical-align: middle;\n",
              "    }\n",
              "\n",
              "    .dataframe tbody tr th {\n",
              "        vertical-align: top;\n",
              "    }\n",
              "\n",
              "    .dataframe thead th {\n",
              "        text-align: right;\n",
              "    }\n",
              "</style>\n",
              "<table border=\"1\" class=\"dataframe\">\n",
              "  <thead>\n",
              "    <tr style=\"text-align: right;\">\n",
              "      <th></th>\n",
              "      <th>Id</th>\n",
              "      <th>Data</th>\n",
              "    </tr>\n",
              "  </thead>\n",
              "  <tbody>\n",
              "    <tr>\n",
              "      <th>0</th>\n",
              "      <td>0</td>\n",
              "      <td>[4814, 4814, 6011, 6011, 6010, 6011, 6011, 481...</td>\n",
              "    </tr>\n",
              "    <tr>\n",
              "      <th>1</th>\n",
              "      <td>1</td>\n",
              "      <td>[6010, 6011, 6010, 5411, 5411, 5977, 6011, 601...</td>\n",
              "    </tr>\n",
              "    <tr>\n",
              "      <th>2</th>\n",
              "      <td>2</td>\n",
              "      <td>[4814, 6011, 5251, 6011, 7832, 5641, 5814, 482...</td>\n",
              "    </tr>\n",
              "    <tr>\n",
              "      <th>3</th>\n",
              "      <td>3</td>\n",
              "      <td>[6011, 4722, 4722, 4722, 4814, 6011, 6011, 482...</td>\n",
              "    </tr>\n",
              "    <tr>\n",
              "      <th>4</th>\n",
              "      <td>4</td>\n",
              "      <td>[4814, 4814, 4814, 6011, 4814, 4814, 4814, 481...</td>\n",
              "    </tr>\n",
              "  </tbody>\n",
              "</table>\n",
              "</div>\n",
              "    <div class=\"colab-df-buttons\">\n",
              "\n",
              "  <div class=\"colab-df-container\">\n",
              "    <button class=\"colab-df-convert\" onclick=\"convertToInteractive('df-9a7e655d-010a-4527-9e90-1d75ca58881f')\"\n",
              "            title=\"Convert this dataframe to an interactive table.\"\n",
              "            style=\"display:none;\">\n",
              "\n",
              "  <svg xmlns=\"http://www.w3.org/2000/svg\" height=\"24px\" viewBox=\"0 -960 960 960\">\n",
              "    <path d=\"M120-120v-720h720v720H120Zm60-500h600v-160H180v160Zm220 220h160v-160H400v160Zm0 220h160v-160H400v160ZM180-400h160v-160H180v160Zm440 0h160v-160H620v160ZM180-180h160v-160H180v160Zm440 0h160v-160H620v160Z\"/>\n",
              "  </svg>\n",
              "    </button>\n",
              "\n",
              "  <style>\n",
              "    .colab-df-container {\n",
              "      display:flex;\n",
              "      gap: 12px;\n",
              "    }\n",
              "\n",
              "    .colab-df-convert {\n",
              "      background-color: #E8F0FE;\n",
              "      border: none;\n",
              "      border-radius: 50%;\n",
              "      cursor: pointer;\n",
              "      display: none;\n",
              "      fill: #1967D2;\n",
              "      height: 32px;\n",
              "      padding: 0 0 0 0;\n",
              "      width: 32px;\n",
              "    }\n",
              "\n",
              "    .colab-df-convert:hover {\n",
              "      background-color: #E2EBFA;\n",
              "      box-shadow: 0px 1px 2px rgba(60, 64, 67, 0.3), 0px 1px 3px 1px rgba(60, 64, 67, 0.15);\n",
              "      fill: #174EA6;\n",
              "    }\n",
              "\n",
              "    .colab-df-buttons div {\n",
              "      margin-bottom: 4px;\n",
              "    }\n",
              "\n",
              "    [theme=dark] .colab-df-convert {\n",
              "      background-color: #3B4455;\n",
              "      fill: #D2E3FC;\n",
              "    }\n",
              "\n",
              "    [theme=dark] .colab-df-convert:hover {\n",
              "      background-color: #434B5C;\n",
              "      box-shadow: 0px 1px 3px 1px rgba(0, 0, 0, 0.15);\n",
              "      filter: drop-shadow(0px 1px 2px rgba(0, 0, 0, 0.3));\n",
              "      fill: #FFFFFF;\n",
              "    }\n",
              "  </style>\n",
              "\n",
              "    <script>\n",
              "      const buttonEl =\n",
              "        document.querySelector('#df-9a7e655d-010a-4527-9e90-1d75ca58881f button.colab-df-convert');\n",
              "      buttonEl.style.display =\n",
              "        google.colab.kernel.accessAllowed ? 'block' : 'none';\n",
              "\n",
              "      async function convertToInteractive(key) {\n",
              "        const element = document.querySelector('#df-9a7e655d-010a-4527-9e90-1d75ca58881f');\n",
              "        const dataTable =\n",
              "          await google.colab.kernel.invokeFunction('convertToInteractive',\n",
              "                                                    [key], {});\n",
              "        if (!dataTable) return;\n",
              "\n",
              "        const docLinkHtml = 'Like what you see? Visit the ' +\n",
              "          '<a target=\"_blank\" href=https://colab.research.google.com/notebooks/data_table.ipynb>data table notebook</a>'\n",
              "          + ' to learn more about interactive tables.';\n",
              "        element.innerHTML = '';\n",
              "        dataTable['output_type'] = 'display_data';\n",
              "        await google.colab.output.renderOutput(dataTable, element);\n",
              "        const docLink = document.createElement('div');\n",
              "        docLink.innerHTML = docLinkHtml;\n",
              "        element.appendChild(docLink);\n",
              "      }\n",
              "    </script>\n",
              "  </div>\n",
              "\n",
              "\n",
              "<div id=\"df-648c4d7e-d2e2-418f-bd65-6dc1af86a828\">\n",
              "  <button class=\"colab-df-quickchart\" onclick=\"quickchart('df-648c4d7e-d2e2-418f-bd65-6dc1af86a828')\"\n",
              "            title=\"Suggest charts.\"\n",
              "            style=\"display:none;\">\n",
              "\n",
              "<svg xmlns=\"http://www.w3.org/2000/svg\" height=\"24px\"viewBox=\"0 0 24 24\"\n",
              "     width=\"24px\">\n",
              "    <g>\n",
              "        <path d=\"M19 3H5c-1.1 0-2 .9-2 2v14c0 1.1.9 2 2 2h14c1.1 0 2-.9 2-2V5c0-1.1-.9-2-2-2zM9 17H7v-7h2v7zm4 0h-2V7h2v10zm4 0h-2v-4h2v4z\"/>\n",
              "    </g>\n",
              "</svg>\n",
              "  </button>\n",
              "\n",
              "<style>\n",
              "  .colab-df-quickchart {\n",
              "      --bg-color: #E8F0FE;\n",
              "      --fill-color: #1967D2;\n",
              "      --hover-bg-color: #E2EBFA;\n",
              "      --hover-fill-color: #174EA6;\n",
              "      --disabled-fill-color: #AAA;\n",
              "      --disabled-bg-color: #DDD;\n",
              "  }\n",
              "\n",
              "  [theme=dark] .colab-df-quickchart {\n",
              "      --bg-color: #3B4455;\n",
              "      --fill-color: #D2E3FC;\n",
              "      --hover-bg-color: #434B5C;\n",
              "      --hover-fill-color: #FFFFFF;\n",
              "      --disabled-bg-color: #3B4455;\n",
              "      --disabled-fill-color: #666;\n",
              "  }\n",
              "\n",
              "  .colab-df-quickchart {\n",
              "    background-color: var(--bg-color);\n",
              "    border: none;\n",
              "    border-radius: 50%;\n",
              "    cursor: pointer;\n",
              "    display: none;\n",
              "    fill: var(--fill-color);\n",
              "    height: 32px;\n",
              "    padding: 0;\n",
              "    width: 32px;\n",
              "  }\n",
              "\n",
              "  .colab-df-quickchart:hover {\n",
              "    background-color: var(--hover-bg-color);\n",
              "    box-shadow: 0 1px 2px rgba(60, 64, 67, 0.3), 0 1px 3px 1px rgba(60, 64, 67, 0.15);\n",
              "    fill: var(--button-hover-fill-color);\n",
              "  }\n",
              "\n",
              "  .colab-df-quickchart-complete:disabled,\n",
              "  .colab-df-quickchart-complete:disabled:hover {\n",
              "    background-color: var(--disabled-bg-color);\n",
              "    fill: var(--disabled-fill-color);\n",
              "    box-shadow: none;\n",
              "  }\n",
              "\n",
              "  .colab-df-spinner {\n",
              "    border: 2px solid var(--fill-color);\n",
              "    border-color: transparent;\n",
              "    border-bottom-color: var(--fill-color);\n",
              "    animation:\n",
              "      spin 1s steps(1) infinite;\n",
              "  }\n",
              "\n",
              "  @keyframes spin {\n",
              "    0% {\n",
              "      border-color: transparent;\n",
              "      border-bottom-color: var(--fill-color);\n",
              "      border-left-color: var(--fill-color);\n",
              "    }\n",
              "    20% {\n",
              "      border-color: transparent;\n",
              "      border-left-color: var(--fill-color);\n",
              "      border-top-color: var(--fill-color);\n",
              "    }\n",
              "    30% {\n",
              "      border-color: transparent;\n",
              "      border-left-color: var(--fill-color);\n",
              "      border-top-color: var(--fill-color);\n",
              "      border-right-color: var(--fill-color);\n",
              "    }\n",
              "    40% {\n",
              "      border-color: transparent;\n",
              "      border-right-color: var(--fill-color);\n",
              "      border-top-color: var(--fill-color);\n",
              "    }\n",
              "    60% {\n",
              "      border-color: transparent;\n",
              "      border-right-color: var(--fill-color);\n",
              "    }\n",
              "    80% {\n",
              "      border-color: transparent;\n",
              "      border-right-color: var(--fill-color);\n",
              "      border-bottom-color: var(--fill-color);\n",
              "    }\n",
              "    90% {\n",
              "      border-color: transparent;\n",
              "      border-bottom-color: var(--fill-color);\n",
              "    }\n",
              "  }\n",
              "</style>\n",
              "\n",
              "  <script>\n",
              "    async function quickchart(key) {\n",
              "      const quickchartButtonEl =\n",
              "        document.querySelector('#' + key + ' button');\n",
              "      quickchartButtonEl.disabled = true;  // To prevent multiple clicks.\n",
              "      quickchartButtonEl.classList.add('colab-df-spinner');\n",
              "      try {\n",
              "        const charts = await google.colab.kernel.invokeFunction(\n",
              "            'suggestCharts', [key], {});\n",
              "      } catch (error) {\n",
              "        console.error('Error during call to suggestCharts:', error);\n",
              "      }\n",
              "      quickchartButtonEl.classList.remove('colab-df-spinner');\n",
              "      quickchartButtonEl.classList.add('colab-df-quickchart-complete');\n",
              "    }\n",
              "    (() => {\n",
              "      let quickchartButtonEl =\n",
              "        document.querySelector('#df-648c4d7e-d2e2-418f-bd65-6dc1af86a828 button');\n",
              "      quickchartButtonEl.style.display =\n",
              "        google.colab.kernel.accessAllowed ? 'block' : 'none';\n",
              "    })();\n",
              "  </script>\n",
              "</div>\n",
              "    </div>\n",
              "  </div>\n"
            ]
          },
          "metadata": {},
          "execution_count": 15
        }
      ]
    },
    {
      "cell_type": "code",
      "source": [
        "# заментим, что длина транзакицй разная\n",
        "len(df_test.Data[1])"
      ],
      "metadata": {
        "colab": {
          "base_uri": "https://localhost:8080/"
        },
        "id": "7vFWmD1EqADv",
        "outputId": "4de7add3-6fa1-4e15-b567-f90a1b455137"
      },
      "execution_count": null,
      "outputs": [
        {
          "output_type": "execute_result",
          "data": {
            "text/plain": [
              "42"
            ]
          },
          "metadata": {},
          "execution_count": 16
        }
      ]
    },
    {
      "cell_type": "code",
      "source": [
        "df_test.shape"
      ],
      "metadata": {
        "execution": {
          "iopub.status.busy": "2022-04-29T11:14:11.552066Z",
          "iopub.execute_input": "2022-04-29T11:14:11.552565Z",
          "iopub.status.idle": "2022-04-29T11:14:11.558796Z",
          "shell.execute_reply.started": "2022-04-29T11:14:11.552523Z",
          "shell.execute_reply": "2022-04-29T11:14:11.558211Z"
        },
        "trusted": true,
        "colab": {
          "base_uri": "https://localhost:8080/"
        },
        "id": "p-y6b8iQdEJo",
        "outputId": "80384e88-c389-4258-c330-aabed51d3d57"
      },
      "execution_count": null,
      "outputs": [
        {
          "output_type": "execute_result",
          "data": {
            "text/plain": [
              "(7033, 2)"
            ]
          },
          "metadata": {},
          "execution_count": 17
        }
      ]
    },
    {
      "cell_type": "code",
      "source": [
        "df_test.dtypes"
      ],
      "metadata": {
        "execution": {
          "iopub.status.busy": "2022-04-29T11:14:11.5598Z",
          "iopub.execute_input": "2022-04-29T11:14:11.560312Z",
          "iopub.status.idle": "2022-04-29T11:14:11.57612Z",
          "shell.execute_reply.started": "2022-04-29T11:14:11.560283Z",
          "shell.execute_reply": "2022-04-29T11:14:11.575412Z"
        },
        "trusted": true,
        "colab": {
          "base_uri": "https://localhost:8080/"
        },
        "id": "OrYHf3lYdEJo",
        "outputId": "1a7b1a8f-ffb1-462d-a7f2-3899c66ef091"
      },
      "execution_count": null,
      "outputs": [
        {
          "output_type": "execute_result",
          "data": {
            "text/plain": [
              "Id       int64\n",
              "Data    object\n",
              "dtype: object"
            ]
          },
          "metadata": {},
          "execution_count": 18
        }
      ]
    },
    {
      "cell_type": "markdown",
      "source": [
        "## Baseline 1: топ10 MCC-кодов из train-части"
      ],
      "metadata": {
        "id": "N7u1IMJ3dEJp"
      }
    },
    {
      "cell_type": "markdown",
      "source": [
        "MCC-код и соответствующее количество вхождений в train-часть"
      ],
      "metadata": {
        "id": "a_eI1pFOdEJp"
      }
    },
    {
      "cell_type": "code",
      "source": [
        "\n",
        "top10_codes = df_train['Data'].explode().value_counts().head(10)\n",
        "top10_codes"
      ],
      "metadata": {
        "execution": {
          "iopub.status.busy": "2022-04-29T11:14:11.578071Z",
          "iopub.execute_input": "2022-04-29T11:14:11.578638Z",
          "iopub.status.idle": "2022-04-29T11:14:11.870233Z",
          "shell.execute_reply.started": "2022-04-29T11:14:11.578596Z",
          "shell.execute_reply": "2022-04-29T11:14:11.869407Z"
        },
        "trusted": true,
        "colab": {
          "base_uri": "https://localhost:8080/"
        },
        "id": "yEDkDjrZdEJp",
        "outputId": "d79ecbd9-f84e-4a3b-ee3c-1c5c3cefeb53"
      },
      "execution_count": null,
      "outputs": [
        {
          "output_type": "execute_result",
          "data": {
            "text/plain": [
              "6011    700677\n",
              "6010    490602\n",
              "4814    473396\n",
              "5411    472408\n",
              "4829    307388\n",
              "5499    164719\n",
              "5541     68224\n",
              "5912     65071\n",
              "5331     61833\n",
              "5812     52029\n",
              "Name: Data, dtype: int64"
            ]
          },
          "metadata": {},
          "execution_count": 76
        }
      ]
    },
    {
      "cell_type": "code",
      "source": [
        "labelss = df_train['Data'].explode()\n",
        "labelss"
      ],
      "metadata": {
        "colab": {
          "base_uri": "https://localhost:8080/"
        },
        "id": "uo9URbGkhp7Z",
        "outputId": "bdc5626b-4e1f-49bf-bb0a-3b7dd76225f7"
      },
      "execution_count": null,
      "outputs": [
        {
          "output_type": "execute_result",
          "data": {
            "text/plain": [
              "0       4814\n",
              "0       4814\n",
              "0       6010\n",
              "0       6011\n",
              "0       4814\n",
              "        ... \n",
              "7032    6011\n",
              "7032    6010\n",
              "7032    6011\n",
              "7032    4814\n",
              "7032    6012\n",
              "Name: Data, Length: 3328880, dtype: object"
            ]
          },
          "metadata": {},
          "execution_count": 75
        }
      ]
    },
    {
      "cell_type": "code",
      "source": [
        "mapk(df_train['Target'], [top10_codes.index]*len(df_train))"
      ],
      "metadata": {
        "execution": {
          "iopub.status.busy": "2022-04-29T11:14:11.871565Z",
          "iopub.execute_input": "2022-04-29T11:14:11.871904Z",
          "iopub.status.idle": "2022-04-29T11:14:12.116585Z",
          "shell.execute_reply.started": "2022-04-29T11:14:11.871871Z",
          "shell.execute_reply": "2022-04-29T11:14:12.115645Z"
        },
        "trusted": true,
        "colab": {
          "base_uri": "https://localhost:8080/"
        },
        "id": "jDb0uwcldEJp",
        "outputId": "7c8ce5ac-1d23-4562-98b0-b62fc79463ae"
      },
      "execution_count": null,
      "outputs": [
        {
          "output_type": "execute_result",
          "data": {
            "text/plain": [
              "0.2742435829727881"
            ]
          },
          "metadata": {},
          "execution_count": 20
        }
      ]
    },
    {
      "cell_type": "markdown",
      "source": [
        "## Baseline 2: cамые популярные транзакции пользователя."
      ],
      "metadata": {
        "id": "WH5mLXWzdEJp"
      }
    },
    {
      "cell_type": "markdown",
      "source": [
        "**Если таких менее 10, то замешиваются топ10 популярных из всей выборки.**"
      ],
      "metadata": {
        "id": "OsT8JMD5dEJp"
      }
    },
    {
      "cell_type": "code",
      "source": [
        "def get_top_codes(transactions, top_n=10, drop_from=5):\n",
        "    transactions_stats = sorted(\n",
        "        Counter(transactions).items(),\n",
        "        key=lambda x: x[1],\n",
        "        reverse=True\n",
        "    )[:top_n]\n",
        "\n",
        "\n",
        "    top_codes = [mcc_code for (mcc_code, count) in transactions_stats if count >= drop_from]\n",
        "    top_codes += list(top10_codes.index)\n",
        "\n",
        "    return top_codes[:10]"
      ],
      "metadata": {
        "execution": {
          "iopub.status.busy": "2022-04-29T11:27:16.705186Z",
          "iopub.execute_input": "2022-04-29T11:27:16.705475Z",
          "iopub.status.idle": "2022-04-29T11:27:16.712016Z",
          "shell.execute_reply.started": "2022-04-29T11:27:16.705447Z",
          "shell.execute_reply": "2022-04-29T11:27:16.711084Z"
        },
        "trusted": true,
        "id": "QVWyXR2NdEJq"
      },
      "execution_count": null,
      "outputs": []
    },
    {
      "cell_type": "code",
      "source": [
        "df_train['pred_baseline_2'] = df_train['Data'].apply(get_top_codes)"
      ],
      "metadata": {
        "execution": {
          "iopub.status.busy": "2022-04-29T11:27:24.581009Z",
          "iopub.execute_input": "2022-04-29T11:27:24.581273Z",
          "iopub.status.idle": "2022-04-29T11:27:24.956126Z",
          "shell.execute_reply.started": "2022-04-29T11:27:24.581246Z",
          "shell.execute_reply": "2022-04-29T11:27:24.955270Z"
        },
        "trusted": true,
        "id": "z3SHEqa8dEJq"
      },
      "execution_count": null,
      "outputs": []
    },
    {
      "cell_type": "code",
      "source": [
        "mapk(df_train['Target'], df_train['pred_baseline_2'])"
      ],
      "metadata": {
        "execution": {
          "iopub.status.busy": "2022-04-29T11:27:25.726524Z",
          "iopub.execute_input": "2022-04-29T11:27:25.726792Z",
          "iopub.status.idle": "2022-04-29T11:27:25.768098Z",
          "shell.execute_reply.started": "2022-04-29T11:27:25.726763Z",
          "shell.execute_reply": "2022-04-29T11:27:25.767230Z"
        },
        "trusted": true,
        "colab": {
          "base_uri": "https://localhost:8080/"
        },
        "id": "JX0FZsPsdEJq",
        "outputId": "7af4aacb-1bb2-418b-8dd3-d76e7ae000fe"
      },
      "execution_count": null,
      "outputs": [
        {
          "output_type": "execute_result",
          "data": {
            "text/plain": [
              "0.3236094127683776"
            ]
          },
          "metadata": {},
          "execution_count": 57
        }
      ]
    },
    {
      "cell_type": "markdown",
      "source": [
        "## Baseline 3: cамые популярные транзакции пользователя без популярных со всей выборки."
      ],
      "metadata": {
        "id": "vu9EOwpY_Pct"
      }
    },
    {
      "cell_type": "code",
      "source": [
        "# больше чем x процентов относительно всех транзакций - возможно это уже не\n",
        "# спонтанная или редкая транзакция\n",
        "import random\n",
        "\n",
        "def custom_weighted_random(probabilities):\n",
        "    # Предполагаем, что сумма вероятностей равна 1\n",
        "    #print(sum(probabilities))\n",
        "    # assert sum(probabilities) == 1\n",
        "\n",
        "    #print(probabilities)\n",
        "    # Создаем массив вероятностей\n",
        "    probability_array = np.cumsum(list(probabilities))\n",
        "    #print(probability_array)\n",
        "\n",
        "    # Генерируем случайное число от 0 до 1\n",
        "    random_number = np.random.random()\n",
        "\n",
        "    index = 0\n",
        "    while random_number > probability_array[index]:\n",
        "        index += 1\n",
        "\n",
        "    return index\n",
        "\n",
        "\n",
        "\n",
        "\n",
        "def get_top_user_codes(transactions, top_n=10, drop_from_percent=0.00):\n",
        "\n",
        "    #print(\"start action\\n\")\n",
        "    transactions_stats = sorted(\n",
        "        Counter(transactions).items(),\n",
        "        key=lambda x: x[1],\n",
        "        reverse=True\n",
        "    )[:top_n]\n",
        "\n",
        "\n",
        "    trans_count = len(transactions)\n",
        "    #print(trans_count, transactions_stats)\n",
        "\n",
        "    # промежуточный результат\n",
        "    top_codes = [mcc_code for (mcc_code, count) in transactions_stats if count/trans_count >= drop_from_percent]\n",
        "    #print(top_codes)\n",
        "\n",
        "\n",
        "\n",
        "\n",
        "    # вдруг все значения оказались очень уникальными, дополним общими популярными\n",
        "    if not top_codes:\n",
        "      top_codes = list(top10_codes.index)\n",
        "      reweightd_probs = dict()\n",
        "    else:\n",
        "      # расчитаем вероятность возникновения каждого кода у данного пользователя\n",
        "      probs = {mcc_code : count/trans_count for (mcc_code, count) in transactions_stats if count/trans_count >= drop_from_percent}\n",
        "      probs_sum = sum(list(probs.values()))\n",
        "      reweightd_probs = {mcc_code : i/probs_sum for mcc_code, i in probs.items()}\n",
        "\n",
        "    # а вдруг у клиента все транзакции уникальны и не наберётся и x процентов\n",
        "    if not reweightd_probs:\n",
        "      popular_sum = sum(list(top10_codes.values))\n",
        "      reweightd_probs = dict(zip(list(top10_codes.index), [i/popular_sum for i in list(top10_codes.index)]))\n",
        "\n",
        "    # смотрим, чтобы в принцепи у клиента было как минимум x уникальных мсс кодов\n",
        "    # и чтобы эти коды были частыми, как минимум x процентов от общего числа транзакций\n",
        "\n",
        "    arr = list(reweightd_probs.keys())\n",
        "    #print(reweightd_probs)\n",
        "    while len(top_codes) < 10:\n",
        "      idx = custom_weighted_random(reweightd_probs.values())\n",
        "      top_codes.append(arr[idx])\n",
        "      #print(arr[idx])\n",
        "\n",
        "    return top_codes[:10]"
      ],
      "metadata": {
        "id": "NU8vQKnt_Wip"
      },
      "execution_count": null,
      "outputs": []
    },
    {
      "cell_type": "code",
      "source": [
        "df_train['pred_baseline_3'] = df_train['Data'].apply(get_top_user_codes)"
      ],
      "metadata": {
        "id": "h13hR0XeGbbk"
      },
      "execution_count": null,
      "outputs": []
    },
    {
      "cell_type": "code",
      "source": [
        "df_train['pred_baseline_3'][0]"
      ],
      "metadata": {
        "colab": {
          "base_uri": "https://localhost:8080/"
        },
        "id": "SBz6sXmYKh_2",
        "outputId": "92be8c6e-0cf3-43af-d232-6afcf93c91cf"
      },
      "execution_count": null,
      "outputs": [
        {
          "output_type": "execute_result",
          "data": {
            "text/plain": [
              "[4814, 6011, 5311, 5411, 5921, 6010, 4814, 4814, 4814, 6011]"
            ]
          },
          "metadata": {},
          "execution_count": 44
        }
      ]
    },
    {
      "cell_type": "code",
      "source": [
        "df_train['Target'][0]"
      ],
      "metadata": {
        "colab": {
          "base_uri": "https://localhost:8080/"
        },
        "id": "EfQYCLYTN4y0",
        "outputId": "05c5a8a3-b882-4daa-89bb-9f8c412fb252"
      },
      "execution_count": null,
      "outputs": [
        {
          "output_type": "execute_result",
          "data": {
            "text/plain": [
              "[4814, 4814, 4814, 4814, 5411, 4814, 4814, 4814, 4814, 4814]"
            ]
          },
          "metadata": {},
          "execution_count": 45
        }
      ]
    },
    {
      "cell_type": "code",
      "source": [
        "mapk(df_train['Target'], df_train['pred_baseline_3'])"
      ],
      "metadata": {
        "colab": {
          "base_uri": "https://localhost:8080/"
        },
        "id": "lvafv824NZfT",
        "outputId": "d999d9e3-2646-468f-9427-b125c5ca960d"
      },
      "execution_count": null,
      "outputs": [
        {
          "output_type": "execute_result",
          "data": {
            "text/plain": [
              "0.32994401111314237"
            ]
          },
          "metadata": {},
          "execution_count": 47
        }
      ]
    },
    {
      "cell_type": "markdown",
      "source": [
        "# ** Тип данных - последовательность. Возможно рассмотрение транзакций в виде временного категориального ряда, как моделировать?**"
      ],
      "metadata": {
        "id": "SdNX-dN1P8Rc"
      }
    },
    {
      "cell_type": "code",
      "source": [
        "min([len(i.Data) for _, i in df_train.iterrows()])"
      ],
      "metadata": {
        "colab": {
          "base_uri": "https://localhost:8080/"
        },
        "id": "kyOTxpMDSYJH",
        "outputId": "6c24bd03-1b42-4e0d-e2cc-50ef66df4ca6"
      },
      "execution_count": null,
      "outputs": [
        {
          "output_type": "execute_result",
          "data": {
            "text/plain": [
              "40"
            ]
          },
          "metadata": {},
          "execution_count": 30
        }
      ]
    },
    {
      "cell_type": "code",
      "source": [
        "def sample(preds, temperature):\n",
        "    # helper function to sample an index from a probability array\n",
        "    #print(preds)\n",
        "    preds = np.asarray(preds[0]).astype(\"float64\")\n",
        "    preds = np.log(preds) / temperature\n",
        "    exp_preds = np.exp(preds)\n",
        "    preds = exp_preds / np.sum(exp_preds)\n",
        "    #print(preds.shape)\n",
        "    probas = np.random.multinomial(1, preds, 1)\n",
        "    return np.argmax(probas)\n"
      ],
      "metadata": {
        "id": "Z3X_y0pIP_ZR"
      },
      "execution_count": null,
      "outputs": []
    },
    {
      "cell_type": "code",
      "source": [
        "temp = df_train['Data'].explode().value_counts()"
      ],
      "metadata": {
        "id": "aFm3jXqlg8ww"
      },
      "execution_count": null,
      "outputs": []
    },
    {
      "cell_type": "code",
      "source": [
        "temp.values"
      ],
      "metadata": {
        "colab": {
          "base_uri": "https://localhost:8080/"
        },
        "id": "68K5JqJsiHT4",
        "outputId": "8eaf9055-c858-4abd-d45c-4ebafbe3ef08"
      },
      "execution_count": null,
      "outputs": [
        {
          "output_type": "execute_result",
          "data": {
            "text/plain": [
              "array([700677, 490602, 473396, 472408, 307388, 164719,  68224,  65071,\n",
              "        61833,  52029,  47010,  28977,  25985,  17171,  16852,  16533,\n",
              "        14597,  14042,  13814,  11656,  11610,  11553,  11297,  10774,\n",
              "         9917,   9742,   9357,   7881,   7767,   6607,   6606,   6569,\n",
              "         6507,   6133,   6123,   6112,   5542,   5229,   5125,   4823,\n",
              "         4456,   4354,   4144,   4006,   3913,   3787,   3761,   3708,\n",
              "         3569,   3080,   2967,   2829,   2798,   2625,   2518,   2448,\n",
              "         2269,   2204,   2061,   1721,   1632,   1600,   1563,   1443,\n",
              "         1417,   1412,   1391,   1391,   1375,   1301,   1266,   1194,\n",
              "         1111,   1075,   1044,   1005,    950,    947,    908,    890,\n",
              "          864,    821,    819,    803,    746,    713,    669,    657,\n",
              "          628,    606,    600,    572,    556,    549,    539,    533,\n",
              "          442,    391,    360,    341,    340,    305,    294,    285,\n",
              "          279,    272,    258,    250,    248,    239,    232,    229,\n",
              "          225,    215,    212,    205,    201,    195,    190,    181,\n",
              "          179,    177,    176,    173,    171,    157,    154,    151,\n",
              "          150,    148,    147,    144,    142,    139,    134,    121,\n",
              "          116,    109,    108,    104,    103,    102,    101,    101,\n",
              "           94,     93,     92,     91,     84,     83,     83,     78,\n",
              "           71,     71,     71,     70,     69,     64,     63,     61,\n",
              "           56,     56,     56,     55,     51,     49,     47,     47,\n",
              "           45,     41,     39,     37,     36,     35,     35,     29,\n",
              "           26,     25,     25,     24,     23,     19,     13,     11])"
            ]
          },
          "metadata": {},
          "execution_count": 81
        }
      ]
    },
    {
      "cell_type": "code",
      "source": [
        "from sklearn.utils.class_weight import compute_class_weight\n",
        "class_weights = compute_class_weight(class_weight='balanced', classes=list(temp.index), y=labelss)\n",
        "class_weights = dict(zip(list(temp.index), class_weights))"
      ],
      "metadata": {
        "id": "JHPQDx27gsnn"
      },
      "execution_count": null,
      "outputs": []
    },
    {
      "cell_type": "code",
      "source": [
        "class_weights"
      ],
      "metadata": {
        "colab": {
          "base_uri": "https://localhost:8080/"
        },
        "id": "qINVGTqfiQcd",
        "outputId": "3ee63c30-5cf1-4a64-f3fe-aa6775ecb060"
      },
      "execution_count": null,
      "outputs": [
        {
          "output_type": "execute_result",
          "data": {
            "text/plain": [
              "{6011: 0.0258203696288515,\n",
              " 6010: 0.036876611042015284,\n",
              " 4814: 0.038216924372902986,\n",
              " 5411: 0.03829685172654736,\n",
              " 4829: 0.058856361115055836,\n",
              " 5499: 0.10983395437341643,\n",
              " 5541: 0.26518144832368057,\n",
              " 5912: 0.278030753030302,\n",
              " 5331: 0.2925903503054159,\n",
              " 5812: 0.3477241371241958,\n",
              " 5814: 0.38484873708646633,\n",
              " 5921: 0.6243482462102627,\n",
              " 5999: 0.6962377960529068,\n",
              " 5977: 1.0536217535632626,\n",
              " 5311: 1.0735662906737944,\n",
              " 5964: 1.0942804772536614,\n",
              " 5691: 1.239414888705541,\n",
              " 5983: 1.2884018751199817,\n",
              " 5211: 1.3096669415400886,\n",
              " 8999: 1.5521395959535675,\n",
              " 5735: 1.5582893307868029,\n",
              " 5200: 1.565977592870664,\n",
              " 7995: 1.601464028541629,\n",
              " 5661: 1.6792035576791147,\n",
              " 7311: 1.824315733632629,\n",
              " 5533: 1.8570867512250855,\n",
              " 6012: 1.9334978230666648,\n",
              " 5641: 2.295614659362363,\n",
              " 5651: 2.3293085014078514,\n",
              " 5722: 2.7382683714900535,\n",
              " 4112: 2.738682883807869,\n",
              " 5945: 2.75410855996876,\n",
              " 4812: 2.7803502582503126,\n",
              " 5941: 2.949900396288078,\n",
              " 4900: 2.954718133339014,\n",
              " 5261: 2.960035852492602,\n",
              " 5732: 3.2644783707027756,\n",
              " 5699: 3.4598850890102852,\n",
              " 7994: 3.5300954400848354,\n",
              " 7399: 3.751138115371093,\n",
              " 5995: 4.060085083131684,\n",
              " 5942: 4.155199616544507,\n",
              " 5813: 4.365767164680208,\n",
              " 5712: 4.516160541796002,\n",
              " 5621: 4.623495816620185,\n",
              " 8099: 4.777327470407918,\n",
              " 7832: 4.810353398148041,\n",
              " 4816: 4.879109797851883,\n",
              " 6051: 5.06913396761972,\n",
              " 5399: 5.873941276115189,\n",
              " 5943: 6.097653903078794,\n",
              " 5944: 6.395100434936296,\n",
              " 5992: 6.465953942256892,\n",
              " 4121: 6.892091097308489,\n",
              " 4511: 7.1849639120074595,\n",
              " 6536: 7.390416311452117,\n",
              " 7011: 7.973441661716519,\n",
              " 5251: 8.20859307188511,\n",
              " 7230: 8.77813640486889,\n",
              " 5655: 10.512341156557108,\n",
              " 5300: 11.085624467178176,\n",
              " 5947: 11.30733695652174,\n",
              " 5511: 11.575009040585273,\n",
              " 5719: 12.537587754979059,\n",
              " 5631: 12.767635236721794,\n",
              " 4789: 12.81284640965636,\n",
              " 4111: 13.00628262432407,\n",
              " 3000: 13.00628262432407,\n",
              " 7997: 13.157628458498024,\n",
              " 4722: 13.906025465361093,\n",
              " 5734: 14.290473246788927,\n",
              " 7538: 15.152210326997306,\n",
              " 8021: 16.28419363675498,\n",
              " 7298: 16.82952477249747,\n",
              " 7523: 17.32925204064634,\n",
              " 7542: 18.00173047804456,\n",
              " 5714: 19.043935926773454,\n",
              " 8043: 19.1042651852532,\n",
              " 5948: 19.92482283087531,\n",
              " 7999: 20.327796775769418,\n",
              " 4899: 20.939512882447666,\n",
              " 5611: 22.036223057776837,\n",
              " 7922: 22.09003556829644,\n",
              " 9399: 22.530185716606205,\n",
              " 5811: 24.2516610327544,\n",
              " 6300: 25.374108177327887,\n",
              " 7299: 27.042958341457073,\n",
              " 5309: 27.536893653629807,\n",
              " 5422: 28.808501800055385,\n",
              " 5441: 29.85435500071746,\n",
              " 5462: 30.152898550724636,\n",
              " 8641: 31.628914563697172,\n",
              " 8011: 32.539099155458246,\n",
              " 5949: 32.95398748713075,\n",
              " 7993: 33.565378720658224,\n",
              " 4784: 33.94322538543111,\n",
              " 5993: 40.931536494196344,\n",
              " 5451: 46.270432558656736,\n",
              " 5542: 50.25483091787439,\n",
              " 5681: 53.05495346168558,\n",
              " 6211: 53.210997442455245,\n",
              " 5045: 59.317177476835354,\n",
              " 5192: 61.53652765454008,\n",
              " 5231: 63.47978642257819,\n",
              " 5994: 64.84494311983794,\n",
              " 5532: 66.51374680306905,\n",
              " 5946: 70.12301988540614,\n",
              " 5816: 72.36695652173913,\n",
              " 8398: 72.95056100981768,\n",
              " 5013: 75.6976532654175,\n",
              " 5967: 77.98163418290855,\n",
              " 5950: 79.00322764382001,\n",
              " 7991: 80.40772946859903,\n",
              " 9222: 84.14762386248736,\n",
              " 5968: 85.33839212469238,\n",
              " 4215: 88.25238600212089,\n",
              " 3501: 90.00865239022279,\n",
              " 5931: 92.77814938684504,\n",
              " 7372: 95.21967963386727,\n",
              " 8062: 99.95435983665625,\n",
              " 5039: 101.0711683264513,\n",
              " 5122: 102.21321542618522,\n",
              " 8299: 102.79397233201581,\n",
              " 4214: 104.57652676551898,\n",
              " 7933: 105.7996440376303,\n",
              " 742: 115.23400720022154,\n",
              " 5199: 117.47882552230378,\n",
              " 5099: 119.81284192340915,\n",
              " 7273: 120.61159420289854,\n",
              " 5193: 122.24148061104583,\n",
              " 7996: 123.07305530908016,\n",
              " 4131: 125.637077294686,\n",
              " 7841: 127.40661359461114,\n",
              " 8071: 130.15639662183298,\n",
              " 5310: 135.0129785853342,\n",
              " 5713: 149.5185052102048,\n",
              " 5065: 155.9632683658171,\n",
              " 5074: 165.97925807738332,\n",
              " 7221: 167.51610305958133,\n",
              " 5599: 173.95903010033445,\n",
              " 5085: 175.64795272266778,\n",
              " 5940: 177.36999147485082,\n",
              " 5733: 179.12613000430477,\n",
              " 7512: 179.12613000430477,\n",
              " 5976: 192.46530989824237,\n",
              " 7216: 194.5348293595138,\n",
              " 9311: 196.64933837429112,\n",
              " 5970: 198.81032011466795,\n",
              " 7699: 215.37784679089026,\n",
              " 5965: 217.97276060764798,\n",
              " 5111: 217.97276060764798,\n",
              " 7375: 231.9453734671126,\n",
              " 5131: 254.8132271892223,\n",
              " 5094: 254.8132271892223,\n",
              " 5137: 254.8132271892223,\n",
              " 7278: 258.45341614906835,\n",
              " 5072: 262.19911783238814,\n",
              " 7210: 282.6834239130435,\n",
              " 5571: 287.1704623878537,\n",
              " 1711: 296.5858873841768,\n",
              " 5172: 323.0667701863354,\n",
              " 7395: 323.0667701863354,\n",
              " 4411: 323.0667701863354,\n",
              " 1799: 328.94071146245057,\n",
              " 7932: 354.73998294970164,\n",
              " 8699: 369.21916592724045,\n",
              " 5969: 384.93061979648473,\n",
              " 8220: 384.93061979648473,\n",
              " 5044: 402.03864734299515,\n",
              " 7338: 441.26193001060443,\n",
              " 1731: 463.8907469342252,\n",
              " 3351: 488.9659224441833,\n",
              " 5971: 502.548309178744,\n",
              " 5169: 516.9068322981367,\n",
              " 5047: 516.9068322981367,\n",
              " 7829: 623.8530734632684,\n",
              " 2741: 695.8361204013378,\n",
              " 9211: 723.6695652173913,\n",
              " 7531: 723.6695652173913,\n",
              " 9402: 753.822463768116,\n",
              " 6513: 786.5973534971645,\n",
              " 5697: 952.1967963386728,\n",
              " 8244: 1391.6722408026756,\n",
              " 7629: 1644.703557312253}"
            ]
          },
          "metadata": {},
          "execution_count": 87
        }
      ]
    },
    {
      "cell_type": "code",
      "source": [
        "def custom_weighted_random(probabilities):\n",
        "    # Предполагаем, что сумма вероятностей равна 1\n",
        "    #print(sum(probabilities))\n",
        "    # assert sum(probabilities) == 1\n",
        "\n",
        "    #print(probabilities)\n",
        "    # Создаем массив вероятностей\n",
        "    probability_array = np.cumsum(list(probabilities))\n",
        "    #print(probability_array)\n",
        "\n",
        "    # Генерируем случайное число от 0 до 1\n",
        "    random_number = np.random.random()\n",
        "\n",
        "    index = 0\n",
        "    while random_number > probability_array[index]:\n",
        "        index += 1\n",
        "\n",
        "    return index"
      ],
      "metadata": {
        "id": "PRA3dlK4n42B"
      },
      "execution_count": null,
      "outputs": []
    },
    {
      "cell_type": "code",
      "source": [
        "\n",
        "# закодируем мсс коды вероятностями их возникновения\n",
        "\n",
        "def predict_seq(trans):\n",
        "\n",
        "  pred_length = 10\n",
        "\n",
        "  transactions_stats = sorted(\n",
        "        Counter(trans).items(),\n",
        "        key=lambda x: x[1],\n",
        "        reverse=True\n",
        "    )\n",
        "\n",
        "  # нашли вероятности появления мсс кодов\n",
        "  trans_count = len(trans)\n",
        "  mcc2probs = {mcc_code : count/trans_count for (mcc_code, count) in transactions_stats}\n",
        "  # probs2mcc = {count/trans_count : mcc_code for (mcc_code, count) in transactions_stats}\n",
        "\n",
        "  # гиперпараметры\n",
        "  window = 100\n",
        "  forget_rate = 0.8\n",
        "\n",
        "  trans_len = len(trans)\n",
        "  win_arr = trans[trans_len-window:]\n",
        "  coefs = [forget_rate**i for i in range(window)[::-1]]\n",
        "\n",
        "  #print(coefs)\n",
        "  #print(mcc2probs)\n",
        "  #print(\" \")\n",
        "\n",
        "  trans10 = []\n",
        "\n",
        "  i = 0\n",
        "  while i < pred_length:\n",
        "\n",
        "    print(i)\n",
        "    # значения во временном окне\n",
        "    mcc2values = dict(zip(win_arr, window*[0]))\n",
        "\n",
        "\n",
        "    # считаем авторегрессионные значения\n",
        "    values = [i*mcc2probs[j]*class_weights[j] for i, j in zip(coefs, win_arr)]\n",
        "\n",
        "\n",
        "    summa = sum(values)\n",
        "\n",
        "    for j, val in zip(win_arr, values):\n",
        "      mcc2values[j] += val/summa\n",
        "\n",
        "    arr = list(mcc2values.keys())\n",
        "    k = custom_weighted_random(mcc2values.values())\n",
        "    mcc_code = arr[k]\n",
        "    print(mcc2values)\n",
        "    #mcc_code = max(mcc2values, key=mcc2values.get)\n",
        "\n",
        "    print(mcc_code)\n",
        "    win_arr.append(mcc_code)\n",
        "    print(win_arr)\n",
        "    win_arr = win_arr[1:]\n",
        "    trans10.append(mcc_code)\n",
        "    i += 1\n",
        "    print()\n",
        "\n",
        "\n",
        "  print(\"generated\", trans10)\n",
        "\n",
        "  return trans10"
      ],
      "metadata": {
        "id": "M2TAegumP7ut"
      },
      "execution_count": null,
      "outputs": []
    },
    {
      "cell_type": "code",
      "source": [
        "# validation\n",
        "\n",
        "for _, i in df_train[[\"Data\", \"Target\"]].iterrows():\n",
        "  trg = predict_seq(i.Data)\n",
        "  print(\"target\", i.Target)\n",
        "  if mapk([trg], [i.Target]) < 0.3:\n",
        "    print(mapk([trg], [i.Target]))\n",
        "    stop = input()\n"
      ],
      "metadata": {
        "id": "jpFjSvDaZTe0"
      },
      "execution_count": null,
      "outputs": []
    },
    {
      "cell_type": "code",
      "source": [
        "mapk([[1,2,3,4,7,7,7,8,9,10]], [[1,2,3,4,7,7,7,8,9,10]])"
      ],
      "metadata": {
        "colab": {
          "base_uri": "https://localhost:8080/"
        },
        "id": "VfG6nS5jacWo",
        "outputId": "a6932cbe-e0af-4c0a-c605-eee945e9c669"
      },
      "execution_count": null,
      "outputs": [
        {
          "output_type": "execute_result",
          "data": {
            "text/plain": [
              "0.1"
            ]
          },
          "metadata": {},
          "execution_count": 40
        }
      ]
    },
    {
      "cell_type": "code",
      "source": [
        "df_train['pred_baseline_4'] = df_train.apply(predict_seq)"
      ],
      "metadata": {
        "colab": {
          "base_uri": "https://localhost:8080/",
          "height": 529
        },
        "id": "HqHwRzjeRlSB",
        "outputId": "1e9d5291-3ecc-4dc3-92d1-6f6162ac0595"
      },
      "execution_count": null,
      "outputs": [
        {
          "output_type": "stream",
          "name": "stdout",
          "text": [
            "0       [4814, 4814, 4814, 4814, 5411, 4814, 4814, 481...\n",
            "1       [4814, 6011, 4814, 6011, 4814, 4814, 6011, 481...\n",
            "2       [6011, 6011, 6010, 4829, 4829, 6010, 6011, 601...\n",
            "3       [6011, 6011, 6010, 6011, 6011, 4814, 4814, 601...\n",
            "4       [5499, 6011, 4814, 4829, 5200, 5411, 5499, 591...\n",
            "                              ...                        \n",
            "7028    [4814, 5499, 5499, 5411, 5251, 4814, 5499, 549...\n",
            "7029    [6011, 5261, 6011, 5261, 4814, 5411, 4814, 601...\n",
            "7030    [6011, 6011, 6011, 6011, 6011, 6011, 6011, 601...\n",
            "7031    [4814, 6011, 6011, 5999, 5999, 6011, 6011, 601...\n",
            "7032    [6011, 4829, 6010, 6011, 6011, 5411, 6011, 554...\n",
            "Name: Target, Length: 7033, dtype: object\n"
          ]
        },
        {
          "output_type": "error",
          "ename": "TypeError",
          "evalue": "ignored",
          "traceback": [
            "\u001b[0;31m---------------------------------------------------------------------------\u001b[0m",
            "\u001b[0;31mTypeError\u001b[0m                                 Traceback (most recent call last)",
            "\u001b[0;32m<ipython-input-30-3ad8f6d8416d>\u001b[0m in \u001b[0;36m<cell line: 1>\u001b[0;34m()\u001b[0m\n\u001b[0;32m----> 1\u001b[0;31m \u001b[0mdf_train\u001b[0m\u001b[0;34m[\u001b[0m\u001b[0;34m'pred_baseline_4'\u001b[0m\u001b[0;34m]\u001b[0m \u001b[0;34m=\u001b[0m \u001b[0mdf_train\u001b[0m\u001b[0;34m[\u001b[0m\u001b[0;34m[\u001b[0m\u001b[0;34m\"Target\"\u001b[0m\u001b[0;34m,\u001b[0m \u001b[0;34m\"Data\"\u001b[0m\u001b[0;34m]\u001b[0m\u001b[0;34m]\u001b[0m\u001b[0;34m.\u001b[0m\u001b[0mapply\u001b[0m\u001b[0;34m(\u001b[0m\u001b[0mpredict_seq\u001b[0m\u001b[0;34m)\u001b[0m\u001b[0;34m\u001b[0m\u001b[0;34m\u001b[0m\u001b[0m\n\u001b[0m",
            "\u001b[0;32m/usr/local/lib/python3.10/dist-packages/pandas/core/frame.py\u001b[0m in \u001b[0;36mapply\u001b[0;34m(self, func, axis, raw, result_type, args, **kwargs)\u001b[0m\n\u001b[1;32m   9566\u001b[0m             \u001b[0mkwargs\u001b[0m\u001b[0;34m=\u001b[0m\u001b[0mkwargs\u001b[0m\u001b[0;34m,\u001b[0m\u001b[0;34m\u001b[0m\u001b[0;34m\u001b[0m\u001b[0m\n\u001b[1;32m   9567\u001b[0m         )\n\u001b[0;32m-> 9568\u001b[0;31m         \u001b[0;32mreturn\u001b[0m \u001b[0mop\u001b[0m\u001b[0;34m.\u001b[0m\u001b[0mapply\u001b[0m\u001b[0;34m(\u001b[0m\u001b[0;34m)\u001b[0m\u001b[0;34m.\u001b[0m\u001b[0m__finalize__\u001b[0m\u001b[0;34m(\u001b[0m\u001b[0mself\u001b[0m\u001b[0;34m,\u001b[0m \u001b[0mmethod\u001b[0m\u001b[0;34m=\u001b[0m\u001b[0;34m\"apply\"\u001b[0m\u001b[0;34m)\u001b[0m\u001b[0;34m\u001b[0m\u001b[0;34m\u001b[0m\u001b[0m\n\u001b[0m\u001b[1;32m   9569\u001b[0m \u001b[0;34m\u001b[0m\u001b[0m\n\u001b[1;32m   9570\u001b[0m     def applymap(\n",
            "\u001b[0;32m/usr/local/lib/python3.10/dist-packages/pandas/core/apply.py\u001b[0m in \u001b[0;36mapply\u001b[0;34m(self)\u001b[0m\n\u001b[1;32m    762\u001b[0m             \u001b[0;32mreturn\u001b[0m \u001b[0mself\u001b[0m\u001b[0;34m.\u001b[0m\u001b[0mapply_raw\u001b[0m\u001b[0;34m(\u001b[0m\u001b[0;34m)\u001b[0m\u001b[0;34m\u001b[0m\u001b[0;34m\u001b[0m\u001b[0m\n\u001b[1;32m    763\u001b[0m \u001b[0;34m\u001b[0m\u001b[0m\n\u001b[0;32m--> 764\u001b[0;31m         \u001b[0;32mreturn\u001b[0m \u001b[0mself\u001b[0m\u001b[0;34m.\u001b[0m\u001b[0mapply_standard\u001b[0m\u001b[0;34m(\u001b[0m\u001b[0;34m)\u001b[0m\u001b[0;34m\u001b[0m\u001b[0;34m\u001b[0m\u001b[0m\n\u001b[0m\u001b[1;32m    765\u001b[0m \u001b[0;34m\u001b[0m\u001b[0m\n\u001b[1;32m    766\u001b[0m     \u001b[0;32mdef\u001b[0m \u001b[0magg\u001b[0m\u001b[0;34m(\u001b[0m\u001b[0mself\u001b[0m\u001b[0;34m)\u001b[0m\u001b[0;34m:\u001b[0m\u001b[0;34m\u001b[0m\u001b[0;34m\u001b[0m\u001b[0m\n",
            "\u001b[0;32m/usr/local/lib/python3.10/dist-packages/pandas/core/apply.py\u001b[0m in \u001b[0;36mapply_standard\u001b[0;34m(self)\u001b[0m\n\u001b[1;32m    889\u001b[0m \u001b[0;34m\u001b[0m\u001b[0m\n\u001b[1;32m    890\u001b[0m     \u001b[0;32mdef\u001b[0m \u001b[0mapply_standard\u001b[0m\u001b[0;34m(\u001b[0m\u001b[0mself\u001b[0m\u001b[0;34m)\u001b[0m\u001b[0;34m:\u001b[0m\u001b[0;34m\u001b[0m\u001b[0;34m\u001b[0m\u001b[0m\n\u001b[0;32m--> 891\u001b[0;31m         \u001b[0mresults\u001b[0m\u001b[0;34m,\u001b[0m \u001b[0mres_index\u001b[0m \u001b[0;34m=\u001b[0m \u001b[0mself\u001b[0m\u001b[0;34m.\u001b[0m\u001b[0mapply_series_generator\u001b[0m\u001b[0;34m(\u001b[0m\u001b[0;34m)\u001b[0m\u001b[0;34m\u001b[0m\u001b[0;34m\u001b[0m\u001b[0m\n\u001b[0m\u001b[1;32m    892\u001b[0m \u001b[0;34m\u001b[0m\u001b[0m\n\u001b[1;32m    893\u001b[0m         \u001b[0;31m# wrap results\u001b[0m\u001b[0;34m\u001b[0m\u001b[0;34m\u001b[0m\u001b[0m\n",
            "\u001b[0;32m/usr/local/lib/python3.10/dist-packages/pandas/core/apply.py\u001b[0m in \u001b[0;36mapply_series_generator\u001b[0;34m(self)\u001b[0m\n\u001b[1;32m    905\u001b[0m             \u001b[0;32mfor\u001b[0m \u001b[0mi\u001b[0m\u001b[0;34m,\u001b[0m \u001b[0mv\u001b[0m \u001b[0;32min\u001b[0m \u001b[0menumerate\u001b[0m\u001b[0;34m(\u001b[0m\u001b[0mseries_gen\u001b[0m\u001b[0;34m)\u001b[0m\u001b[0;34m:\u001b[0m\u001b[0;34m\u001b[0m\u001b[0;34m\u001b[0m\u001b[0m\n\u001b[1;32m    906\u001b[0m                 \u001b[0;31m# ignore SettingWithCopy here in case the user mutates\u001b[0m\u001b[0;34m\u001b[0m\u001b[0;34m\u001b[0m\u001b[0m\n\u001b[0;32m--> 907\u001b[0;31m                 \u001b[0mresults\u001b[0m\u001b[0;34m[\u001b[0m\u001b[0mi\u001b[0m\u001b[0;34m]\u001b[0m \u001b[0;34m=\u001b[0m \u001b[0mself\u001b[0m\u001b[0;34m.\u001b[0m\u001b[0mf\u001b[0m\u001b[0;34m(\u001b[0m\u001b[0mv\u001b[0m\u001b[0;34m)\u001b[0m\u001b[0;34m\u001b[0m\u001b[0;34m\u001b[0m\u001b[0m\n\u001b[0m\u001b[1;32m    908\u001b[0m                 \u001b[0;32mif\u001b[0m \u001b[0misinstance\u001b[0m\u001b[0;34m(\u001b[0m\u001b[0mresults\u001b[0m\u001b[0;34m[\u001b[0m\u001b[0mi\u001b[0m\u001b[0;34m]\u001b[0m\u001b[0;34m,\u001b[0m \u001b[0mABCSeries\u001b[0m\u001b[0;34m)\u001b[0m\u001b[0;34m:\u001b[0m\u001b[0;34m\u001b[0m\u001b[0;34m\u001b[0m\u001b[0m\n\u001b[1;32m    909\u001b[0m                     \u001b[0;31m# If we have a view on v, we need to make a copy because\u001b[0m\u001b[0;34m\u001b[0m\u001b[0;34m\u001b[0m\u001b[0m\n",
            "\u001b[0;32m<ipython-input-27-a01be62944cc>\u001b[0m in \u001b[0;36mpredict_seq\u001b[0;34m(trans)\u001b[0m\n\u001b[1;32m      7\u001b[0m \u001b[0;34m\u001b[0m\u001b[0m\n\u001b[1;32m      8\u001b[0m   transactions_stats = sorted(\n\u001b[0;32m----> 9\u001b[0;31m         \u001b[0mCounter\u001b[0m\u001b[0;34m(\u001b[0m\u001b[0mtrans\u001b[0m\u001b[0;34m)\u001b[0m\u001b[0;34m.\u001b[0m\u001b[0mitems\u001b[0m\u001b[0;34m(\u001b[0m\u001b[0;34m)\u001b[0m\u001b[0;34m,\u001b[0m\u001b[0;34m\u001b[0m\u001b[0;34m\u001b[0m\u001b[0m\n\u001b[0m\u001b[1;32m     10\u001b[0m         \u001b[0mkey\u001b[0m\u001b[0;34m=\u001b[0m\u001b[0;32mlambda\u001b[0m \u001b[0mx\u001b[0m\u001b[0;34m:\u001b[0m \u001b[0mx\u001b[0m\u001b[0;34m[\u001b[0m\u001b[0;36m1\u001b[0m\u001b[0;34m]\u001b[0m\u001b[0;34m,\u001b[0m\u001b[0;34m\u001b[0m\u001b[0;34m\u001b[0m\u001b[0m\n\u001b[1;32m     11\u001b[0m         \u001b[0mreverse\u001b[0m\u001b[0;34m=\u001b[0m\u001b[0;32mTrue\u001b[0m\u001b[0;34m\u001b[0m\u001b[0;34m\u001b[0m\u001b[0m\n",
            "\u001b[0;32m/usr/lib/python3.10/collections/__init__.py\u001b[0m in \u001b[0;36m__init__\u001b[0;34m(self, iterable, **kwds)\u001b[0m\n\u001b[1;32m    575\u001b[0m         '''\n\u001b[1;32m    576\u001b[0m         \u001b[0msuper\u001b[0m\u001b[0;34m(\u001b[0m\u001b[0;34m)\u001b[0m\u001b[0;34m.\u001b[0m\u001b[0m__init__\u001b[0m\u001b[0;34m(\u001b[0m\u001b[0;34m)\u001b[0m\u001b[0;34m\u001b[0m\u001b[0;34m\u001b[0m\u001b[0m\n\u001b[0;32m--> 577\u001b[0;31m         \u001b[0mself\u001b[0m\u001b[0;34m.\u001b[0m\u001b[0mupdate\u001b[0m\u001b[0;34m(\u001b[0m\u001b[0miterable\u001b[0m\u001b[0;34m,\u001b[0m \u001b[0;34m**\u001b[0m\u001b[0mkwds\u001b[0m\u001b[0;34m)\u001b[0m\u001b[0;34m\u001b[0m\u001b[0;34m\u001b[0m\u001b[0m\n\u001b[0m\u001b[1;32m    578\u001b[0m \u001b[0;34m\u001b[0m\u001b[0m\n\u001b[1;32m    579\u001b[0m     \u001b[0;32mdef\u001b[0m \u001b[0m__missing__\u001b[0m\u001b[0;34m(\u001b[0m\u001b[0mself\u001b[0m\u001b[0;34m,\u001b[0m \u001b[0mkey\u001b[0m\u001b[0;34m)\u001b[0m\u001b[0;34m:\u001b[0m\u001b[0;34m\u001b[0m\u001b[0;34m\u001b[0m\u001b[0m\n",
            "\u001b[0;32m/usr/lib/python3.10/collections/__init__.py\u001b[0m in \u001b[0;36mupdate\u001b[0;34m(self, iterable, **kwds)\u001b[0m\n\u001b[1;32m    668\u001b[0m                     \u001b[0msuper\u001b[0m\u001b[0;34m(\u001b[0m\u001b[0;34m)\u001b[0m\u001b[0;34m.\u001b[0m\u001b[0mupdate\u001b[0m\u001b[0;34m(\u001b[0m\u001b[0miterable\u001b[0m\u001b[0;34m)\u001b[0m\u001b[0;34m\u001b[0m\u001b[0;34m\u001b[0m\u001b[0m\n\u001b[1;32m    669\u001b[0m             \u001b[0;32melse\u001b[0m\u001b[0;34m:\u001b[0m\u001b[0;34m\u001b[0m\u001b[0;34m\u001b[0m\u001b[0m\n\u001b[0;32m--> 670\u001b[0;31m                 \u001b[0m_count_elements\u001b[0m\u001b[0;34m(\u001b[0m\u001b[0mself\u001b[0m\u001b[0;34m,\u001b[0m \u001b[0miterable\u001b[0m\u001b[0;34m)\u001b[0m\u001b[0;34m\u001b[0m\u001b[0;34m\u001b[0m\u001b[0m\n\u001b[0m\u001b[1;32m    671\u001b[0m         \u001b[0;32mif\u001b[0m \u001b[0mkwds\u001b[0m\u001b[0;34m:\u001b[0m\u001b[0;34m\u001b[0m\u001b[0;34m\u001b[0m\u001b[0m\n\u001b[1;32m    672\u001b[0m             \u001b[0mself\u001b[0m\u001b[0;34m.\u001b[0m\u001b[0mupdate\u001b[0m\u001b[0;34m(\u001b[0m\u001b[0mkwds\u001b[0m\u001b[0;34m)\u001b[0m\u001b[0;34m\u001b[0m\u001b[0;34m\u001b[0m\u001b[0m\n",
            "\u001b[0;31mTypeError\u001b[0m: unhashable type: 'list'"
          ]
        }
      ]
    },
    {
      "cell_type": "code",
      "source": [
        "mapk(df_train['Target'], df_train['pred_baseline_4'])"
      ],
      "metadata": {
        "colab": {
          "base_uri": "https://localhost:8080/"
        },
        "id": "fOr_XK-iaNwa",
        "outputId": "ebeea77a-f067-42d0-8aff-883384aab4ce"
      },
      "execution_count": null,
      "outputs": [
        {
          "output_type": "execute_result",
          "data": {
            "text/plain": [
              "0.09293331437508887"
            ]
          },
          "metadata": {},
          "execution_count": 33
        }
      ]
    },
    {
      "cell_type": "code",
      "source": [
        "df_train['Data'][7032]"
      ],
      "metadata": {
        "id": "5B7uSpkveSkk"
      },
      "execution_count": null,
      "outputs": []
    },
    {
      "cell_type": "code",
      "source": [
        "df_train['pred_baseline_4'][7032]"
      ],
      "metadata": {
        "colab": {
          "base_uri": "https://localhost:8080/"
        },
        "outputId": "802e5090-2990-405e-e7b9-04a6d6e3c024",
        "id": "T5_6F2t-bapW"
      },
      "execution_count": null,
      "outputs": [
        {
          "output_type": "execute_result",
          "data": {
            "text/plain": [
              "[6011, 6011, 6011, 6011, 6011, 6011, 6011, 6011, 6011, 6011]"
            ]
          },
          "metadata": {},
          "execution_count": 35
        }
      ]
    },
    {
      "cell_type": "code",
      "source": [
        "df_train['Target'][7032]"
      ],
      "metadata": {
        "colab": {
          "base_uri": "https://localhost:8080/"
        },
        "outputId": "b342dda8-dce9-4336-8c5e-6c765975ae51",
        "id": "dn9lmE85bapY"
      },
      "execution_count": null,
      "outputs": [
        {
          "output_type": "execute_result",
          "data": {
            "text/plain": [
              "[6011, 4829, 6010, 6011, 6011, 5411, 6011, 5541, 6010, 4814]"
            ]
          },
          "metadata": {},
          "execution_count": 36
        }
      ]
    },
    {
      "cell_type": "code",
      "source": [
        "df_train['pred_baseline_2'][7032]"
      ],
      "metadata": {
        "colab": {
          "base_uri": "https://localhost:8080/"
        },
        "outputId": "0cdc1be8-0872-4fbf-bfcd-e285f60f863c",
        "id": "fEj2lilybapY"
      },
      "execution_count": null,
      "outputs": [
        {
          "output_type": "execute_result",
          "data": {
            "text/plain": [
              "[6011, 4814, 5499, 6010, 5541, 4829, 5411, 6011, 6010, 4814]"
            ]
          },
          "metadata": {},
          "execution_count": 37
        }
      ]
    },
    {
      "cell_type": "code",
      "source": [
        "df_train"
      ],
      "metadata": {
        "colab": {
          "base_uri": "https://localhost:8080/",
          "height": 597
        },
        "id": "9KQaNdw1g9tV",
        "outputId": "b70200cb-a3b4-4c24-ce4b-b6c456db10f6"
      },
      "execution_count": null,
      "outputs": [
        {
          "output_type": "execute_result",
          "data": {
            "text/plain": [
              "        Id                                               Data  \\\n",
              "0        0  [4814, 4814, 6010, 6011, 4814, 6011, 6011, 481...   \n",
              "1        1  [6011, 6011, 6011, 6011, 6011, 6011, 6011, 481...   \n",
              "2        2  [8021, 6011, 6011, 6010, 4829, 4814, 6011, 601...   \n",
              "3        3  [4814, 6011, 4814, 4814, 4814, 6011, 6011, 569...   \n",
              "4        4  [4814, 4814, 4814, 4814, 4814, 4814, 5946, 481...   \n",
              "...    ...                                                ...   \n",
              "7028  7028  [6010, 4829, 6011, 6011, 6011, 6010, 6011, 601...   \n",
              "7029  7029  [4814, 5699, 5641, 5411, 6010, 6011, 4814, 601...   \n",
              "7030  7030  [6011, 6011, 6011, 6011, 6011, 6011, 6011, 601...   \n",
              "7031  7031  [4814, 4814, 5411, 6011, 6011, 4814, 4814, 481...   \n",
              "7032  7032  [6011, 6011, 6011, 6011, 5541, 4814, 6011, 601...   \n",
              "\n",
              "                                                 Target  \\\n",
              "0     [4814, 4814, 4814, 4814, 5411, 4814, 4814, 481...   \n",
              "1     [4814, 6011, 4814, 6011, 4814, 4814, 6011, 481...   \n",
              "2     [6011, 6011, 6010, 4829, 4829, 6010, 6011, 601...   \n",
              "3     [6011, 6011, 6010, 6011, 6011, 4814, 4814, 601...   \n",
              "4     [5499, 6011, 4814, 4829, 5200, 5411, 5499, 591...   \n",
              "...                                                 ...   \n",
              "7028  [4814, 5499, 5499, 5411, 5251, 4814, 5499, 549...   \n",
              "7029  [6011, 5261, 6011, 5261, 4814, 5411, 4814, 601...   \n",
              "7030  [6011, 6011, 6011, 6011, 6011, 6011, 6011, 601...   \n",
              "7031  [4814, 6011, 6011, 5999, 5999, 6011, 6011, 601...   \n",
              "7032  [6011, 4829, 6010, 6011, 6011, 5411, 6011, 554...   \n",
              "\n",
              "                                        pred_baseline_2  \\\n",
              "0     [4814, 6011, 5311, 5411, 6011, 6010, 4814, 541...   \n",
              "1     [4814, 6011, 6011, 6010, 4814, 5411, 4829, 549...   \n",
              "2     [5814, 6010, 4829, 6011, 4814, 5411, 5331, 599...   \n",
              "3     [5411, 4814, 6011, 6010, 6012, 5999, 6011, 601...   \n",
              "4     [4814, 5411, 6011, 4829, 5912, 5499, 6010, 520...   \n",
              "...                                                 ...   \n",
              "7028  [5251, 4814, 5499, 6011, 6010, 4829, 5411, 601...   \n",
              "7029  [6011, 4814, 5411, 5912, 6010, 5499, 4900, 581...   \n",
              "7030  [6011, 6011, 6010, 4814, 5411, 4829, 5499, 554...   \n",
              "7031  [6011, 5499, 4814, 5999, 6010, 6011, 6010, 481...   \n",
              "7032  [6011, 4814, 5499, 6010, 5541, 4829, 5411, 601...   \n",
              "\n",
              "                                        pred_baseline_3  \\\n",
              "0     [4814, 6011, 5311, 5411, 5921, 6010, 5411, 531...   \n",
              "1     [4814, 6011, 4829, 6010, 5732, 5541, 6011, 481...   \n",
              "2     [5814, 6010, 4829, 6011, 4814, 5411, 5331, 599...   \n",
              "3     [5411, 4814, 6011, 6010, 6012, 5999, 5691, 549...   \n",
              "4     [4814, 5411, 6011, 4829, 5912, 5499, 6010, 520...   \n",
              "...                                                 ...   \n",
              "7028  [5251, 4814, 5499, 6011, 6010, 4829, 5411, 553...   \n",
              "7029  [6011, 4814, 5411, 5912, 6010, 5499, 4900, 581...   \n",
              "7030  [6011, 6010, 5411, 5912, 5200, 6011, 6011, 601...   \n",
              "7031  [6011, 5499, 4814, 5999, 6010, 4829, 5942, 541...   \n",
              "7032  [6011, 4814, 5499, 6010, 5541, 4829, 5411, 592...   \n",
              "\n",
              "                                        pred_baseline_4  \n",
              "0     [4814, 4814, 4814, 4814, 4814, 4814, 4814, 481...  \n",
              "1     [6011, 6011, 6011, 6011, 6011, 6011, 6011, 601...  \n",
              "2     [5814, 5814, 5814, 5814, 5814, 5814, 5814, 581...  \n",
              "3     [5411, 5411, 5411, 5411, 5411, 5411, 5411, 541...  \n",
              "4     [4814, 4814, 4814, 4814, 4814, 4814, 4814, 481...  \n",
              "...                                                 ...  \n",
              "7028  [5251, 5251, 5251, 5251, 5251, 5251, 5251, 525...  \n",
              "7029  [6011, 6011, 6011, 6011, 6011, 6011, 6011, 601...  \n",
              "7030  [6011, 6011, 6011, 6011, 6011, 6011, 6011, 601...  \n",
              "7031  [6011, 6011, 6011, 6011, 6011, 6011, 6011, 601...  \n",
              "7032  [6011, 6011, 6011, 6011, 6011, 6011, 6011, 601...  \n",
              "\n",
              "[7033 rows x 6 columns]"
            ],
            "text/html": [
              "\n",
              "  <div id=\"df-05e0f583-3749-4b05-859a-ea138bc69353\" class=\"colab-df-container\">\n",
              "    <div>\n",
              "<style scoped>\n",
              "    .dataframe tbody tr th:only-of-type {\n",
              "        vertical-align: middle;\n",
              "    }\n",
              "\n",
              "    .dataframe tbody tr th {\n",
              "        vertical-align: top;\n",
              "    }\n",
              "\n",
              "    .dataframe thead th {\n",
              "        text-align: right;\n",
              "    }\n",
              "</style>\n",
              "<table border=\"1\" class=\"dataframe\">\n",
              "  <thead>\n",
              "    <tr style=\"text-align: right;\">\n",
              "      <th></th>\n",
              "      <th>Id</th>\n",
              "      <th>Data</th>\n",
              "      <th>Target</th>\n",
              "      <th>pred_baseline_2</th>\n",
              "      <th>pred_baseline_3</th>\n",
              "      <th>pred_baseline_4</th>\n",
              "    </tr>\n",
              "  </thead>\n",
              "  <tbody>\n",
              "    <tr>\n",
              "      <th>0</th>\n",
              "      <td>0</td>\n",
              "      <td>[4814, 4814, 6010, 6011, 4814, 6011, 6011, 481...</td>\n",
              "      <td>[4814, 4814, 4814, 4814, 5411, 4814, 4814, 481...</td>\n",
              "      <td>[4814, 6011, 5311, 5411, 6011, 6010, 4814, 541...</td>\n",
              "      <td>[4814, 6011, 5311, 5411, 5921, 6010, 5411, 531...</td>\n",
              "      <td>[4814, 4814, 4814, 4814, 4814, 4814, 4814, 481...</td>\n",
              "    </tr>\n",
              "    <tr>\n",
              "      <th>1</th>\n",
              "      <td>1</td>\n",
              "      <td>[6011, 6011, 6011, 6011, 6011, 6011, 6011, 481...</td>\n",
              "      <td>[4814, 6011, 4814, 6011, 4814, 4814, 6011, 481...</td>\n",
              "      <td>[4814, 6011, 6011, 6010, 4814, 5411, 4829, 549...</td>\n",
              "      <td>[4814, 6011, 4829, 6010, 5732, 5541, 6011, 481...</td>\n",
              "      <td>[6011, 6011, 6011, 6011, 6011, 6011, 6011, 601...</td>\n",
              "    </tr>\n",
              "    <tr>\n",
              "      <th>2</th>\n",
              "      <td>2</td>\n",
              "      <td>[8021, 6011, 6011, 6010, 4829, 4814, 6011, 601...</td>\n",
              "      <td>[6011, 6011, 6010, 4829, 4829, 6010, 6011, 601...</td>\n",
              "      <td>[5814, 6010, 4829, 6011, 4814, 5411, 5331, 599...</td>\n",
              "      <td>[5814, 6010, 4829, 6011, 4814, 5411, 5331, 599...</td>\n",
              "      <td>[5814, 5814, 5814, 5814, 5814, 5814, 5814, 581...</td>\n",
              "    </tr>\n",
              "    <tr>\n",
              "      <th>3</th>\n",
              "      <td>3</td>\n",
              "      <td>[4814, 6011, 4814, 4814, 4814, 6011, 6011, 569...</td>\n",
              "      <td>[6011, 6011, 6010, 6011, 6011, 4814, 4814, 601...</td>\n",
              "      <td>[5411, 4814, 6011, 6010, 6012, 5999, 6011, 601...</td>\n",
              "      <td>[5411, 4814, 6011, 6010, 6012, 5999, 5691, 549...</td>\n",
              "      <td>[5411, 5411, 5411, 5411, 5411, 5411, 5411, 541...</td>\n",
              "    </tr>\n",
              "    <tr>\n",
              "      <th>4</th>\n",
              "      <td>4</td>\n",
              "      <td>[4814, 4814, 4814, 4814, 4814, 4814, 5946, 481...</td>\n",
              "      <td>[5499, 6011, 4814, 4829, 5200, 5411, 5499, 591...</td>\n",
              "      <td>[4814, 5411, 6011, 4829, 5912, 5499, 6010, 520...</td>\n",
              "      <td>[4814, 5411, 6011, 4829, 5912, 5499, 6010, 520...</td>\n",
              "      <td>[4814, 4814, 4814, 4814, 4814, 4814, 4814, 481...</td>\n",
              "    </tr>\n",
              "    <tr>\n",
              "      <th>...</th>\n",
              "      <td>...</td>\n",
              "      <td>...</td>\n",
              "      <td>...</td>\n",
              "      <td>...</td>\n",
              "      <td>...</td>\n",
              "      <td>...</td>\n",
              "    </tr>\n",
              "    <tr>\n",
              "      <th>7028</th>\n",
              "      <td>7028</td>\n",
              "      <td>[6010, 4829, 6011, 6011, 6011, 6010, 6011, 601...</td>\n",
              "      <td>[4814, 5499, 5499, 5411, 5251, 4814, 5499, 549...</td>\n",
              "      <td>[5251, 4814, 5499, 6011, 6010, 4829, 5411, 601...</td>\n",
              "      <td>[5251, 4814, 5499, 6011, 6010, 4829, 5411, 553...</td>\n",
              "      <td>[5251, 5251, 5251, 5251, 5251, 5251, 5251, 525...</td>\n",
              "    </tr>\n",
              "    <tr>\n",
              "      <th>7029</th>\n",
              "      <td>7029</td>\n",
              "      <td>[4814, 5699, 5641, 5411, 6010, 6011, 4814, 601...</td>\n",
              "      <td>[6011, 5261, 6011, 5261, 4814, 5411, 4814, 601...</td>\n",
              "      <td>[6011, 4814, 5411, 5912, 6010, 5499, 4900, 581...</td>\n",
              "      <td>[6011, 4814, 5411, 5912, 6010, 5499, 4900, 581...</td>\n",
              "      <td>[6011, 6011, 6011, 6011, 6011, 6011, 6011, 601...</td>\n",
              "    </tr>\n",
              "    <tr>\n",
              "      <th>7030</th>\n",
              "      <td>7030</td>\n",
              "      <td>[6011, 6011, 6011, 6011, 6011, 6011, 6011, 601...</td>\n",
              "      <td>[6011, 6011, 6011, 6011, 6011, 6011, 6011, 601...</td>\n",
              "      <td>[6011, 6011, 6010, 4814, 5411, 4829, 5499, 554...</td>\n",
              "      <td>[6011, 6010, 5411, 5912, 5200, 6011, 6011, 601...</td>\n",
              "      <td>[6011, 6011, 6011, 6011, 6011, 6011, 6011, 601...</td>\n",
              "    </tr>\n",
              "    <tr>\n",
              "      <th>7031</th>\n",
              "      <td>7031</td>\n",
              "      <td>[4814, 4814, 5411, 6011, 6011, 4814, 4814, 481...</td>\n",
              "      <td>[4814, 6011, 6011, 5999, 5999, 6011, 6011, 601...</td>\n",
              "      <td>[6011, 5499, 4814, 5999, 6010, 6011, 6010, 481...</td>\n",
              "      <td>[6011, 5499, 4814, 5999, 6010, 4829, 5942, 541...</td>\n",
              "      <td>[6011, 6011, 6011, 6011, 6011, 6011, 6011, 601...</td>\n",
              "    </tr>\n",
              "    <tr>\n",
              "      <th>7032</th>\n",
              "      <td>7032</td>\n",
              "      <td>[6011, 6011, 6011, 6011, 5541, 4814, 6011, 601...</td>\n",
              "      <td>[6011, 4829, 6010, 6011, 6011, 5411, 6011, 554...</td>\n",
              "      <td>[6011, 4814, 5499, 6010, 5541, 4829, 5411, 601...</td>\n",
              "      <td>[6011, 4814, 5499, 6010, 5541, 4829, 5411, 592...</td>\n",
              "      <td>[6011, 6011, 6011, 6011, 6011, 6011, 6011, 601...</td>\n",
              "    </tr>\n",
              "  </tbody>\n",
              "</table>\n",
              "<p>7033 rows × 6 columns</p>\n",
              "</div>\n",
              "    <div class=\"colab-df-buttons\">\n",
              "\n",
              "  <div class=\"colab-df-container\">\n",
              "    <button class=\"colab-df-convert\" onclick=\"convertToInteractive('df-05e0f583-3749-4b05-859a-ea138bc69353')\"\n",
              "            title=\"Convert this dataframe to an interactive table.\"\n",
              "            style=\"display:none;\">\n",
              "\n",
              "  <svg xmlns=\"http://www.w3.org/2000/svg\" height=\"24px\" viewBox=\"0 -960 960 960\">\n",
              "    <path d=\"M120-120v-720h720v720H120Zm60-500h600v-160H180v160Zm220 220h160v-160H400v160Zm0 220h160v-160H400v160ZM180-400h160v-160H180v160Zm440 0h160v-160H620v160ZM180-180h160v-160H180v160Zm440 0h160v-160H620v160Z\"/>\n",
              "  </svg>\n",
              "    </button>\n",
              "\n",
              "  <style>\n",
              "    .colab-df-container {\n",
              "      display:flex;\n",
              "      gap: 12px;\n",
              "    }\n",
              "\n",
              "    .colab-df-convert {\n",
              "      background-color: #E8F0FE;\n",
              "      border: none;\n",
              "      border-radius: 50%;\n",
              "      cursor: pointer;\n",
              "      display: none;\n",
              "      fill: #1967D2;\n",
              "      height: 32px;\n",
              "      padding: 0 0 0 0;\n",
              "      width: 32px;\n",
              "    }\n",
              "\n",
              "    .colab-df-convert:hover {\n",
              "      background-color: #E2EBFA;\n",
              "      box-shadow: 0px 1px 2px rgba(60, 64, 67, 0.3), 0px 1px 3px 1px rgba(60, 64, 67, 0.15);\n",
              "      fill: #174EA6;\n",
              "    }\n",
              "\n",
              "    .colab-df-buttons div {\n",
              "      margin-bottom: 4px;\n",
              "    }\n",
              "\n",
              "    [theme=dark] .colab-df-convert {\n",
              "      background-color: #3B4455;\n",
              "      fill: #D2E3FC;\n",
              "    }\n",
              "\n",
              "    [theme=dark] .colab-df-convert:hover {\n",
              "      background-color: #434B5C;\n",
              "      box-shadow: 0px 1px 3px 1px rgba(0, 0, 0, 0.15);\n",
              "      filter: drop-shadow(0px 1px 2px rgba(0, 0, 0, 0.3));\n",
              "      fill: #FFFFFF;\n",
              "    }\n",
              "  </style>\n",
              "\n",
              "    <script>\n",
              "      const buttonEl =\n",
              "        document.querySelector('#df-05e0f583-3749-4b05-859a-ea138bc69353 button.colab-df-convert');\n",
              "      buttonEl.style.display =\n",
              "        google.colab.kernel.accessAllowed ? 'block' : 'none';\n",
              "\n",
              "      async function convertToInteractive(key) {\n",
              "        const element = document.querySelector('#df-05e0f583-3749-4b05-859a-ea138bc69353');\n",
              "        const dataTable =\n",
              "          await google.colab.kernel.invokeFunction('convertToInteractive',\n",
              "                                                    [key], {});\n",
              "        if (!dataTable) return;\n",
              "\n",
              "        const docLinkHtml = 'Like what you see? Visit the ' +\n",
              "          '<a target=\"_blank\" href=https://colab.research.google.com/notebooks/data_table.ipynb>data table notebook</a>'\n",
              "          + ' to learn more about interactive tables.';\n",
              "        element.innerHTML = '';\n",
              "        dataTable['output_type'] = 'display_data';\n",
              "        await google.colab.output.renderOutput(dataTable, element);\n",
              "        const docLink = document.createElement('div');\n",
              "        docLink.innerHTML = docLinkHtml;\n",
              "        element.appendChild(docLink);\n",
              "      }\n",
              "    </script>\n",
              "  </div>\n",
              "\n",
              "\n",
              "<div id=\"df-3d0794f8-837a-4986-9776-5575b428e56e\">\n",
              "  <button class=\"colab-df-quickchart\" onclick=\"quickchart('df-3d0794f8-837a-4986-9776-5575b428e56e')\"\n",
              "            title=\"Suggest charts.\"\n",
              "            style=\"display:none;\">\n",
              "\n",
              "<svg xmlns=\"http://www.w3.org/2000/svg\" height=\"24px\"viewBox=\"0 0 24 24\"\n",
              "     width=\"24px\">\n",
              "    <g>\n",
              "        <path d=\"M19 3H5c-1.1 0-2 .9-2 2v14c0 1.1.9 2 2 2h14c1.1 0 2-.9 2-2V5c0-1.1-.9-2-2-2zM9 17H7v-7h2v7zm4 0h-2V7h2v10zm4 0h-2v-4h2v4z\"/>\n",
              "    </g>\n",
              "</svg>\n",
              "  </button>\n",
              "\n",
              "<style>\n",
              "  .colab-df-quickchart {\n",
              "      --bg-color: #E8F0FE;\n",
              "      --fill-color: #1967D2;\n",
              "      --hover-bg-color: #E2EBFA;\n",
              "      --hover-fill-color: #174EA6;\n",
              "      --disabled-fill-color: #AAA;\n",
              "      --disabled-bg-color: #DDD;\n",
              "  }\n",
              "\n",
              "  [theme=dark] .colab-df-quickchart {\n",
              "      --bg-color: #3B4455;\n",
              "      --fill-color: #D2E3FC;\n",
              "      --hover-bg-color: #434B5C;\n",
              "      --hover-fill-color: #FFFFFF;\n",
              "      --disabled-bg-color: #3B4455;\n",
              "      --disabled-fill-color: #666;\n",
              "  }\n",
              "\n",
              "  .colab-df-quickchart {\n",
              "    background-color: var(--bg-color);\n",
              "    border: none;\n",
              "    border-radius: 50%;\n",
              "    cursor: pointer;\n",
              "    display: none;\n",
              "    fill: var(--fill-color);\n",
              "    height: 32px;\n",
              "    padding: 0;\n",
              "    width: 32px;\n",
              "  }\n",
              "\n",
              "  .colab-df-quickchart:hover {\n",
              "    background-color: var(--hover-bg-color);\n",
              "    box-shadow: 0 1px 2px rgba(60, 64, 67, 0.3), 0 1px 3px 1px rgba(60, 64, 67, 0.15);\n",
              "    fill: var(--button-hover-fill-color);\n",
              "  }\n",
              "\n",
              "  .colab-df-quickchart-complete:disabled,\n",
              "  .colab-df-quickchart-complete:disabled:hover {\n",
              "    background-color: var(--disabled-bg-color);\n",
              "    fill: var(--disabled-fill-color);\n",
              "    box-shadow: none;\n",
              "  }\n",
              "\n",
              "  .colab-df-spinner {\n",
              "    border: 2px solid var(--fill-color);\n",
              "    border-color: transparent;\n",
              "    border-bottom-color: var(--fill-color);\n",
              "    animation:\n",
              "      spin 1s steps(1) infinite;\n",
              "  }\n",
              "\n",
              "  @keyframes spin {\n",
              "    0% {\n",
              "      border-color: transparent;\n",
              "      border-bottom-color: var(--fill-color);\n",
              "      border-left-color: var(--fill-color);\n",
              "    }\n",
              "    20% {\n",
              "      border-color: transparent;\n",
              "      border-left-color: var(--fill-color);\n",
              "      border-top-color: var(--fill-color);\n",
              "    }\n",
              "    30% {\n",
              "      border-color: transparent;\n",
              "      border-left-color: var(--fill-color);\n",
              "      border-top-color: var(--fill-color);\n",
              "      border-right-color: var(--fill-color);\n",
              "    }\n",
              "    40% {\n",
              "      border-color: transparent;\n",
              "      border-right-color: var(--fill-color);\n",
              "      border-top-color: var(--fill-color);\n",
              "    }\n",
              "    60% {\n",
              "      border-color: transparent;\n",
              "      border-right-color: var(--fill-color);\n",
              "    }\n",
              "    80% {\n",
              "      border-color: transparent;\n",
              "      border-right-color: var(--fill-color);\n",
              "      border-bottom-color: var(--fill-color);\n",
              "    }\n",
              "    90% {\n",
              "      border-color: transparent;\n",
              "      border-bottom-color: var(--fill-color);\n",
              "    }\n",
              "  }\n",
              "</style>\n",
              "\n",
              "  <script>\n",
              "    async function quickchart(key) {\n",
              "      const quickchartButtonEl =\n",
              "        document.querySelector('#' + key + ' button');\n",
              "      quickchartButtonEl.disabled = true;  // To prevent multiple clicks.\n",
              "      quickchartButtonEl.classList.add('colab-df-spinner');\n",
              "      try {\n",
              "        const charts = await google.colab.kernel.invokeFunction(\n",
              "            'suggestCharts', [key], {});\n",
              "      } catch (error) {\n",
              "        console.error('Error during call to suggestCharts:', error);\n",
              "      }\n",
              "      quickchartButtonEl.classList.remove('colab-df-spinner');\n",
              "      quickchartButtonEl.classList.add('colab-df-quickchart-complete');\n",
              "    }\n",
              "    (() => {\n",
              "      let quickchartButtonEl =\n",
              "        document.querySelector('#df-3d0794f8-837a-4986-9776-5575b428e56e button');\n",
              "      quickchartButtonEl.style.display =\n",
              "        google.colab.kernel.accessAllowed ? 'block' : 'none';\n",
              "    })();\n",
              "  </script>\n",
              "</div>\n",
              "    </div>\n",
              "  </div>\n"
            ]
          },
          "metadata": {},
          "execution_count": 38
        }
      ]
    },
    {
      "cell_type": "code",
      "source": [
        "import pandas as pd\n",
        "import matplotlib.pyplot as plt\n",
        "import seaborn as sns\n",
        "\n",
        "#create DataFrame\n",
        "print(len(df_train['Data'][100]))\n",
        "\n",
        "sns.lineplot(data=df_train['Data'][100])"
      ],
      "metadata": {
        "colab": {
          "base_uri": "https://localhost:8080/",
          "height": 465
        },
        "id": "jPR9F-nXfCgQ",
        "outputId": "ebdf61e5-d248-4b97-8ac4-21091d94b99c"
      },
      "execution_count": null,
      "outputs": [
        {
          "output_type": "stream",
          "name": "stdout",
          "text": [
            "259\n"
          ]
        },
        {
          "output_type": "execute_result",
          "data": {
            "text/plain": [
              "<Axes: >"
            ]
          },
          "metadata": {},
          "execution_count": 39
        },
        {
          "output_type": "display_data",
          "data": {
            "text/plain": [
              "<Figure size 640x480 with 1 Axes>"
            ],
            "image/png": "[encoded data removed]"
          },
          "metadata": {}
        }
      ]
    },
    {
      "cell_type": "markdown",
      "source": [
        "# **3 varient**"
      ],
      "metadata": {
        "id": "UnaF_mHF8Ro_"
      }
    },
    {
      "cell_type": "code",
      "source": [
        "mcc_codes_test = set()\n",
        "\n",
        "for _, i in df_test.iterrows():\n",
        "  mcc_codes_test |= set(i.Data)"
      ],
      "metadata": {
        "id": "KDDOrmapm-Bb"
      },
      "execution_count": null,
      "outputs": []
    },
    {
      "cell_type": "code",
      "source": [
        "mcc_codes_test = set()\n",
        "\n",
        "for _, i in df_test.iterrows():\n",
        "  mcc_codes_test |= set(i.Data)\n",
        "\n",
        "mcc_codes = set()\n",
        "\n",
        "for _, i in df_train.iterrows():\n",
        "  mcc_codes |= set(i.Data)"
      ],
      "metadata": {
        "id": "xYw3tkhulgEX"
      },
      "execution_count": null,
      "outputs": []
    },
    {
      "cell_type": "code",
      "source": [
        "len(mcc_codes_test | mcc_codes)"
      ],
      "metadata": {
        "colab": {
          "base_uri": "https://localhost:8080/"
        },
        "id": "pAeNdypsnC1H",
        "outputId": "eb9a1715-694b-4b76-da84-795ce926f146"
      },
      "execution_count": null,
      "outputs": [
        {
          "output_type": "execute_result",
          "data": {
            "text/plain": [
              "184"
            ]
          },
          "metadata": {},
          "execution_count": 9
        }
      ]
    },
    {
      "cell_type": "code",
      "source": [
        "# кодируем метки\n",
        "\n",
        "mcc2label = {j: i for i, j in enumerate(mcc_codes_test)}\n",
        "label2mcc = {i: j for i, j in enumerate(mcc_codes_test)}"
      ],
      "metadata": {
        "id": "9A3vpQuoYhHM"
      },
      "execution_count": null,
      "outputs": []
    },
    {
      "cell_type": "code",
      "source": [
        "# крайний элемент\n",
        "label2mcc[183]"
      ],
      "metadata": {
        "colab": {
          "base_uri": "https://localhost:8080/"
        },
        "id": "lPgiyLv0HpFC",
        "outputId": "1d34643a-2827-4a98-eac4-76aacd114ccf"
      },
      "execution_count": null,
      "outputs": [
        {
          "output_type": "execute_result",
          "data": {
            "text/plain": [
              "5631"
            ]
          },
          "metadata": {},
          "execution_count": 10
        }
      ]
    },
    {
      "cell_type": "code",
      "source": [
        "! pip install torchtext"
      ],
      "metadata": {
        "colab": {
          "base_uri": "https://localhost:8080/"
        },
        "id": "suH6AWv4Ldu3",
        "outputId": "a38bda98-305a-4ef7-a5d7-caa39d0892af"
      },
      "execution_count": null,
      "outputs": [
        {
          "output_type": "stream",
          "name": "stdout",
          "text": [
            "Requirement already satisfied: torchtext in /usr/local/lib/python3.10/dist-packages (0.15.2)\n",
            "Requirement already satisfied: tqdm in /usr/local/lib/python3.10/dist-packages (from torchtext) (4.66.1)\n",
            "Requirement already satisfied: requests in /usr/local/lib/python3.10/dist-packages (from torchtext) (2.31.0)\n",
            "Requirement already satisfied: torch==2.0.1 in /usr/local/lib/python3.10/dist-packages (from torchtext) (2.0.1+cu118)\n",
            "Requirement already satisfied: numpy in /usr/local/lib/python3.10/dist-packages (from torchtext) (1.23.5)\n",
            "Requirement already satisfied: torchdata==0.6.1 in /usr/local/lib/python3.10/dist-packages (from torchtext) (0.6.1)\n",
            "Requirement already satisfied: filelock in /usr/local/lib/python3.10/dist-packages (from torch==2.0.1->torchtext) (3.12.4)\n",
            "Requirement already satisfied: typing-extensions in /usr/local/lib/python3.10/dist-packages (from torch==2.0.1->torchtext) (4.5.0)\n",
            "Requirement already satisfied: sympy in /usr/local/lib/python3.10/dist-packages (from torch==2.0.1->torchtext) (1.12)\n",
            "Requirement already satisfied: networkx in /usr/local/lib/python3.10/dist-packages (from torch==2.0.1->torchtext) (3.1)\n",
            "Requirement already satisfied: jinja2 in /usr/local/lib/python3.10/dist-packages (from torch==2.0.1->torchtext) (3.1.2)\n",
            "Requirement already satisfied: triton==2.0.0 in /usr/local/lib/python3.10/dist-packages (from torch==2.0.1->torchtext) (2.0.0)\n",
            "Requirement already satisfied: urllib3>=1.25 in /usr/local/lib/python3.10/dist-packages (from torchdata==0.6.1->torchtext) (2.0.6)\n",
            "Requirement already satisfied: cmake in /usr/local/lib/python3.10/dist-packages (from triton==2.0.0->torch==2.0.1->torchtext) (3.27.6)\n",
            "Requirement already satisfied: lit in /usr/local/lib/python3.10/dist-packages (from triton==2.0.0->torch==2.0.1->torchtext) (17.0.2)\n",
            "Requirement already satisfied: charset-normalizer<4,>=2 in /usr/local/lib/python3.10/dist-packages (from requests->torchtext) (3.3.0)\n",
            "Requirement already satisfied: idna<4,>=2.5 in /usr/local/lib/python3.10/dist-packages (from requests->torchtext) (3.4)\n",
            "Requirement already satisfied: certifi>=2017.4.17 in /usr/local/lib/python3.10/dist-packages (from requests->torchtext) (2023.7.22)\n",
            "Requirement already satisfied: MarkupSafe>=2.0 in /usr/local/lib/python3.10/dist-packages (from jinja2->torch==2.0.1->torchtext) (2.1.3)\n",
            "Requirement already satisfied: mpmath>=0.19 in /usr/local/lib/python3.10/dist-packages (from sympy->torch==2.0.1->torchtext) (1.3.0)\n"
          ]
        }
      ]
    },
    {
      "cell_type": "code",
      "source": [
        "import torch\n",
        "import torch.nn as nn\n",
        "import torch.optim as optim\n",
        "\n",
        "import spacy\n",
        "import numpy as np\n",
        "\n",
        "import random\n",
        "import math\n",
        "import time"
      ],
      "metadata": {
        "id": "0MGapAiy2NC6"
      },
      "execution_count": null,
      "outputs": []
    },
    {
      "cell_type": "code",
      "source": [
        "SEED = 1234\n",
        "\n",
        "# Мы установим случайные начальные числа для получения детерминированных результатов.\n",
        "\n",
        "random.seed(SEED)\n",
        "np.random.seed(SEED)\n",
        "torch.manual_seed(SEED)\n",
        "torch.cuda.manual_seed(SEED)\n",
        "torch.backends.cudnn.deterministic = True"
      ],
      "metadata": {
        "id": "x1gJV5y22Nmb"
      },
      "execution_count": null,
      "outputs": []
    },
    {
      "cell_type": "code",
      "source": [
        "# последовательности разной длины\n",
        "from keras.utils import pad_sequences\n",
        "\n",
        "# 184 is sos\n",
        "# 185 is eos\n",
        "# 186 is pad\n",
        "\n",
        "# all seqs like [sos, .... , eos]\n",
        "\n",
        "def process_seq(seq, max_seq_len):\n",
        "  # будем рассматривать seq длины 500, и конвертировать их в seq длины 10\n",
        "  # то есть 498 символов + 2 служебных\n",
        "  if len(seq) >= max_seq_len - 1:\n",
        "      seq = [184] + seq[len(seq)-max_seq_len + 2:] + [185]\n",
        "  else:\n",
        "      cut = seq\n",
        "      # ветка для чисел меньше 499, иначе отрицательные числа\n",
        "      to_pad = max_seq_len - len(seq) - 2\n",
        "      seq = [184] + [186]*to_pad + seq + [185]\n",
        "\n",
        "\n",
        "  return seq"
      ],
      "metadata": {
        "id": "MMOFmeCvJeKJ"
      },
      "execution_count": null,
      "outputs": []
    },
    {
      "cell_type": "code",
      "source": [
        "# 184 is sos\n",
        "# 185 is eos\n",
        "# 186 is pad\n",
        "\n",
        "# all seqs like [sos, .... , eos]\n",
        "\n",
        "X = []\n",
        "Y = []\n",
        "\n",
        "# создаём наши послоедовательности\n",
        "for _, i in df_train.iterrows():\n",
        "    datas = list(map(lambda x: mcc2label[x], i.Data))\n",
        "    y = list(map(lambda y: mcc2label[y], i.Target))\n",
        "    X.append(process_seq(datas, max_seq_len = 500))\n",
        "    Y.append(process_seq(y, max_seq_len = 500))\n"
      ],
      "metadata": {
        "id": "lUnwBMiDGHAW"
      },
      "execution_count": null,
      "outputs": []
    },
    {
      "cell_type": "code",
      "source": [
        "from torch.utils.data import Dataset, DataLoader\n",
        "\n",
        "class MyDataset(Dataset):\n",
        "\n",
        "    def __init__(self, src, trg):\n",
        "        self.X = src\n",
        "        self.y = trg\n",
        "\n",
        "    def __len__(self):\n",
        "        return self.X.shape[0]\n",
        "\n",
        "    def __getitem__(self, index):\n",
        "        return (self.X[index], self.y[index])"
      ],
      "metadata": {
        "id": "MlwVSNaf3GiZ"
      },
      "execution_count": null,
      "outputs": []
    },
    {
      "cell_type": "code",
      "source": [
        "device = torch.device('cuda' if torch.cuda.is_available() else 'cpu')\n",
        "\n",
        "X_array = torch.LongTensor(X) #.to(device)\n",
        "Y_array = torch.LongTensor(Y) #.to(device)"
      ],
      "metadata": {
        "id": "6Q53IqMCp-A7"
      },
      "execution_count": null,
      "outputs": []
    },
    {
      "cell_type": "code",
      "source": [
        "Y_array[0]"
      ],
      "metadata": {
        "colab": {
          "base_uri": "https://localhost:8080/"
        },
        "id": "pheNb4eWYJf5",
        "outputId": "f2c3d276-0968-4627-9f36-859216929772"
      },
      "execution_count": null,
      "outputs": [
        {
          "output_type": "execute_result",
          "data": {
            "text/plain": [
              "tensor([184, 186, 186, 186, 186, 186, 186, 186, 186, 186, 186, 186, 186, 186,\n",
              "        186, 186, 186, 186, 186, 186, 186, 186, 186, 186, 186, 186, 186, 186,\n",
              "        186, 186, 186, 186, 186, 186, 186, 186, 186, 186, 186, 186, 186, 186,\n",
              "        186, 186, 186, 186, 186, 186, 186, 186, 186, 186, 186, 186, 186, 186,\n",
              "        186, 186, 186, 186, 186, 186, 186, 186, 186, 186, 186, 186, 186, 186,\n",
              "        186, 186, 186, 186, 186, 186, 186, 186, 186, 186, 186, 186, 186, 186,\n",
              "        186, 186, 186, 186, 186, 186, 186, 186, 186, 186, 186, 186, 186, 186,\n",
              "        186, 186, 186, 186, 186, 186, 186, 186, 186, 186, 186, 186, 186, 186,\n",
              "        186, 186, 186, 186, 186, 186, 186, 186, 186, 186, 186, 186, 186, 186,\n",
              "        186, 186, 186, 186, 186, 186, 186, 186, 186, 186, 186, 186, 186, 186,\n",
              "        186, 186, 186, 186, 186, 186, 186, 186, 186, 186, 186, 186, 186, 186,\n",
              "        186, 186, 186, 186, 186, 186, 186, 186, 186, 186, 186, 186, 186, 186,\n",
              "        186, 186, 186, 186, 186, 186, 186, 186, 186, 186, 186, 186, 186, 186,\n",
              "        186, 186, 186, 186, 186, 186, 186, 186, 186, 186, 186, 186, 186, 186,\n",
              "        186, 186, 186, 186, 186, 186, 186, 186, 186, 186, 186, 186, 186, 186,\n",
              "        186, 186, 186, 186, 186, 186, 186, 186, 186, 186, 186, 186, 186, 186,\n",
              "        186, 186, 186, 186, 186, 186, 186, 186, 186, 186, 186, 186, 186, 186,\n",
              "        186, 186, 186, 186, 186, 186, 186, 186, 186, 186, 186, 186, 186, 186,\n",
              "        186, 186, 186, 186, 186, 186, 186, 186, 186, 186, 186, 186, 186, 186,\n",
              "        186, 186, 186, 186, 186, 186, 186, 186, 186, 186, 186, 186, 186, 186,\n",
              "        186, 186, 186, 186, 186, 186, 186, 186, 186, 186, 186, 186, 186, 186,\n",
              "        186, 186, 186, 186, 186, 186, 186, 186, 186, 186, 186, 186, 186, 186,\n",
              "        186, 186, 186, 186, 186, 186, 186, 186, 186, 186, 186, 186, 186, 186,\n",
              "        186, 186, 186, 186, 186, 186, 186, 186, 186, 186, 186, 186, 186, 186,\n",
              "        186, 186, 186, 186, 186, 186, 186, 186, 186, 186, 186, 186, 186, 186,\n",
              "        186, 186, 186, 186, 186, 186, 186, 186, 186, 186, 186, 186, 186, 186,\n",
              "        186, 186, 186, 186, 186, 186, 186, 186, 186, 186, 186, 186, 186, 186,\n",
              "        186, 186, 186, 186, 186, 186, 186, 186, 186, 186, 186, 186, 186, 186,\n",
              "        186, 186, 186, 186, 186, 186, 186, 186, 186, 186, 186, 186, 186, 186,\n",
              "        186, 186, 186, 186, 186, 186, 186, 186, 186, 186, 186, 186, 186, 186,\n",
              "        186, 186, 186, 186, 186, 186, 186, 186, 186, 186, 186, 186, 186, 186,\n",
              "        186, 186, 186, 186, 186, 186, 186, 186, 186, 186, 186, 186, 186, 186,\n",
              "        186, 186, 186, 186, 186, 186, 186, 186, 186, 186, 186, 186, 186, 186,\n",
              "        186, 186, 186, 186, 186, 186, 186, 186, 186, 186, 186, 186, 186, 186,\n",
              "        186, 186, 186, 186, 186, 186, 186, 186, 186, 186, 186, 186, 186,  77,\n",
              "         77,  77,  77,  96,  77,  77,  77,  77,  77, 185])"
            ]
          },
          "metadata": {},
          "execution_count": 18
        }
      ]
    },
    {
      "cell_type": "code",
      "source": [
        "\n",
        "from sklearn.model_selection import train_test_split\n",
        "\n",
        "# данные в виде листов\n",
        "X_train, X_test, y_train, y_test = train_test_split(X_array, Y_array, train_size=0.9, test_size=0.1 , random_state=0)"
      ],
      "metadata": {
        "id": "CR-cJIMKQmxa"
      },
      "execution_count": null,
      "outputs": []
    },
    {
      "cell_type": "code",
      "source": [
        "train_ds = MyDataset(X_train, y_train)\n",
        "test_ds = MyDataset(X_test, y_test)"
      ],
      "metadata": {
        "id": "-JONNGMB_xt8"
      },
      "execution_count": null,
      "outputs": []
    },
    {
      "cell_type": "code",
      "source": [
        "from torch.utils.data import DataLoader\n",
        "# словарь по сути уже готов, причем там указаны все мсс коды из тех что были в трэйне\n",
        "\n",
        "BATCH_SIZE = 32\n",
        "\n",
        "train_dl = DataLoader(train_ds,\n",
        "           batch_size=BATCH_SIZE,\n",
        "           shuffle=False\n",
        "           )\n",
        "\n",
        "test_dl = DataLoader(test_ds,\n",
        "           batch_size=BATCH_SIZE,\n",
        "           shuffle=False\n",
        "           )"
      ],
      "metadata": {
        "id": "P2W1sssoGT4i"
      },
      "execution_count": null,
      "outputs": []
    },
    {
      "cell_type": "code",
      "source": [
        "for i in test_dl:\n",
        "  print(i[1][1])\n",
        "  break"
      ],
      "metadata": {
        "colab": {
          "base_uri": "https://localhost:8080/"
        },
        "id": "gQ25OD8R_XaO",
        "outputId": "00f9187d-9fb7-488e-c2a8-8ec199be162a"
      },
      "execution_count": null,
      "outputs": [
        {
          "output_type": "stream",
          "name": "stdout",
          "text": [
            "tensor([184, 186, 186, 186, 186, 186, 186, 186, 186, 186, 186, 186, 186, 186,\n",
            "        186, 186, 186, 186, 186, 186, 186, 186, 186, 186, 186, 186, 186, 186,\n",
            "        186, 186, 186, 186, 186, 186, 186, 186, 186, 186, 186, 186, 186, 186,\n",
            "        186, 186, 186, 186, 186, 186, 186, 186, 186, 186, 186, 186, 186, 186,\n",
            "        186, 186, 186, 186, 186, 186, 186, 186, 186, 186, 186, 186, 186, 186,\n",
            "        186, 186, 186, 186, 186, 186, 186, 186, 186, 186, 186, 186, 186, 186,\n",
            "        186, 186, 186, 186, 186, 186, 186, 186, 186, 186, 186, 186, 186, 186,\n",
            "        186, 186, 186, 186, 186, 186, 186, 186, 186, 186, 186, 186, 186, 186,\n",
            "        186, 186, 186, 186, 186, 186, 186, 186, 186, 186, 186, 186, 186, 186,\n",
            "        186, 186, 186, 186, 186, 186, 186, 186, 186, 186, 186, 186, 186, 186,\n",
            "        186, 186, 186, 186, 186, 186, 186, 186, 186, 186, 186, 186, 186, 186,\n",
            "        186, 186, 186, 186, 186, 186, 186, 186, 186, 186, 186, 186, 186, 186,\n",
            "        186, 186, 186, 186, 186, 186, 186, 186, 186, 186, 186, 186, 186, 186,\n",
            "        186, 186, 186, 186, 186, 186, 186, 186, 186, 186, 186, 186, 186, 186,\n",
            "        186, 186, 186, 186, 186, 186, 186, 186, 186, 186, 186, 186, 186, 186,\n",
            "        186, 186, 186, 186, 186, 186, 186, 186, 186, 186, 186, 186, 186, 186,\n",
            "        186, 186, 186, 186, 186, 186, 186, 186, 186, 186, 186, 186, 186, 186,\n",
            "        186, 186, 186, 186, 186, 186, 186, 186, 186, 186, 186, 186, 186, 186,\n",
            "        186, 186, 186, 186, 186, 186, 186, 186, 186, 186, 186, 186, 186, 186,\n",
            "        186, 186, 186, 186, 186, 186, 186, 186, 186, 186, 186, 186, 186, 186,\n",
            "        186, 186, 186, 186, 186, 186, 186, 186, 186, 186, 186, 186, 186, 186,\n",
            "        186, 186, 186, 186, 186, 186, 186, 186, 186, 186, 186, 186, 186, 186,\n",
            "        186, 186, 186, 186, 186, 186, 186, 186, 186, 186, 186, 186, 186, 186,\n",
            "        186, 186, 186, 186, 186, 186, 186, 186, 186, 186, 186, 186, 186, 186,\n",
            "        186, 186, 186, 186, 186, 186, 186, 186, 186, 186, 186, 186, 186, 186,\n",
            "        186, 186, 186, 186, 186, 186, 186, 186, 186, 186, 186, 186, 186, 186,\n",
            "        186, 186, 186, 186, 186, 186, 186, 186, 186, 186, 186, 186, 186, 186,\n",
            "        186, 186, 186, 186, 186, 186, 186, 186, 186, 186, 186, 186, 186, 186,\n",
            "        186, 186, 186, 186, 186, 186, 186, 186, 186, 186, 186, 186, 186, 186,\n",
            "        186, 186, 186, 186, 186, 186, 186, 186, 186, 186, 186, 186, 186, 186,\n",
            "        186, 186, 186, 186, 186, 186, 186, 186, 186, 186, 186, 186, 186, 186,\n",
            "        186, 186, 186, 186, 186, 186, 186, 186, 186, 186, 186, 186, 186, 186,\n",
            "        186, 186, 186, 186, 186, 186, 186, 186, 186, 186, 186, 186, 186, 186,\n",
            "        186, 186, 186, 186, 186, 186, 186, 186, 186, 186, 186, 186, 186, 186,\n",
            "        186, 186, 186, 186, 186, 186, 186, 186, 186, 186, 186, 186, 186, 109,\n",
            "        134, 161, 149,  77, 109,  96,  77,  77, 148, 185])\n"
          ]
        }
      ]
    },
    {
      "cell_type": "code",
      "source": [
        "class Encoder(nn.Module):\n",
        "    def __init__(self, input_dim, emb_dim, hid_dim, n_layers, dropout):\n",
        "        super().__init__()\n",
        "\n",
        "        self.hid_dim = hid_dim\n",
        "        self.n_layers = n_layers\n",
        "\n",
        "        self.embedding = nn.Embedding(input_dim,\n",
        "                                      emb_dim,\n",
        "                                      #padding_idx=186\n",
        "                                      )\n",
        "\n",
        "        self.rnn = nn.LSTM(emb_dim, hid_dim, n_layers, dropout = dropout)\n",
        "\n",
        "        self.dropout = nn.Dropout(dropout)\n",
        "\n",
        "    def forward(self, src):\n",
        "\n",
        "        #src = [src len, batch size]\n",
        "\n",
        "        #print(src)\n",
        "        embedded = self.dropout(self.embedding(src))\n",
        "        #print()\n",
        "\n",
        "        #print(embedded)\n",
        "\n",
        "        #embedded = [src len, batch size, emb dim]\n",
        "\n",
        "        outputs, (hidden, cell) = self.rnn(embedded)\n",
        "\n",
        "        #outputs = [src len, batch size, hid dim * n directions]\n",
        "        #hidden = [n layers * n directions, batch size, hid dim]\n",
        "        #cell = [n layers * n directions, batch size, hid dim]\n",
        "\n",
        "        #outputs are always from the top hidden layer\n",
        "\n",
        "        return hidden, cell\n",
        "\n",
        "\n",
        "\n",
        "\n",
        "class Decoder(nn.Module):\n",
        "    def __init__(self, output_dim, emb_dim, hid_dim, n_layers, dropout):\n",
        "        super().__init__()\n",
        "\n",
        "        self.output_dim = output_dim\n",
        "        self.hid_dim = hid_dim\n",
        "        self.n_layers = n_layers\n",
        "\n",
        "        self.embedding = nn.Embedding(\n",
        "            output_dim,\n",
        "            emb_dim,\n",
        "            #padding_idx=186\n",
        "            )\n",
        "\n",
        "        self.rnn = nn.LSTM(emb_dim, hid_dim, n_layers, dropout = dropout)\n",
        "\n",
        "        self.fc_out = nn.Linear(hid_dim, output_dim)\n",
        "\n",
        "        self.dropout = nn.Dropout(dropout)\n",
        "\n",
        "    def forward(self, input, hidden, cell):\n",
        "\n",
        "        #input = [batch size]\n",
        "        #hidden = [n layers * n directions, batch size, hid dim]\n",
        "        #cell = [n layers * n directions, batch size, hid dim]\n",
        "\n",
        "        #n directions in the decoder will both always be 1, therefore:\n",
        "        #hidden = [n layers, batch size, hid dim]\n",
        "        #context = [n layers, batch size, hid dim]\n",
        "\n",
        "        # Returns a new tensor with a dimension of size one inserted at the specified position.\n",
        "        input = input.unsqueeze(0)\n",
        "\n",
        "        #input = [1, batch size]\n",
        "\n",
        "        embedded = self.dropout(self.embedding(input))\n",
        "\n",
        "        #embedded = [1, batch size, emb dim]\n",
        "\n",
        "        output, (hidden, cell) = self.rnn(embedded, (hidden, cell))\n",
        "\n",
        "        #output = [seq len, batch size, hid dim * n directions]\n",
        "        #hidden = [n layers * n directions, batch size, hid dim]\n",
        "        #cell = [n layers * n directions, batch size, hid dim]\n",
        "\n",
        "        #seq len and n directions will always be 1 in the decoder, therefore:\n",
        "        #output = [1, batch size, hid dim]\n",
        "        #hidden = [n layers, batch size, hid dim]\n",
        "        #cell = [n layers, batch size, hid dim]\n",
        "\n",
        "        prediction = self.fc_out(output.squeeze(0))\n",
        "\n",
        "        #prediction = [batch size, output dim]\n",
        "\n",
        "        return prediction, hidden, cell\n",
        "\n",
        "\n",
        "\n",
        "\n",
        "class Seq2Seq(nn.Module):\n",
        "    def __init__(self, encoder, decoder, device):\n",
        "        super().__init__()\n",
        "\n",
        "        self.encoder = encoder\n",
        "        self.decoder = decoder\n",
        "        #self.device = device\n",
        "\n",
        "        assert encoder.hid_dim == decoder.hid_dim, \\\n",
        "            \"Hidden dimensions of encoder and decoder must be equal!\"\n",
        "        assert encoder.n_layers == decoder.n_layers, \\\n",
        "            \"Encoder and decoder must have equal number of layers!\"\n",
        "\n",
        "    def forward(self, src, trg, teacher_forcing_ratio = 0.5):\n",
        "\n",
        "        #src = [src len, batch size]\n",
        "        #trg = [trg len, batch size]\n",
        "        #teacher_forcing_ratio is probability to use teacher forcing\n",
        "        #e.g. if teacher_forcing_ratio is 0.75 we use ground-truth inputs 75% of the time\n",
        "\n",
        "        batch_size = trg.shape[1]\n",
        "        trg_len = trg.shape[0]\n",
        "        trg_vocab_size = self.decoder.output_dim\n",
        "\n",
        "        #tensor to store decoder outputs\n",
        "        outputs = torch.zeros(trg_len, batch_size, trg_vocab_size) #.to(self.device)\n",
        "\n",
        "        #last hidden state of the encoder is used as the initial hidden state of the decoder\n",
        "        hidden, cell = self.encoder(src)\n",
        "        #print(hidden.shape)\n",
        "\n",
        "        #first input to the decoder is the <sos> tokens\n",
        "        input = trg[0,:]\n",
        "\n",
        "        for t in range(1, trg_len):\n",
        "\n",
        "            #insert input token embedding, previous hidden and previous cell states\n",
        "            #receive output tensor (predictions) and new hidden and cell states\n",
        "            output, hidden, cell = self.decoder(input, hidden, cell)\n",
        "\n",
        "            #place predictions in a tensor holding predictions for each token\n",
        "            outputs[t] = output\n",
        "\n",
        "            #decide if we are going to use teacher forcing or not\n",
        "            teacher_force = random.random() < teacher_forcing_ratio\n",
        "\n",
        "            #get the highest predicted token from our predictions\n",
        "            top1 = output.argmax(1)\n",
        "\n",
        "            #if teacher forcing, use actual next token as next input\n",
        "            #if not, use predicted token\n",
        "            input = trg[t] if teacher_force else top1\n",
        "\n",
        "        return outputs"
      ],
      "metadata": {
        "id": "Dn6sv3V74vps"
      },
      "execution_count": null,
      "outputs": []
    },
    {
      "cell_type": "code",
      "source": [
        "INPUT_DIM = OUTPUT_DIM = len(mcc2label) + 3\n",
        "ENC_EMB_DIM = 30\n",
        "DEC_EMB_DIM = 30\n",
        "HID_DIM = 64\n",
        "N_LAYERS = 2\n",
        "ENC_DROPOUT = 0.5\n",
        "DEC_DROPOUT = 0.5\n",
        "\n",
        "enc = Encoder(INPUT_DIM, ENC_EMB_DIM, HID_DIM, N_LAYERS, ENC_DROPOUT)\n",
        "dec = Decoder(OUTPUT_DIM, DEC_EMB_DIM, HID_DIM, N_LAYERS, DEC_DROPOUT)\n",
        "\n",
        "model = Seq2Seq(enc, dec, device) #.to(device)"
      ],
      "metadata": {
        "id": "SLjI99n07v8D"
      },
      "execution_count": null,
      "outputs": []
    },
    {
      "cell_type": "code",
      "source": [
        "# такие веса были в оригинальной статье как самые эффективные\n",
        "\n",
        "def init_weights(m):\n",
        "    for name, param in m.named_parameters():\n",
        "        nn.init.uniform_(param.data, -0.08, 0.08)\n",
        "\n",
        "model.apply(init_weights)"
      ],
      "metadata": {
        "colab": {
          "base_uri": "https://localhost:8080/"
        },
        "id": "TaKStxg-79Wv",
        "outputId": "ccb79a4b-4cca-4100-d02c-e9a7441eecb2"
      },
      "execution_count": null,
      "outputs": [
        {
          "output_type": "execute_result",
          "data": {
            "text/plain": [
              "Seq2Seq(\n",
              "  (encoder): Encoder(\n",
              "    (embedding): Embedding(187, 30)\n",
              "    (rnn): LSTM(30, 64, num_layers=2, dropout=0.5)\n",
              "    (dropout): Dropout(p=0.5, inplace=False)\n",
              "  )\n",
              "  (decoder): Decoder(\n",
              "    (embedding): Embedding(187, 30)\n",
              "    (rnn): LSTM(30, 64, num_layers=2, dropout=0.5)\n",
              "    (fc_out): Linear(in_features=64, out_features=187, bias=True)\n",
              "    (dropout): Dropout(p=0.5, inplace=False)\n",
              "  )\n",
              ")"
            ]
          },
          "metadata": {},
          "execution_count": 24
        }
      ]
    },
    {
      "cell_type": "code",
      "source": [
        "def count_parameters(model):\n",
        "    return sum(p.numel() for p in model.parameters() if p.requires_grad)\n",
        "\n",
        "print(f'The model has {count_parameters(model):,} trainable parameters')"
      ],
      "metadata": {
        "colab": {
          "base_uri": "https://localhost:8080/"
        },
        "id": "Mpd1PWTi8Ndm",
        "outputId": "0212559f-dfad-4dac-cc56-939878286674"
      },
      "execution_count": null,
      "outputs": [
        {
          "output_type": "stream",
          "name": "stdout",
          "text": [
            "The model has 139,087 trainable parameters\n"
          ]
        }
      ]
    },
    {
      "cell_type": "code",
      "source": [
        "# Наша функция потерь вычисляет средние потери на токен, однако, передав индекс\n",
        "# токена <pad> в качестве аргумента ignore_index, мы игнорируем потерю всякий раз,\n",
        "# когда целевой токен является маркером заполнения <pad>.\n",
        "\n",
        "optimizer = optim.Adam(model.parameters())\n",
        "TRG_PAD_IDX = 186\n",
        "\n",
        "criterion = nn.CrossEntropyLoss(ignore_index = TRG_PAD_IDX)"
      ],
      "metadata": {
        "id": "eWG00lsE8UQm"
      },
      "execution_count": null,
      "outputs": []
    },
    {
      "cell_type": "code",
      "source": [
        "def train(model, iterator, optimizer, criterion, clip):\n",
        "\n",
        "    model.train()\n",
        "\n",
        "    epoch_loss = 0\n",
        "\n",
        "    for i, batch in enumerate(iterator):\n",
        "\n",
        "        src = batch[0]\n",
        "        trg = batch[1]\n",
        "\n",
        "        #print(src[0])\n",
        "\n",
        "        optimizer.zero_grad()\n",
        "\n",
        "        output = model(src, trg)\n",
        "\n",
        "        #trg = [trg len, batch size]\n",
        "        #output = [trg len, batch size, output dim]\n",
        "\n",
        "        output_dim = output.shape[-1]\n",
        "\n",
        "        output = output[1:].view(-1, output_dim)\n",
        "        trg = trg[1:].view(-1)\n",
        "\n",
        "        #trg = [(trg len - 1) * batch size]\n",
        "        #output = [(trg len - 1) * batch size, output dim]\n",
        "\n",
        "        #print(trg)\n",
        "        #print()\n",
        "        #print(output)\n",
        "\n",
        "        loss = criterion(output, trg)\n",
        "\n",
        "        loss.backward()\n",
        "\n",
        "        torch.nn.utils.clip_grad_norm_(model.parameters(), clip)\n",
        "\n",
        "        optimizer.step()\n",
        "\n",
        "        epoch_loss += loss.item()\n",
        "\n",
        "    return epoch_loss / len(iterator)"
      ],
      "metadata": {
        "id": "8E1P8hzR8ytN"
      },
      "execution_count": null,
      "outputs": []
    },
    {
      "cell_type": "code",
      "source": [
        "def evaluate(model, iterator, criterion):\n",
        "\n",
        "    model.eval()\n",
        "\n",
        "    epoch_loss = 0\n",
        "\n",
        "    with torch.no_grad():\n",
        "\n",
        "        for i, batch in enumerate(iterator):\n",
        "\n",
        "            src = batch[0]\n",
        "            trg = batch[1]\n",
        "\n",
        "            output = model(src, trg, 0) #turn off teacher forcing\n",
        "\n",
        "            #trg = [trg len, batch size]\n",
        "            #output = [trg len, batch size, output dim]\n",
        "\n",
        "            output_dim = output.shape[-1]\n",
        "\n",
        "            output = output[1:].view(-1, output_dim)\n",
        "            trg = trg[1:].view(-1)\n",
        "\n",
        "            #trg = [(trg len - 1) * batch size]\n",
        "            #output = [(trg len - 1) * batch size, output dim]\n",
        "\n",
        "\n",
        "            loss = criterion(output, trg)\n",
        "\n",
        "            epoch_loss += loss.item()\n",
        "\n",
        "    return epoch_loss / len(iterator)\n"
      ],
      "metadata": {
        "id": "AJ4s7YLn89dB"
      },
      "execution_count": null,
      "outputs": []
    },
    {
      "cell_type": "code",
      "source": [
        "def epoch_time(start_time, end_time):\n",
        "    elapsed_time = end_time - start_time\n",
        "    elapsed_mins = int(elapsed_time / 60)\n",
        "    elapsed_secs = int(elapsed_time - (elapsed_mins * 60))\n",
        "    return elapsed_mins, elapsed_secs"
      ],
      "metadata": {
        "id": "omeEDsCbB5n9"
      },
      "execution_count": null,
      "outputs": []
    },
    {
      "cell_type": "code",
      "source": [
        "N_EPOCHS = 10\n",
        "CLIP = 1\n",
        "\n",
        "best_valid_loss = float('inf')\n",
        "\n",
        "for epoch in range(N_EPOCHS):\n",
        "\n",
        "    start_time = time.time()\n",
        "\n",
        "    train_loss = train(model, train_dl, optimizer, criterion, CLIP)\n",
        "    valid_loss = evaluate(model, test_dl, criterion)\n",
        "\n",
        "    end_time = time.time()\n",
        "\n",
        "    epoch_mins, epoch_secs = epoch_time(start_time, end_time)\n",
        "\n",
        "    if valid_loss < best_valid_loss:\n",
        "        best_valid_loss = valid_loss\n",
        "        torch.save(model.state_dict(), 'tut1-model.pt')\n",
        "\n",
        "    print(f'Epoch: {epoch+1:02} | Time: {epoch_mins}m {epoch_secs}s')\n",
        "    print(f'\\tTrain Loss: {train_loss:.3f} | Train PPL: {math.exp(train_loss):7.3f}')\n",
        "    print(f'\\t Val. Loss: {valid_loss:.3f} |  Val. PPL: {math.exp(valid_loss):7.3f}')"
      ],
      "metadata": {
        "id": "XYqk6pDO9L6e"
      },
      "execution_count": null,
      "outputs": []
    },
    {
      "cell_type": "code",
      "source": [
        "def cut_and_decode_mcc(seq):\n",
        "  new = []\n",
        "  for i in seq:\n",
        "    if i not in [184, 185, 186]:\n",
        "      new.append(i)\n",
        "  new = list(map(lambda x: label2mcc[x], new))\n",
        "  return seq"
      ],
      "metadata": {
        "id": "K55Y9Tf4v324"
      },
      "execution_count": null,
      "outputs": []
    },
    {
      "cell_type": "code",
      "source": [
        "label2mcc[149]"
      ],
      "metadata": {
        "colab": {
          "base_uri": "https://localhost:8080/"
        },
        "id": "RrBlQ0ppyO6u",
        "outputId": "919a294c-5d94-47ec-9bfb-cd2dbd7b645c"
      },
      "execution_count": null,
      "outputs": [
        {
          "output_type": "execute_result",
          "data": {
            "text/plain": [
              "6011"
            ]
          },
          "metadata": {},
          "execution_count": 39
        }
      ]
    },
    {
      "cell_type": "code",
      "source": [
        "\n",
        "for i, batch in enumerate(test_dl):\n",
        "\n",
        "    model.eval()\n",
        "    src = batch[0]\n",
        "    trg = batch[1]\n",
        "    output = model(src, trg, 0)\n",
        "    #turn off teacher forci\n",
        "    #trg = [trg len, batch size]\n",
        "    #output = [trg len, batch size, output dim\n",
        "    print(output[1:].argmax(-1)[0])\n",
        "    break\n",
        "    output = output[1:].argmax(-1)\n",
        "\n",
        "    original = []\n",
        "    generated = []\n",
        "\n",
        "    output[:,0]\n"
      ],
      "metadata": {
        "colab": {
          "base_uri": "https://localhost:8080/"
        },
        "id": "CMWTtI3qmbZ5",
        "outputId": "51c1a6b0-86ad-4103-8a5c-ce5e724108d3"
      },
      "execution_count": null,
      "outputs": [
        {
          "output_type": "stream",
          "name": "stdout",
          "text": [
            "torch.Size([2, 500, 64])\n",
            "tensor([184, 149, 149, 149, 149, 149, 149, 149, 149, 149, 149, 149, 149, 149,\n",
            "        149, 149, 149, 149, 149, 149, 149, 149, 149, 149, 149, 149, 149, 149,\n",
            "        149, 149, 149, 149, 149, 149, 149, 149, 149, 149, 149, 149, 149, 149,\n",
            "        149, 149, 149, 149, 149, 149, 149, 149, 149, 149, 149, 149, 149, 149,\n",
            "        149, 149, 149, 149, 149, 149, 149, 149, 149, 149, 149, 149, 149, 149,\n",
            "        149, 149, 149, 149, 149, 149, 149, 149, 149, 149, 149, 149, 149, 149,\n",
            "        149, 149, 149, 149, 149, 149, 149, 149, 149, 149, 149, 149, 149, 149,\n",
            "        149, 149, 149, 149, 149, 149, 149, 149, 149, 149, 149, 149, 149, 149,\n",
            "        149, 149, 149, 149, 149, 149, 149, 149, 149, 149, 149, 149, 149, 149,\n",
            "        149, 149, 149, 149, 149, 149, 149, 149, 149, 149, 149, 149, 149, 149,\n",
            "        149, 149, 149, 149, 149, 149, 149, 149, 149, 149, 149, 149, 149, 149,\n",
            "        149, 149, 149, 149, 149, 149, 149, 149, 149, 149, 149, 149, 149, 149,\n",
            "        149, 149, 149, 149, 149, 149, 149, 149, 149, 149, 149, 149, 149, 149,\n",
            "        149, 149, 149, 149, 149, 149, 149, 149, 149, 149, 149, 149, 149, 149,\n",
            "        149, 149, 149, 149, 149, 149, 149, 149, 149, 149, 149, 149, 149, 149,\n",
            "        149, 149, 149, 149, 149, 149, 149, 149, 149, 149, 149, 149, 149, 149,\n",
            "        149, 149, 149, 149, 149, 149, 149, 149, 149, 149, 149, 149, 149, 149,\n",
            "        149, 149, 149, 149, 149, 149, 149, 149, 149, 149, 149, 149, 149, 149,\n",
            "        149, 149, 149, 149, 149, 149, 149, 149, 149, 149, 149, 149, 149, 149,\n",
            "        149, 149, 149, 149, 149, 149, 149, 149, 149, 149, 149, 149, 149, 149,\n",
            "        149, 149, 149, 149, 149, 149, 149, 149, 149, 149, 149, 149, 149, 149,\n",
            "        149, 149, 149, 149, 149, 149, 149, 149, 149, 149, 149, 149, 149, 149,\n",
            "        149, 149, 149, 149, 149, 149, 149, 149, 149, 149, 149, 149, 149, 149,\n",
            "        149, 149, 149, 149, 149, 149, 149, 149, 149, 149, 149, 149, 149, 149,\n",
            "        149, 149, 149, 149, 149, 149, 149, 149, 149, 149, 149, 149, 149, 149,\n",
            "        149, 149, 149, 149, 149, 149, 149, 149, 149, 149, 149, 149, 149, 149,\n",
            "        149, 149, 149, 149, 149, 149, 149, 149, 149, 149, 149, 149, 149, 149,\n",
            "        149, 149, 149, 149, 149, 149, 149, 149, 149, 149, 149, 149, 149, 149,\n",
            "        149, 149, 149, 149, 149, 149, 149, 149, 149, 149, 149, 149, 149, 149,\n",
            "        149, 149, 149, 149, 149, 149, 149, 149, 149, 149, 149, 149, 149, 149,\n",
            "        149, 149, 149, 149, 149, 149, 149, 149, 149, 149, 149, 149, 149, 149,\n",
            "        149, 149, 149, 149, 149, 149, 149, 149, 149, 149, 149, 149, 149, 149,\n",
            "        149, 149, 149, 149, 149, 149, 149, 149, 149, 149, 149, 149, 149, 149,\n",
            "        149, 149, 149, 149, 149, 149, 149, 149, 149, 149, 149, 149, 149, 149,\n",
            "        149, 149, 149, 149, 149, 149, 149, 149, 149, 149, 149, 149, 149, 149,\n",
            "        149, 149, 149, 149, 149, 149, 149, 149, 149, 185])\n"
          ]
        }
      ]
    },
    {
      "cell_type": "markdown",
      "source": [
        "# **pure rnn**"
      ],
      "metadata": {
        "id": "FL8FayVCUlkv"
      }
    },
    {
      "cell_type": "code",
      "source": [
        "df_train['Data'].explode().value_counts().plot.pie(autopct='%1.0f%%')"
      ],
      "metadata": {
        "colab": {
          "base_uri": "https://localhost:8080/",
          "height": 423
        },
        "id": "BujovrVSgSxL",
        "outputId": "e0e8b09a-9a2c-4d5b-8362-184b9cf71e28"
      },
      "execution_count": null,
      "outputs": [
        {
          "output_type": "execute_result",
          "data": {
            "text/plain": [
              "<Axes: ylabel='Data'>"
            ]
          },
          "metadata": {},
          "execution_count": 49
        },
        {
          "output_type": "display_data",
          "data": {
            "text/plain": [
              "<Figure size 640x480 with 1 Axes>"
            ],
            "image/png": "[encoded data removed]"
          },
          "metadata": {}
        }
      ]
    },
    {
      "cell_type": "code",
      "source": [
        "df_train['Data'].explode().value_counts()[7338]"
      ],
      "metadata": {
        "colab": {
          "base_uri": "https://localhost:8080/"
        },
        "id": "Cus06YcXj1gr",
        "outputId": "4aaa1ae3-b831-456e-f435-1d135c3d4e33"
      },
      "execution_count": null,
      "outputs": [
        {
          "output_type": "execute_result",
          "data": {
            "text/plain": [
              "41"
            ]
          },
          "metadata": {},
          "execution_count": 28
        }
      ]
    },
    {
      "cell_type": "code",
      "source": [
        "mcc2label[7338]"
      ],
      "metadata": {
        "colab": {
          "base_uri": "https://localhost:8080/"
        },
        "id": "ZNYN-2S8jpXu",
        "outputId": "a6c01c52-d8cd-4d86-c0e0-b163ce2550bc"
      },
      "execution_count": null,
      "outputs": [
        {
          "output_type": "execute_result",
          "data": {
            "text/plain": [
              "57"
            ]
          },
          "metadata": {},
          "execution_count": 26
        }
      ]
    },
    {
      "cell_type": "code",
      "source": [
        "df_train"
      ],
      "metadata": {
        "colab": {
          "base_uri": "https://localhost:8080/",
          "height": 424
        },
        "id": "HedNF4P-3lL-",
        "outputId": "daba2073-1e86-4a23-fd76-e7d40a18f99c"
      },
      "execution_count": null,
      "outputs": [
        {
          "output_type": "execute_result",
          "data": {
            "text/plain": [
              "        Id                                               Data  \\\n",
              "0        0  [4814, 4814, 6010, 6011, 4814, 6011, 6011, 481...   \n",
              "1        1  [6011, 6011, 6011, 6011, 6011, 6011, 6011, 481...   \n",
              "2        2  [8021, 6011, 6011, 6010, 4829, 4814, 6011, 601...   \n",
              "3        3  [4814, 6011, 4814, 4814, 4814, 6011, 6011, 569...   \n",
              "4        4  [4814, 4814, 4814, 4814, 4814, 4814, 5946, 481...   \n",
              "...    ...                                                ...   \n",
              "7028  7028  [6010, 4829, 6011, 6011, 6011, 6010, 6011, 601...   \n",
              "7029  7029  [4814, 5699, 5641, 5411, 6010, 6011, 4814, 601...   \n",
              "7030  7030  [6011, 6011, 6011, 6011, 6011, 6011, 6011, 601...   \n",
              "7031  7031  [4814, 4814, 5411, 6011, 6011, 4814, 4814, 481...   \n",
              "7032  7032  [6011, 6011, 6011, 6011, 5541, 4814, 6011, 601...   \n",
              "\n",
              "                                                 Target  \n",
              "0     [4814, 4814, 4814, 4814, 5411, 4814, 4814, 481...  \n",
              "1     [4814, 6011, 4814, 6011, 4814, 4814, 6011, 481...  \n",
              "2     [6011, 6011, 6010, 4829, 4829, 6010, 6011, 601...  \n",
              "3     [6011, 6011, 6010, 6011, 6011, 4814, 4814, 601...  \n",
              "4     [5499, 6011, 4814, 4829, 5200, 5411, 5499, 591...  \n",
              "...                                                 ...  \n",
              "7028  [4814, 5499, 5499, 5411, 5251, 4814, 5499, 549...  \n",
              "7029  [6011, 5261, 6011, 5261, 4814, 5411, 4814, 601...  \n",
              "7030  [6011, 6011, 6011, 6011, 6011, 6011, 6011, 601...  \n",
              "7031  [4814, 6011, 6011, 5999, 5999, 6011, 6011, 601...  \n",
              "7032  [6011, 4829, 6010, 6011, 6011, 5411, 6011, 554...  \n",
              "\n",
              "[7033 rows x 3 columns]"
            ],
            "text/html": [
              "\n",
              "  <div id=\"df-a46fdd83-45b9-474a-8828-73e5f1f46765\" class=\"colab-df-container\">\n",
              "    <div>\n",
              "<style scoped>\n",
              "    .dataframe tbody tr th:only-of-type {\n",
              "        vertical-align: middle;\n",
              "    }\n",
              "\n",
              "    .dataframe tbody tr th {\n",
              "        vertical-align: top;\n",
              "    }\n",
              "\n",
              "    .dataframe thead th {\n",
              "        text-align: right;\n",
              "    }\n",
              "</style>\n",
              "<table border=\"1\" class=\"dataframe\">\n",
              "  <thead>\n",
              "    <tr style=\"text-align: right;\">\n",
              "      <th></th>\n",
              "      <th>Id</th>\n",
              "      <th>Data</th>\n",
              "      <th>Target</th>\n",
              "    </tr>\n",
              "  </thead>\n",
              "  <tbody>\n",
              "    <tr>\n",
              "      <th>0</th>\n",
              "      <td>0</td>\n",
              "      <td>[4814, 4814, 6010, 6011, 4814, 6011, 6011, 481...</td>\n",
              "      <td>[4814, 4814, 4814, 4814, 5411, 4814, 4814, 481...</td>\n",
              "    </tr>\n",
              "    <tr>\n",
              "      <th>1</th>\n",
              "      <td>1</td>\n",
              "      <td>[6011, 6011, 6011, 6011, 6011, 6011, 6011, 481...</td>\n",
              "      <td>[4814, 6011, 4814, 6011, 4814, 4814, 6011, 481...</td>\n",
              "    </tr>\n",
              "    <tr>\n",
              "      <th>2</th>\n",
              "      <td>2</td>\n",
              "      <td>[8021, 6011, 6011, 6010, 4829, 4814, 6011, 601...</td>\n",
              "      <td>[6011, 6011, 6010, 4829, 4829, 6010, 6011, 601...</td>\n",
              "    </tr>\n",
              "    <tr>\n",
              "      <th>3</th>\n",
              "      <td>3</td>\n",
              "      <td>[4814, 6011, 4814, 4814, 4814, 6011, 6011, 569...</td>\n",
              "      <td>[6011, 6011, 6010, 6011, 6011, 4814, 4814, 601...</td>\n",
              "    </tr>\n",
              "    <tr>\n",
              "      <th>4</th>\n",
              "      <td>4</td>\n",
              "      <td>[4814, 4814, 4814, 4814, 4814, 4814, 5946, 481...</td>\n",
              "      <td>[5499, 6011, 4814, 4829, 5200, 5411, 5499, 591...</td>\n",
              "    </tr>\n",
              "    <tr>\n",
              "      <th>...</th>\n",
              "      <td>...</td>\n",
              "      <td>...</td>\n",
              "      <td>...</td>\n",
              "    </tr>\n",
              "    <tr>\n",
              "      <th>7028</th>\n",
              "      <td>7028</td>\n",
              "      <td>[6010, 4829, 6011, 6011, 6011, 6010, 6011, 601...</td>\n",
              "      <td>[4814, 5499, 5499, 5411, 5251, 4814, 5499, 549...</td>\n",
              "    </tr>\n",
              "    <tr>\n",
              "      <th>7029</th>\n",
              "      <td>7029</td>\n",
              "      <td>[4814, 5699, 5641, 5411, 6010, 6011, 4814, 601...</td>\n",
              "      <td>[6011, 5261, 6011, 5261, 4814, 5411, 4814, 601...</td>\n",
              "    </tr>\n",
              "    <tr>\n",
              "      <th>7030</th>\n",
              "      <td>7030</td>\n",
              "      <td>[6011, 6011, 6011, 6011, 6011, 6011, 6011, 601...</td>\n",
              "      <td>[6011, 6011, 6011, 6011, 6011, 6011, 6011, 601...</td>\n",
              "    </tr>\n",
              "    <tr>\n",
              "      <th>7031</th>\n",
              "      <td>7031</td>\n",
              "      <td>[4814, 4814, 5411, 6011, 6011, 4814, 4814, 481...</td>\n",
              "      <td>[4814, 6011, 6011, 5999, 5999, 6011, 6011, 601...</td>\n",
              "    </tr>\n",
              "    <tr>\n",
              "      <th>7032</th>\n",
              "      <td>7032</td>\n",
              "      <td>[6011, 6011, 6011, 6011, 5541, 4814, 6011, 601...</td>\n",
              "      <td>[6011, 4829, 6010, 6011, 6011, 5411, 6011, 554...</td>\n",
              "    </tr>\n",
              "  </tbody>\n",
              "</table>\n",
              "<p>7033 rows × 3 columns</p>\n",
              "</div>\n",
              "    <div class=\"colab-df-buttons\">\n",
              "\n",
              "  <div class=\"colab-df-container\">\n",
              "    <button class=\"colab-df-convert\" onclick=\"convertToInteractive('df-a46fdd83-45b9-474a-8828-73e5f1f46765')\"\n",
              "            title=\"Convert this dataframe to an interactive table.\"\n",
              "            style=\"display:none;\">\n",
              "\n",
              "  <svg xmlns=\"http://www.w3.org/2000/svg\" height=\"24px\" viewBox=\"0 -960 960 960\">\n",
              "    <path d=\"M120-120v-720h720v720H120Zm60-500h600v-160H180v160Zm220 220h160v-160H400v160Zm0 220h160v-160H400v160ZM180-400h160v-160H180v160Zm440 0h160v-160H620v160ZM180-180h160v-160H180v160Zm440 0h160v-160H620v160Z\"/>\n",
              "  </svg>\n",
              "    </button>\n",
              "\n",
              "  <style>\n",
              "    .colab-df-container {\n",
              "      display:flex;\n",
              "      gap: 12px;\n",
              "    }\n",
              "\n",
              "    .colab-df-convert {\n",
              "      background-color: #E8F0FE;\n",
              "      border: none;\n",
              "      border-radius: 50%;\n",
              "      cursor: pointer;\n",
              "      display: none;\n",
              "      fill: #1967D2;\n",
              "      height: 32px;\n",
              "      padding: 0 0 0 0;\n",
              "      width: 32px;\n",
              "    }\n",
              "\n",
              "    .colab-df-convert:hover {\n",
              "      background-color: #E2EBFA;\n",
              "      box-shadow: 0px 1px 2px rgba(60, 64, 67, 0.3), 0px 1px 3px 1px rgba(60, 64, 67, 0.15);\n",
              "      fill: #174EA6;\n",
              "    }\n",
              "\n",
              "    .colab-df-buttons div {\n",
              "      margin-bottom: 4px;\n",
              "    }\n",
              "\n",
              "    [theme=dark] .colab-df-convert {\n",
              "      background-color: #3B4455;\n",
              "      fill: #D2E3FC;\n",
              "    }\n",
              "\n",
              "    [theme=dark] .colab-df-convert:hover {\n",
              "      background-color: #434B5C;\n",
              "      box-shadow: 0px 1px 3px 1px rgba(0, 0, 0, 0.15);\n",
              "      filter: drop-shadow(0px 1px 2px rgba(0, 0, 0, 0.3));\n",
              "      fill: #FFFFFF;\n",
              "    }\n",
              "  </style>\n",
              "\n",
              "    <script>\n",
              "      const buttonEl =\n",
              "        document.querySelector('#df-a46fdd83-45b9-474a-8828-73e5f1f46765 button.colab-df-convert');\n",
              "      buttonEl.style.display =\n",
              "        google.colab.kernel.accessAllowed ? 'block' : 'none';\n",
              "\n",
              "      async function convertToInteractive(key) {\n",
              "        const element = document.querySelector('#df-a46fdd83-45b9-474a-8828-73e5f1f46765');\n",
              "        const dataTable =\n",
              "          await google.colab.kernel.invokeFunction('convertToInteractive',\n",
              "                                                    [key], {});\n",
              "        if (!dataTable) return;\n",
              "\n",
              "        const docLinkHtml = 'Like what you see? Visit the ' +\n",
              "          '<a target=\"_blank\" href=https://colab.research.google.com/notebooks/data_table.ipynb>data table notebook</a>'\n",
              "          + ' to learn more about interactive tables.';\n",
              "        element.innerHTML = '';\n",
              "        dataTable['output_type'] = 'display_data';\n",
              "        await google.colab.output.renderOutput(dataTable, element);\n",
              "        const docLink = document.createElement('div');\n",
              "        docLink.innerHTML = docLinkHtml;\n",
              "        element.appendChild(docLink);\n",
              "      }\n",
              "    </script>\n",
              "  </div>\n",
              "\n",
              "\n",
              "<div id=\"df-e1242319-359b-4a12-afc0-4cc542f6856d\">\n",
              "  <button class=\"colab-df-quickchart\" onclick=\"quickchart('df-e1242319-359b-4a12-afc0-4cc542f6856d')\"\n",
              "            title=\"Suggest charts.\"\n",
              "            style=\"display:none;\">\n",
              "\n",
              "<svg xmlns=\"http://www.w3.org/2000/svg\" height=\"24px\"viewBox=\"0 0 24 24\"\n",
              "     width=\"24px\">\n",
              "    <g>\n",
              "        <path d=\"M19 3H5c-1.1 0-2 .9-2 2v14c0 1.1.9 2 2 2h14c1.1 0 2-.9 2-2V5c0-1.1-.9-2-2-2zM9 17H7v-7h2v7zm4 0h-2V7h2v10zm4 0h-2v-4h2v4z\"/>\n",
              "    </g>\n",
              "</svg>\n",
              "  </button>\n",
              "\n",
              "<style>\n",
              "  .colab-df-quickchart {\n",
              "      --bg-color: #E8F0FE;\n",
              "      --fill-color: #1967D2;\n",
              "      --hover-bg-color: #E2EBFA;\n",
              "      --hover-fill-color: #174EA6;\n",
              "      --disabled-fill-color: #AAA;\n",
              "      --disabled-bg-color: #DDD;\n",
              "  }\n",
              "\n",
              "  [theme=dark] .colab-df-quickchart {\n",
              "      --bg-color: #3B4455;\n",
              "      --fill-color: #D2E3FC;\n",
              "      --hover-bg-color: #434B5C;\n",
              "      --hover-fill-color: #FFFFFF;\n",
              "      --disabled-bg-color: #3B4455;\n",
              "      --disabled-fill-color: #666;\n",
              "  }\n",
              "\n",
              "  .colab-df-quickchart {\n",
              "    background-color: var(--bg-color);\n",
              "    border: none;\n",
              "    border-radius: 50%;\n",
              "    cursor: pointer;\n",
              "    display: none;\n",
              "    fill: var(--fill-color);\n",
              "    height: 32px;\n",
              "    padding: 0;\n",
              "    width: 32px;\n",
              "  }\n",
              "\n",
              "  .colab-df-quickchart:hover {\n",
              "    background-color: var(--hover-bg-color);\n",
              "    box-shadow: 0 1px 2px rgba(60, 64, 67, 0.3), 0 1px 3px 1px rgba(60, 64, 67, 0.15);\n",
              "    fill: var(--button-hover-fill-color);\n",
              "  }\n",
              "\n",
              "  .colab-df-quickchart-complete:disabled,\n",
              "  .colab-df-quickchart-complete:disabled:hover {\n",
              "    background-color: var(--disabled-bg-color);\n",
              "    fill: var(--disabled-fill-color);\n",
              "    box-shadow: none;\n",
              "  }\n",
              "\n",
              "  .colab-df-spinner {\n",
              "    border: 2px solid var(--fill-color);\n",
              "    border-color: transparent;\n",
              "    border-bottom-color: var(--fill-color);\n",
              "    animation:\n",
              "      spin 1s steps(1) infinite;\n",
              "  }\n",
              "\n",
              "  @keyframes spin {\n",
              "    0% {\n",
              "      border-color: transparent;\n",
              "      border-bottom-color: var(--fill-color);\n",
              "      border-left-color: var(--fill-color);\n",
              "    }\n",
              "    20% {\n",
              "      border-color: transparent;\n",
              "      border-left-color: var(--fill-color);\n",
              "      border-top-color: var(--fill-color);\n",
              "    }\n",
              "    30% {\n",
              "      border-color: transparent;\n",
              "      border-left-color: var(--fill-color);\n",
              "      border-top-color: var(--fill-color);\n",
              "      border-right-color: var(--fill-color);\n",
              "    }\n",
              "    40% {\n",
              "      border-color: transparent;\n",
              "      border-right-color: var(--fill-color);\n",
              "      border-top-color: var(--fill-color);\n",
              "    }\n",
              "    60% {\n",
              "      border-color: transparent;\n",
              "      border-right-color: var(--fill-color);\n",
              "    }\n",
              "    80% {\n",
              "      border-color: transparent;\n",
              "      border-right-color: var(--fill-color);\n",
              "      border-bottom-color: var(--fill-color);\n",
              "    }\n",
              "    90% {\n",
              "      border-color: transparent;\n",
              "      border-bottom-color: var(--fill-color);\n",
              "    }\n",
              "  }\n",
              "</style>\n",
              "\n",
              "  <script>\n",
              "    async function quickchart(key) {\n",
              "      const quickchartButtonEl =\n",
              "        document.querySelector('#' + key + ' button');\n",
              "      quickchartButtonEl.disabled = true;  // To prevent multiple clicks.\n",
              "      quickchartButtonEl.classList.add('colab-df-spinner');\n",
              "      try {\n",
              "        const charts = await google.colab.kernel.invokeFunction(\n",
              "            'suggestCharts', [key], {});\n",
              "      } catch (error) {\n",
              "        console.error('Error during call to suggestCharts:', error);\n",
              "      }\n",
              "      quickchartButtonEl.classList.remove('colab-df-spinner');\n",
              "      quickchartButtonEl.classList.add('colab-df-quickchart-complete');\n",
              "    }\n",
              "    (() => {\n",
              "      let quickchartButtonEl =\n",
              "        document.querySelector('#df-e1242319-359b-4a12-afc0-4cc542f6856d button');\n",
              "      quickchartButtonEl.style.display =\n",
              "        google.colab.kernel.accessAllowed ? 'block' : 'none';\n",
              "    })();\n",
              "  </script>\n",
              "</div>\n",
              "    </div>\n",
              "  </div>\n"
            ]
          },
          "metadata": {},
          "execution_count": 13
        }
      ]
    },
    {
      "cell_type": "code",
      "source": [
        "# хотелось бы вообще посомотреть какие длины последовательностей у нас есть\n",
        "\n",
        "# количество слов - количество поэм\n",
        "\n",
        "seq_len = [len(str(i).split()) for i in df_train.Data]\n",
        "pd.Series(seq_len).hist(bins = 100, figsize=(20,5))"
      ],
      "metadata": {
        "colab": {
          "base_uri": "https://localhost:8080/",
          "height": 379
        },
        "id": "Z1BRYe0BC1Lw",
        "outputId": "7ea2e0de-e370-43e9-91ca-b479ae7263f9"
      },
      "execution_count": null,
      "outputs": [
        {
          "output_type": "execute_result",
          "data": {
            "text/plain": [
              "<Axes: >"
            ]
          },
          "metadata": {},
          "execution_count": 78
        },
        {
          "output_type": "display_data",
          "data": {
            "text/plain": [
              "<Figure size 2000x500 with 1 Axes>"
            ],
            "image/png": "[encoded data removed]"
          },
          "metadata": {}
        }
      ]
    },
    {
      "cell_type": "code",
      "source": [
        "lengths = {j: len(i) for i, j in zip(df_train['Data'], df_train[\"Id\"])}\n",
        "\n",
        "# посмотрим сколько реально больших стихотворений\n",
        "keys_1000 = [key for key, val in lengths.items() if val < 2000]\n",
        "len(keys_1000)"
      ],
      "metadata": {
        "colab": {
          "base_uri": "https://localhost:8080/"
        },
        "id": "NGJthcrwOQFy",
        "outputId": "4f92b0d2-8ca3-41f4-9ca7-dfdef5e2a7db"
      },
      "execution_count": null,
      "outputs": [
        {
          "output_type": "execute_result",
          "data": {
            "text/plain": [
              "6955"
            ]
          },
          "metadata": {},
          "execution_count": 79
        }
      ]
    },
    {
      "cell_type": "code",
      "source": [
        "for _, i in df_train.iterrows():\n",
        "  if _ == 154:\n",
        "    print(np.array([i.Data + i.Target]))"
      ],
      "metadata": {
        "colab": {
          "base_uri": "https://localhost:8080/"
        },
        "id": "eJMyZV41FekI",
        "outputId": "6d094272-99da-48b6-d09f-3ec5aa2f1ed4"
      },
      "execution_count": null,
      "outputs": [
        {
          "output_type": "stream",
          "name": "stdout",
          "text": [
            "[[4814 6011 6011 6011 6011 6011 5331 6011 6011 5541 4814 5541 6011 4814\n",
            "  4814 4814 4814 4814 6011 4814 6011 4814 6011 4814 5331 6011 5331 5331\n",
            "  5331 5331 4814 4814 4814 5331 5331 4814 5331 5331 6011 5331 4814 4814\n",
            "  5331 5331 4814 4814 4814 5331 5331 5331 6010 6010 6011 4814 5331 4814\n",
            "  4814 5331 5331 4814 6011 5331 5331 4814 5331 5331 6011 4814 5331 6011\n",
            "  4814 5999 5331 5331 5331 5331 5331 5331 5331 4814 5331 6011 6011 6011\n",
            "  5331 6011 6011 6011 5331 6011 6011 6011 4814 6011 5921 6011 5331 6011\n",
            "  6011 6011]]\n"
          ]
        }
      ]
    },
    {
      "cell_type": "code",
      "source": [
        "mcc_codes_test = set()\n",
        "\n",
        "for _, i in df_test.iterrows():\n",
        "  mcc_codes_test |= set(i.Data)\n",
        "\n",
        "mcc_codes = set()\n",
        "\n",
        "for _, i in df_train.iterrows():\n",
        "  mcc_codes |= set(i.Data)\n",
        "\n",
        "all_codes = mcc_codes_test| mcc_codes\n",
        "\n",
        "mcc2label = {j: i for i, j in enumerate(all_codes)}\n",
        "# 0 to 183\n",
        "label2mcc = {i: j for i, j in enumerate(all_codes)}\n",
        "mcc_codes_num = len(all_codes)"
      ],
      "metadata": {
        "id": "Qz34tRMSzoKV"
      },
      "execution_count": null,
      "outputs": []
    },
    {
      "cell_type": "code",
      "source": [
        "# В данном подходе делаем последовательности длины 40, и предсказывает каждый последующий мсс код\n",
        "# придётся порезать данные на тесте и исследовать только последние 40 кодов\n",
        "# в таком случае сеть не сможет анализировать более сложные длинные взаимосвязи\n",
        "#\n",
        "# рекурентная сеть просто ставит код 77 для всех последовательностей, не выявляет закономерностей\n",
        "# возможно стоит увеличить длину последовательности\n",
        "\n",
        "from keras.utils import to_categorical\n",
        "\n",
        "seq_length = 100\n",
        "# кодируем метки\n",
        "\n",
        "X = []\n",
        "Y = []\n",
        "\n",
        "for _, i in df_train.iterrows():\n",
        "\n",
        "  datas = i.Data + i.Target\n",
        "  datas = list(map(lambda x: mcc2label[x], datas))\n",
        "\n",
        "    # если длина послед меньше минимальной, в начало бахаем 184 они не значимые\n",
        "  if len(datas) <= seq_length + 1:\n",
        "    # последовательность длины 100 и таргет 1, итого 101\n",
        "    number = seq_length - len(datas) + 1\n",
        "    # 184 - служебный символ, означающий НИЧЕГО\n",
        "    datas = [184]*number + datas\n",
        "    #print(datas)\n",
        "    #break\n",
        "\n",
        "    x = np.array([datas[:seq_length]])\n",
        "    y = np.array([datas[seq_length]])\n",
        "  else:\n",
        "    n = len(datas) - seq_length\n",
        "    x = np.array([datas[j:j + seq_length] for j in range(n)])\n",
        "    y = np.array([datas[j + seq_length] for j in range(n)])\n",
        "    #print(x)\n",
        "    #print(y)\n",
        "    break\n",
        "\n",
        "  X.append(x)\n",
        "  Y.append(y)"
      ],
      "metadata": {
        "id": "K7iYY58-UlHk"
      },
      "execution_count": null,
      "outputs": []
    },
    {
      "cell_type": "code",
      "source": [
        "from keras.utils import to_categorical\n",
        "a = to_categorical([0, 1, 2, 3], num_classes=4)\n",
        "a"
      ],
      "metadata": {
        "colab": {
          "base_uri": "https://localhost:8080/"
        },
        "id": "MPwoX9zu335v",
        "outputId": "9f6bbca9-410a-4d67-d311-aacaec7fe50c"
      },
      "execution_count": null,
      "outputs": [
        {
          "output_type": "execute_result",
          "data": {
            "text/plain": [
              "array([[1., 0., 0., 0.],\n",
              "       [0., 1., 0., 0.],\n",
              "       [0., 0., 1., 0.],\n",
              "       [0., 0., 0., 1.]], dtype=float32)"
            ]
          },
          "metadata": {},
          "execution_count": 11
        }
      ]
    },
    {
      "cell_type": "code",
      "source": [
        "a.argmax()"
      ],
      "metadata": {
        "colab": {
          "base_uri": "https://localhost:8080/"
        },
        "id": "7QYBfG1V3-zE",
        "outputId": "27f61406-124c-42cf-cc4e-8fdb3051edf6"
      },
      "execution_count": null,
      "outputs": [
        {
          "output_type": "execute_result",
          "data": {
            "text/plain": [
              "0"
            ]
          },
          "metadata": {},
          "execution_count": 13
        }
      ]
    },
    {
      "cell_type": "code",
      "source": [],
      "metadata": {
        "id": "3L2B0D8835Bp"
      },
      "execution_count": null,
      "outputs": []
    },
    {
      "cell_type": "code",
      "source": [
        "X_array = np.concatenate(X)"
      ],
      "metadata": {
        "id": "RiWOcfgF58ft"
      },
      "execution_count": null,
      "outputs": []
    },
    {
      "cell_type": "code",
      "source": [
        "Y_array = to_categorical(np.concatenate(Y), num_classes=mcc_codes_num)"
      ],
      "metadata": {
        "id": "gjvL4_CoDFzu"
      },
      "execution_count": null,
      "outputs": []
    },
    {
      "cell_type": "code",
      "source": [
        "X_array[0]"
      ],
      "metadata": {
        "colab": {
          "base_uri": "https://localhost:8080/"
        },
        "id": "87qlUptPmho_",
        "outputId": "db153262-0a22-4922-b013-d91857bc419e"
      },
      "execution_count": null,
      "outputs": [
        {
          "output_type": "execute_result",
          "data": {
            "text/plain": [
              "array([112, 112, 163, 164, 112, 164, 164, 112, 164, 164, 112, 164, 112,\n",
              "       112, 164, 164, 112, 112, 164, 164, 164, 112, 112, 164, 164, 164,\n",
              "       164, 112, 112, 164, 164, 164, 164, 112, 164, 112, 112, 112, 112,\n",
              "       112, 164, 164, 112, 112, 112, 112, 164, 164, 164, 112, 164, 164,\n",
              "       112, 164, 112, 164, 164, 112, 164, 164, 112, 164, 112, 112, 112,\n",
              "       164, 164, 112, 164, 112, 164, 164, 164, 164, 164, 112,  50, 112,\n",
              "        41, 164, 164, 112, 164, 112, 164, 164, 112,  41, 112, 112, 112,\n",
              "       164,  50, 164,  41,  50, 164,  50,  50,  41])"
            ]
          },
          "metadata": {},
          "execution_count": 48
        }
      ]
    },
    {
      "cell_type": "code",
      "source": [
        "X_array[1]"
      ],
      "metadata": {
        "colab": {
          "base_uri": "https://localhost:8080/"
        },
        "id": "1EoZyjPhm0Jn",
        "outputId": "a908348c-51d3-46e6-954e-ee82b4a16a08"
      },
      "execution_count": null,
      "outputs": [
        {
          "output_type": "execute_result",
          "data": {
            "text/plain": [
              "array([112, 163, 164, 112, 164, 164, 112, 164, 164, 112, 164, 112, 112,\n",
              "       164, 164, 112, 112, 164, 164, 164, 112, 112, 164, 164, 164, 164,\n",
              "       112, 112, 164, 164, 164, 164, 112, 164, 112, 112, 112, 112, 112,\n",
              "       164, 164, 112, 112, 112, 112, 164, 164, 164, 112, 164, 164, 112,\n",
              "       164, 112, 164, 164, 112, 164, 164, 112, 164, 112, 112, 112, 164,\n",
              "       164, 112, 164, 112, 164, 164, 164, 164, 164, 112,  50, 112,  41,\n",
              "       164, 164, 112, 164, 112, 164, 164, 112,  41, 112, 112, 112, 164,\n",
              "        50, 164,  41,  50, 164,  50,  50,  41,  41])"
            ]
          },
          "metadata": {},
          "execution_count": 51
        }
      ]
    },
    {
      "cell_type": "code",
      "source": [
        "Y_array[0].argmax()"
      ],
      "metadata": {
        "colab": {
          "base_uri": "https://localhost:8080/"
        },
        "id": "2SwFs9pLmuZ7",
        "outputId": "c8bcd600-e080-4f99-eb9e-bac984d6f689"
      },
      "execution_count": null,
      "outputs": [
        {
          "output_type": "execute_result",
          "data": {
            "text/plain": [
              "41"
            ]
          },
          "metadata": {},
          "execution_count": 49
        }
      ]
    },
    {
      "cell_type": "code",
      "source": [
        "from sklearn.utils.class_weight import compute_class_weight\n",
        "stack = np.concatenate(Y)\n",
        "class_weights = compute_class_weight(class_weight='balanced', classes=np.unique(stack), y=stack)\n",
        "print(class_weights)"
      ],
      "metadata": {
        "colab": {
          "base_uri": "https://localhost:8080/"
        },
        "id": "jHWnWefYVvW3",
        "outputId": "a5aa63f2-3718-4781-ae35-0cb0f942a153"
      },
      "execution_count": null,
      "outputs": [
        {
          "output_type": "stream",
          "name": "stdout",
          "text": [
            "[9.63459079e+01 9.51027349e+01 2.39611897e+00 2.63230784e+02\n",
            " 1.14894185e+01 2.68994962e+00 2.68016798e+02 2.45763987e+00\n",
            " 2.07618647e+02 1.05594011e+01 5.59427852e+00 4.09470109e+02\n",
            " 1.79789290e+00 1.16070267e+02 2.72980072e+02 1.81986715e+02\n",
            " 6.11656594e+01 5.26461568e+02 3.35020998e+02 1.53551291e+02\n",
            " 1.22841033e+03 1.30519957e+00 8.52076527e+00 9.21307745e+02\n",
            " 3.59184306e+00 5.24588040e+01 5.71353640e+01 1.16070267e+02\n",
            " 9.82728261e+01 1.55183955e+00 4.60653872e+00 1.87782470e+01\n",
            " 1.41739653e+02 1.28629354e+01 2.91899483e+00 1.29601933e+00\n",
            " 2.20013790e+02 3.34792730e+00 1.77601493e+02 1.57656940e+01\n",
            " 1.48254289e+00 1.20827245e+02 1.00965232e+02 2.63230784e+02\n",
            " 6.64005582e+01 1.41331965e+01 8.67113171e+01 8.18940217e+01\n",
            " 1.63424877e+01 7.87022099e+00 2.55475284e+01 2.94818478e+00\n",
            " 2.19653165e+00 7.37046196e+02 4.54966787e+00 2.51981605e+01\n",
            " 1.18878419e+02 3.98403349e+02 2.58612700e+02 3.50974379e+01\n",
            " 3.20454868e+02 2.26783445e+01 3.27067316e-01 4.19969342e+00\n",
            " 3.66006801e-01 1.20137929e+01 2.14569489e+01 1.24606288e+01\n",
            " 4.69456176e+01 6.70041996e+02 6.70041996e+02 2.99612275e+01\n",
            " 1.29306350e+02 1.08998254e+00 3.98403349e+02 2.94347522e+00\n",
            " 1.12526137e+02 4.14643944e-02 1.93959525e+02 4.78912408e+00\n",
            " 7.84091698e+01 2.85555072e-01 5.46476261e-02 3.13636679e+02\n",
            " 1.11673666e+02 3.58050131e+00 2.14569489e+01 4.46694664e+02\n",
            " 3.13636679e+02 1.00278394e+02 3.07102582e+02 5.79438833e+00\n",
            " 2.73847255e-01 3.12970784e+01 4.46694664e+02 5.88225216e-01\n",
            " 3.74574346e-02 3.10989956e+00 2.02763740e+01 1.42976954e+00\n",
            " 8.57030460e+01 2.57258707e+01 1.73422634e+02 2.99673184e+00\n",
            " 4.14769947e+00 5.93434940e+00 6.97630095e+00 2.76928873e+00\n",
            " 7.59841439e+01 1.12698195e+01 2.17417757e+01 1.19553316e+01\n",
            " 8.14415686e+01 1.82437177e+01 3.52485029e+00 7.59841439e+01\n",
            " 1.46719657e+00 2.79184165e+01 3.15651476e+01 1.17927391e+02\n",
            " 4.33556586e+01 1.15244499e+00 3.34261313e+01 1.84261549e+02\n",
            " 6.79305249e+01 8.28141793e+01 4.33556586e+02 1.86593974e+02\n",
            " 5.26461568e+02 1.62703354e+01 2.69980291e+01 1.93959525e+02\n",
            " 1.05262239e+00 1.96545652e+02 1.30774698e+00 8.13516772e+00\n",
            " 1.61632938e+01 6.03641438e+00 4.24810487e+01 6.19366551e+01\n",
            " 3.86090202e+00 1.96283940e+01 7.01948758e+02 6.66768768e-01\n",
            " 6.70041996e+02 1.43533826e+01 1.68275387e+01 3.24514830e-02\n",
            " 1.06518802e-01 2.92055053e-02 1.76158269e+00 1.01661544e+02\n",
            " 1.21025648e+01 7.31196623e+00 1.17927391e+02 6.82450181e+01\n",
            " 6.38135234e+01 1.79395447e+00 7.15231631e+00 4.63405341e+00\n",
            " 5.03963211e+00 2.62312690e-01 5.01391970e+01 9.76220127e+01\n",
            " 1.03083384e+02 4.09470109e+02 6.11656594e+01 5.66958612e+02\n",
            " 1.32681583e+01 2.57258707e+01 2.78130640e+02 1.55167620e+02\n",
            " 1.63788043e+03 2.37756837e+02 1.69435907e+02 2.10584627e+02\n",
            " 1.55167620e+02 2.72980072e+02 2.33612106e+01 1.20827245e+02\n",
            " 4.89569044e+00 2.41654490e+02 6.40909735e+02 1.35861050e+01]\n"
          ]
        }
      ]
    },
    {
      "cell_type": "code",
      "source": [
        "print(X_array.shape,Y_array.shape)"
      ],
      "metadata": {
        "colab": {
          "base_uri": "https://localhost:8080/"
        },
        "id": "tzU2H7NSP7vj",
        "outputId": "052a6b8f-c21e-436c-8799-b332a770752a"
      },
      "execution_count": null,
      "outputs": [
        {
          "output_type": "stream",
          "name": "stdout",
          "text": [
            "(2712330, 100) (2712330, 184)\n"
          ]
        }
      ]
    },
    {
      "cell_type": "code",
      "source": [
        "# too heavy\n",
        "main_path = \"/content/drive/MyDrive/alpha trans/datasets/\"\n",
        "\n",
        "np.save(file=main_path + \"X_big_win_100\", arr = X_array)\n",
        "np.save(file=main_path + \"y_big_win_100\", arr = Y_array)"
      ],
      "metadata": {
        "id": "kcm9U-4OVElg"
      },
      "execution_count": null,
      "outputs": []
    },
    {
      "cell_type": "code",
      "source": [
        "main_path = \"/content/drive/MyDrive/alpha trans/datasets/\"\n",
        "\n",
        "np.save(file=main_path + \"X_middle_win_100\", arr = X_array[:1_000_000])\n",
        "np.save(file=main_path + \"y_middle_win_100\", arr = Y_array[:1_000_000])"
      ],
      "metadata": {
        "id": "H9bz_aZ18hAb"
      },
      "execution_count": null,
      "outputs": []
    },
    {
      "cell_type": "code",
      "source": [
        "main_path = \"/content/drive/MyDrive/alpha trans/datasets/\"\n",
        "\n",
        "np.save(file=main_path + \"X_havy_win_100\", arr = X_array[:1_500_000])\n",
        "np.save(file=main_path + \"y_havy_win_100\", arr = Y_array[:1_500_000])"
      ],
      "metadata": {
        "id": "f6EexbqjB4zA"
      },
      "execution_count": null,
      "outputs": []
    },
    {
      "cell_type": "code",
      "source": [
        "# too heavy\n",
        "import numpy as np\n",
        "\n",
        "main_path = \"/content/drive/MyDrive/alpha trans/datasets/\"\n",
        "\n",
        "X_array = np.load(file=main_path + \"X_middle_win_100.npy\")\n",
        "Y_array = np.load(file=main_path + \"y_middle_win_100.npy\")"
      ],
      "metadata": {
        "id": "PMEyYXamYPBS"
      },
      "execution_count": null,
      "outputs": []
    },
    {
      "cell_type": "code",
      "source": [
        "# too heavy\n",
        "import numpy as np\n",
        "\n",
        "main_path = \"/content/drive/MyDrive/alpha trans/datasets/\"\n",
        "\n",
        "X_array = np.load(file=main_path + \"X_big_win_100.npy\")\n",
        "Y_array = np.load(file=main_path + \"y_big_win_100.npy\")"
      ],
      "metadata": {
        "id": "AGVlPFjkBIzQ"
      },
      "execution_count": null,
      "outputs": []
    },
    {
      "cell_type": "code",
      "source": [
        "# too heavy\n",
        "main_path = \"/content/drive/MyDrive/alpha trans/datasets/\"\n",
        "\n",
        "np.save(file=main_path + \"X_tiny_win_40\", arr = X_array[:10_000])\n",
        "np.save(file=main_path + \"y_tiny_win_40\", arr = Y_array[:10_000])\n",
        "\n",
        "np.save(file=main_path + \"X_small_win_40\", arr = X_array[:100_000])\n",
        "np.save(file=main_path + \"y_small_win_40\", arr = Y_array[:100_000])\n",
        "\n",
        "np.save(file=main_path + \"X_middle_win_40\", arr = X_array[:1_000_000])\n",
        "np.save(file=main_path + \"y_middle_win_40\", arr = Y_array[:1_000_000])\n",
        "\n",
        "np.save(file=main_path + \"X_big_win_40\", arr = X_array)\n",
        "np.save(file=main_path + \"y_big_win_40\", arr = Y_array)"
      ],
      "metadata": {
        "id": "SUA-s_7P-I8t"
      },
      "execution_count": null,
      "outputs": []
    },
    {
      "cell_type": "code",
      "source": [
        "models = dict()\n",
        "# модели обучаются долго, а переобучаются быстро, решение:\n",
        "from keras.callbacks import ModelCheckpoint\n",
        "\n",
        "def checkpoint(models, model_name, monitor='val_loss'):\n",
        "    model_save_path = model_name + '.h5'\n",
        "    models[model_name] = ModelCheckpoint(model_save_path,\n",
        "                                monitor=monitor,\n",
        "                                verbose=1,\n",
        "                                save_best_only=True\n",
        "                                )\n",
        "    return models"
      ],
      "metadata": {
        "id": "1MFiey3oDybn"
      },
      "execution_count": null,
      "outputs": []
    },
    {
      "cell_type": "code",
      "source": [
        "import matplotlib.pyplot as plt\n",
        "%matplotlib inline\n",
        "\n",
        "def plot_graph(history):\n",
        "\n",
        "    plt.plot(history.history['accuracy'],\n",
        "            label='True answers part on TRAIN'\n",
        "            )\n",
        "    plt.plot(history.history['val_accuracy'],\n",
        "            label='True answers part on VALID'\n",
        "            )\n",
        "    plt.xlabel('train Epoch')\n",
        "    plt.ylabel('True answers part')\n",
        "    plt.legend()\n",
        "    plt.show()"
      ],
      "metadata": {
        "id": "N6AtoAK7EjVK"
      },
      "execution_count": null,
      "outputs": []
    },
    {
      "cell_type": "code",
      "source": [
        "## An example of building a RNN model\n",
        "## with LSTM layer\n",
        "\n",
        "from keras.losses import BinaryCrossentropy\n",
        "from keras.optimizers import Adam\n",
        "from keras.models import Sequential\n",
        "from keras.layers import Dropout, Activation, Dense, LSTM, Input\n",
        "from keras.layers import Embedding\n",
        "from keras.layers import Bidirectional\n",
        "import tensorflow as tf\n",
        "\n",
        "\n",
        "def lstm_nn_fit(X_train, y_train, models, model_name, epochs, mcc_codes_num,\n",
        "                            trainable=True, batch_size=64):\n",
        "\n",
        "    embedding_dim = 30\n",
        "    input_length = len(X_train[0]) # длина последовательности\n",
        "    # служебный [-1]\n",
        "    vocab_size = mcc_codes_num+1\n",
        "    tf.random.set_seed(1)\n",
        "\n",
        "    ## build the model\n",
        "    bi_lstm_model = Sequential([\n",
        "        # Turns positive integers (indexes) into dense vectors of fixed size.\n",
        "        # поэтому нельзя кодировать значения в -1\n",
        "        Embedding(input_dim=vocab_size,\n",
        "                  output_dim=embedding_dim,\n",
        "                  input_length = input_length,\n",
        "                  name='embed-layer',\n",
        "                  trainable=trainable\n",
        "                  ),\n",
        "        Bidirectional(LSTM(128, name='lstm1-layer', return_sequences=True)),\n",
        "        Dropout(0.3),\n",
        "        Bidirectional(LSTM(64, name='lstm2-layer', return_sequences=True)),\n",
        "        Dropout(0.3),\n",
        "        Bidirectional(LSTM(32, name='lstm3-layer')),\n",
        "        Dense(vocab_size-1, activation='softmax'),\n",
        "    ])\n",
        "\n",
        "    bi_lstm_model.summary()\n",
        "\n",
        "    ## compile and train:\n",
        "    bi_lstm_model.compile(\n",
        "        optimizer = Adam(1e-2),\n",
        "        loss = \"categorical_crossentropy\",\n",
        "        metrics=[\"accuracy\"])\n",
        "\n",
        "    history = bi_lstm_model.fit(\n",
        "        X_train,\n",
        "        y_train,\n",
        "        epochs=epochs,\n",
        "        validation_split=0.1,\n",
        "        callbacks=[models[model_name]],\n",
        "        batch_size=batch_size,\n",
        "        #class_weights=class_weights\n",
        "        )\n",
        "\n",
        "    bi_lstm_model.load_weights(models[model_name].filepath)\n",
        "\n",
        "    plot_graph(history)\n",
        "\n",
        "    return bi_lstm_model"
      ],
      "metadata": {
        "id": "bi8e6ESHEmw2"
      },
      "execution_count": null,
      "outputs": []
    },
    {
      "cell_type": "code",
      "source": [
        "# Prepare the text sampling function\n",
        "\n",
        "def sample(preds, temperature=1.0):\n",
        "    # helper function to sample an index from a probability array\n",
        "    preds = np.asarray(preds[0]).astype(\"float64\")\n",
        "    preds = np.log(preds) / temperature\n",
        "    exp_preds = np.exp(preds)\n",
        "    preds = exp_preds / np.sum(exp_preds)\n",
        "    probas = np.random.multinomial(1, preds, 1)\n",
        "    return np.argmax(probas)"
      ],
      "metadata": {
        "id": "GUni-ajbXitJ"
      },
      "execution_count": null,
      "outputs": []
    },
    {
      "cell_type": "code",
      "source": [
        "epochs = 15\n",
        "max_len = seq_length = 100\n",
        "\n",
        "# 2 # keras_pad_norm_seq + glove_embedding_mat - shape(1018, 2047) + shape(13430, 300)\n",
        "from sklearn.model_selection import train_test_split\n",
        "\n",
        "lstm_model_name = \"lstm_loss_model\"\n",
        "models = checkpoint(models, lstm_model_name, monitor='val_loss')\n",
        "\n",
        "# данные в виде листов\n",
        "X_train, X_test, y_train, y_test = train_test_split(X_array, Y_array, train_size=0.9, test_size=0.1 , random_state=0)"
      ],
      "metadata": {
        "id": "KY3CP46k4p8U"
      },
      "execution_count": null,
      "outputs": []
    },
    {
      "cell_type": "code",
      "source": [
        "import random\n",
        "\n",
        "mcc_codes_num = 184\n",
        "batch_size = 128\n",
        "epochs = 8\n",
        "\n",
        "model = lstm_nn_fit(X_train,\n",
        "                       y_train,\n",
        "                       models,\n",
        "                       lstm_model_name,\n",
        "                       epochs=20,\n",
        "                       mcc_codes_num=mcc_codes_num,\n",
        "                       trainable=True,\n",
        "                       batch_size=batch_size)"
      ],
      "metadata": {
        "colab": {
          "base_uri": "https://localhost:8080/",
          "height": 1000
        },
        "id": "2314ga1WBmG2",
        "outputId": "a65afeb4-c1aa-4aaf-a53d-32ba91a51ce5"
      },
      "execution_count": null,
      "outputs": [
        {
          "output_type": "stream",
          "name": "stdout",
          "text": [
            "Model: \"sequential\"\n",
            "_________________________________________________________________\n",
            " Layer (type)                Output Shape              Param #   \n",
            "=================================================================\n",
            " embed-layer (Embedding)     (None, 100, 30)           5550      \n",
            "                                                                 \n",
            " bidirectional (Bidirection  (None, 100, 256)          162816    \n",
            " al)                                                             \n",
            "                                                                 \n",
            " dropout (Dropout)           (None, 100, 256)          0         \n",
            "                                                                 \n",
            " bidirectional_1 (Bidirecti  (None, 100, 128)          164352    \n",
            " onal)                                                           \n",
            "                                                                 \n",
            " dropout_1 (Dropout)         (None, 100, 128)          0         \n",
            "                                                                 \n",
            " bidirectional_2 (Bidirecti  (None, 64)                41216     \n",
            " onal)                                                           \n",
            "                                                                 \n",
            " dense (Dense)               (None, 184)               11960     \n",
            "                                                                 \n",
            "=================================================================\n",
            "Total params: 385894 (1.47 MB)\n",
            "Trainable params: 385894 (1.47 MB)\n",
            "Non-trainable params: 0 (0.00 Byte)\n",
            "_________________________________________________________________\n",
            "Epoch 1/20\n",
            "6329/6329 [==============================] - ETA: 0s - loss: 2.1702 - accuracy: 0.3863\n",
            "Epoch 1: val_loss improved from inf to 2.02554, saving model to lstm_loss_model.h5\n",
            "6329/6329 [==============================] - 255s 37ms/step - loss: 2.1702 - accuracy: 0.3863 - val_loss: 2.0255 - val_accuracy: 0.4164\n",
            "Epoch 2/20\n",
            "   3/6329 [..............................] - ETA: 3:16 - loss: 2.0434 - accuracy: 0.3984"
          ]
        },
        {
          "output_type": "stream",
          "name": "stderr",
          "text": [
            "/usr/local/lib/python3.10/dist-packages/keras/src/engine/training.py:3000: UserWarning: You are saving your model as an HDF5 file via `model.save()`. This file format is considered legacy. We recommend using instead the native Keras format, e.g. `model.save('my_model.keras')`.\n",
            "  saving_api.save_model(\n"
          ]
        },
        {
          "output_type": "stream",
          "name": "stdout",
          "text": [
            "6329/6329 [==============================] - ETA: 0s - loss: 2.0051 - accuracy: 0.4218\n",
            "Epoch 2: val_loss improved from 2.02554 to 1.98774, saving model to lstm_loss_model.h5\n",
            "6329/6329 [==============================] - 223s 35ms/step - loss: 2.0051 - accuracy: 0.4218 - val_loss: 1.9877 - val_accuracy: 0.4259\n",
            "Epoch 3/20\n",
            "6329/6329 [==============================] - ETA: 0s - loss: 1.9789 - accuracy: 0.4267\n",
            "Epoch 3: val_loss improved from 1.98774 to 1.96793, saving model to lstm_loss_model.h5\n",
            "6329/6329 [==============================] - 224s 35ms/step - loss: 1.9789 - accuracy: 0.4267 - val_loss: 1.9679 - val_accuracy: 0.4276\n",
            "Epoch 4/20\n",
            "6329/6329 [==============================] - ETA: 0s - loss: 1.9648 - accuracy: 0.4290\n",
            "Epoch 4: val_loss improved from 1.96793 to 1.95995, saving model to lstm_loss_model.h5\n",
            "6329/6329 [==============================] - 224s 35ms/step - loss: 1.9648 - accuracy: 0.4290 - val_loss: 1.9600 - val_accuracy: 0.4316\n",
            "Epoch 5/20\n",
            "6329/6329 [==============================] - ETA: 0s - loss: 1.9543 - accuracy: 0.4316\n",
            "Epoch 5: val_loss improved from 1.95995 to 1.94935, saving model to lstm_loss_model.h5\n",
            "6329/6329 [==============================] - 225s 35ms/step - loss: 1.9543 - accuracy: 0.4316 - val_loss: 1.9493 - val_accuracy: 0.4303\n",
            "Epoch 6/20\n",
            "6329/6329 [==============================] - ETA: 0s - loss: 1.9465 - accuracy: 0.4322\n",
            "Epoch 6: val_loss improved from 1.94935 to 1.94281, saving model to lstm_loss_model.h5\n",
            "6329/6329 [==============================] - 224s 35ms/step - loss: 1.9465 - accuracy: 0.4322 - val_loss: 1.9428 - val_accuracy: 0.4339\n",
            "Epoch 7/20\n",
            "6329/6329 [==============================] - ETA: 0s - loss: 1.9414 - accuracy: 0.4325\n",
            "Epoch 7: val_loss improved from 1.94281 to 1.93922, saving model to lstm_loss_model.h5\n",
            "6329/6329 [==============================] - 224s 35ms/step - loss: 1.9414 - accuracy: 0.4325 - val_loss: 1.9392 - val_accuracy: 0.4344\n",
            "Epoch 8/20\n",
            "6329/6329 [==============================] - ETA: 0s - loss: 1.9382 - accuracy: 0.4326\n",
            "Epoch 8: val_loss improved from 1.93922 to 1.93838, saving model to lstm_loss_model.h5\n",
            "6329/6329 [==============================] - 230s 36ms/step - loss: 1.9382 - accuracy: 0.4326 - val_loss: 1.9384 - val_accuracy: 0.4340\n",
            "Epoch 9/20\n",
            "6329/6329 [==============================] - ETA: 0s - loss: 1.9350 - accuracy: 0.4333\n",
            "Epoch 9: val_loss improved from 1.93838 to 1.93757, saving model to lstm_loss_model.h5\n",
            "6329/6329 [==============================] - 229s 36ms/step - loss: 1.9350 - accuracy: 0.4333 - val_loss: 1.9376 - val_accuracy: 0.4342\n",
            "Epoch 10/20\n",
            "6329/6329 [==============================] - ETA: 0s - loss: 1.9342 - accuracy: 0.4335\n",
            "Epoch 10: val_loss improved from 1.93757 to 1.93339, saving model to lstm_loss_model.h5\n",
            "6329/6329 [==============================] - 224s 35ms/step - loss: 1.9342 - accuracy: 0.4335 - val_loss: 1.9334 - val_accuracy: 0.4344\n",
            "Epoch 11/20\n",
            "6329/6329 [==============================] - ETA: 0s - loss: 1.9335 - accuracy: 0.4338\n",
            "Epoch 11: val_loss improved from 1.93339 to 1.93206, saving model to lstm_loss_model.h5\n",
            "6329/6329 [==============================] - 224s 35ms/step - loss: 1.9335 - accuracy: 0.4338 - val_loss: 1.9321 - val_accuracy: 0.4349\n",
            "Epoch 12/20\n",
            "6329/6329 [==============================] - ETA: 0s - loss: 1.9302 - accuracy: 0.4341\n",
            "Epoch 12: val_loss did not improve from 1.93206\n",
            "6329/6329 [==============================] - 225s 36ms/step - loss: 1.9302 - accuracy: 0.4341 - val_loss: 1.9322 - val_accuracy: 0.4355\n",
            "Epoch 13/20\n",
            "6329/6329 [==============================] - ETA: 0s - loss: 1.9292 - accuracy: 0.4341\n",
            "Epoch 13: val_loss did not improve from 1.93206\n",
            "6329/6329 [==============================] - 225s 36ms/step - loss: 1.9292 - accuracy: 0.4341 - val_loss: 1.9345 - val_accuracy: 0.4339\n",
            "Epoch 14/20\n",
            "6329/6329 [==============================] - ETA: 0s - loss: 1.9291 - accuracy: 0.4338\n",
            "Epoch 14: val_loss improved from 1.93206 to 1.93202, saving model to lstm_loss_model.h5\n",
            "6329/6329 [==============================] - 225s 36ms/step - loss: 1.9291 - accuracy: 0.4338 - val_loss: 1.9320 - val_accuracy: 0.4353\n",
            "Epoch 15/20\n",
            "6329/6329 [==============================] - ETA: 0s - loss: 1.9269 - accuracy: 0.4343\n",
            "Epoch 15: val_loss improved from 1.93202 to 1.93014, saving model to lstm_loss_model.h5\n",
            "6329/6329 [==============================] - 227s 36ms/step - loss: 1.9269 - accuracy: 0.4343 - val_loss: 1.9301 - val_accuracy: 0.4342\n",
            "Epoch 16/20\n",
            "6329/6329 [==============================] - ETA: 0s - loss: 1.9247 - accuracy: 0.4344\n",
            "Epoch 16: val_loss did not improve from 1.93014\n",
            "6329/6329 [==============================] - 228s 36ms/step - loss: 1.9247 - accuracy: 0.4344 - val_loss: 1.9318 - val_accuracy: 0.4345\n",
            "Epoch 17/20\n",
            "6329/6329 [==============================] - ETA: 0s - loss: 1.9252 - accuracy: 0.4343\n",
            "Epoch 17: val_loss did not improve from 1.93014\n",
            "6329/6329 [==============================] - 228s 36ms/step - loss: 1.9252 - accuracy: 0.4343 - val_loss: 1.9310 - val_accuracy: 0.4350\n",
            "Epoch 18/20\n",
            "6328/6329 [============================>.] - ETA: 0s - loss: 1.9244 - accuracy: 0.4345\n",
            "Epoch 18: val_loss did not improve from 1.93014\n",
            "6329/6329 [==============================] - 226s 36ms/step - loss: 1.9245 - accuracy: 0.4345 - val_loss: 1.9317 - val_accuracy: 0.4344\n",
            "Epoch 19/20\n",
            "6329/6329 [==============================] - ETA: 0s - loss: 1.9237 - accuracy: 0.4350\n",
            "Epoch 19: val_loss improved from 1.93014 to 1.93014, saving model to lstm_loss_model.h5\n",
            "6329/6329 [==============================] - 222s 35ms/step - loss: 1.9237 - accuracy: 0.4350 - val_loss: 1.9301 - val_accuracy: 0.4344\n",
            "Epoch 20/20\n",
            "6329/6329 [==============================] - ETA: 0s - loss: 1.9767 - accuracy: 0.4301\n",
            "Epoch 20: val_loss did not improve from 1.93014\n",
            "6329/6329 [==============================] - 221s 35ms/step - loss: 1.9767 - accuracy: 0.4301 - val_loss: 2.0358 - val_accuracy: 0.4262\n"
          ]
        },
        {
          "output_type": "display_data",
          "data": {
            "text/plain": [
              "<Figure size 640x480 with 1 Axes>"
            ],
            "image/png": "[encoded data removed]"
          },
          "metadata": {}
        }
      ]
    },
    {
      "cell_type": "code",
      "source": [
        "model.save('/content/drive/MyDrive/alpha trans/model.keras')  # The file needs to end with the .keras extension"
      ],
      "metadata": {
        "id": "dyLwO7K1CS16"
      },
      "execution_count": null,
      "outputs": []
    },
    {
      "cell_type": "code",
      "source": [
        "import random\n",
        "\n",
        "mcc_codes_num = 184\n",
        "batch_size = 128\n",
        "epochs = 8\n",
        "\n",
        "model = lstm_nn_fit(X_train,\n",
        "                       y_train,\n",
        "                       models,\n",
        "                       lstm_model_name,\n",
        "                       epochs=2,\n",
        "                       mcc_codes_num=mcc_codes_num,\n",
        "                       trainable=True,\n",
        "                       batch_size=batch_size)\n",
        "\n",
        "for epoch in range(epochs):\n",
        "    # на каждой эпохе дообучаем модель\n",
        "    print()\n",
        "    print(\"Generating seq\", epoch)\n",
        "\n",
        "\n",
        "    model.fit(\n",
        "        X_train,\n",
        "        y_train,\n",
        "        epochs=2,\n",
        "        validation_split=0.1,\n",
        "        batch_size=batch_size,\n",
        "        #class_weights=class_weights\n",
        "        )\n",
        "\n",
        "\n",
        "    # берём рандомный индекс из тестовой выборки\n",
        "    start_index = random.randint(0, X_test.shape[0]-500)\n",
        "\n",
        "    # check results\n",
        "    for diversity in [0.2, 0.5, 1.0, 1.2]:\n",
        "\n",
        "        print(\"...Diversity:\", diversity)\n",
        "\n",
        "        # берём случайную цепочку\n",
        "        seq = X_test[start_index]\n",
        "        # my targets\n",
        "        generated = []\n",
        "        # real targets\n",
        "        real_trans = []\n",
        "\n",
        "        seq_length = 100\n",
        "        # обрубаем всё больше 100\n",
        "        print(seq)\n",
        "        seq = seq[len(seq) - seq_length:]\n",
        "\n",
        "        target = start_index\n",
        "        # predict seq\n",
        "        for i in range(10):\n",
        "\n",
        "            seq = np.array([seq[i: i + seq_length]])\n",
        "            preds = model.predict(seq)\n",
        "            next_index = sample(preds, diversity)\n",
        "\n",
        "            generated.append(next_index)\n",
        "            seq = np.append(seq, next_index)\n",
        "            #print(seq)\n",
        "            real_trans.append(y_test[target].argmax())\n",
        "            target = start_index + (i+1)\n",
        "\n",
        "        print(\"generated\", generated)\n",
        "        print(\"real\", real_trans)\n",
        "        print(\" \")"
      ],
      "metadata": {
        "id": "42k6xTmqYNax"
      },
      "execution_count": null,
      "outputs": []
    },
    {
      "cell_type": "code",
      "source": [
        "model.save('/content/drive/MyDrive/alpha trans/model.keras')  # The file needs to end with the .keras extension"
      ],
      "metadata": {
        "id": "FJHYZfPL1wZ9"
      },
      "execution_count": null,
      "outputs": []
    },
    {
      "cell_type": "code",
      "source": [
        "import keras\n",
        "\n",
        "loaded_model = keras.models.load_model(\"/content/drive/MyDrive/alpha trans/model.keras\")"
      ],
      "metadata": {
        "id": "guHWYVaQWZSz"
      },
      "execution_count": null,
      "outputs": []
    },
    {
      "cell_type": "code",
      "source": [
        "model = loaded_model"
      ],
      "metadata": {
        "id": "E72ZDh_XtHxL"
      },
      "execution_count": null,
      "outputs": []
    },
    {
      "cell_type": "code",
      "source": [
        "mcc2label"
      ],
      "metadata": {
        "id": "688bSd_HBqZu"
      },
      "execution_count": null,
      "outputs": []
    },
    {
      "cell_type": "code",
      "source": [
        "# Prepare the text sampling function\n",
        "\n",
        "def sample(preds, temperature):\n",
        "    # helper function to sample an index from a probability array\n",
        "    #print(preds)\n",
        "    preds = np.asarray(preds[0]).astype(\"float64\")\n",
        "    preds = np.log(preds) / temperature\n",
        "    exp_preds = np.exp(preds)\n",
        "    preds = exp_preds / np.sum(exp_preds)\n",
        "    #print(preds.shape)\n",
        "    probas = np.random.multinomial(1, preds, 1)\n",
        "    return np.argmax(probas)"
      ],
      "metadata": {
        "id": "mwHCiIKuCvPg"
      },
      "execution_count": null,
      "outputs": []
    },
    {
      "cell_type": "code",
      "source": [
        "def prepare(datas, seq_length=100):\n",
        "\n",
        "  if len(datas) <= seq_length:\n",
        "    number = seq_length - len(datas)\n",
        "    # 184 - служебный символ, означающий НИЧЕГО\n",
        "    datas = [184]*number + datas\n",
        "    #print(datas)\n",
        "    #break\n",
        "    return datas\n",
        "  else:\n",
        "    return datas[len(datas) - seq_length:]\n"
      ],
      "metadata": {
        "id": "rl-c9jkReMIY"
      },
      "execution_count": null,
      "outputs": []
    },
    {
      "cell_type": "code",
      "source": [
        "def predict_all(data, trans_len = 10, diversity=0.5, seq_length=100):\n",
        "\n",
        "  data[\"data_1\"] = data[\"Data\"].apply(lambda x: [mcc2label[i] for i in x])\n",
        "  to = data[\"data_1\"].map(prepare)\n",
        "\n",
        "  datas = []\n",
        "\n",
        "  for i in range(trans_len):\n",
        "\n",
        "    to_preceed = []\n",
        "\n",
        "    for j in to:\n",
        "      to_preceed.append(j[i: i + seq_length])\n",
        "\n",
        "    #print(to_preceed[1])\n",
        "    pred = model.predict(to_preceed)\n",
        "\n",
        "    #print(pred.shape)\n",
        "    # next_index = [sample([k], diversity) for k in pred]\n",
        "    next_index = [np.argmax(k) for k in pred]\n",
        "\n",
        "\n",
        "    datas.append(next_index)\n",
        "    #print(next_index)\n",
        "    #break\n",
        "    #print(to)\n",
        "    to = [r + [n] for r, n in zip(to, next_index)]\n",
        "\n",
        "\n",
        "  rez = [list(map(lambda x: label2mcc[x], l)) for l in np.array(datas).transpose()]\n",
        "\n",
        "  return rez"
      ],
      "metadata": {
        "id": "yow6DnZYyifH"
      },
      "execution_count": null,
      "outputs": []
    },
    {
      "cell_type": "code",
      "source": [
        "\n",
        "# without sample 0.2541793167809804\n",
        "for i in [0.2, 0.5, 1.0, 1.2]:\n",
        "\n",
        "  rez = predict_all(df_train, diversity=i)\n",
        "  print(mapk(df_train['Target'], rez))"
      ],
      "metadata": {
        "id": "jT6ysiCk6sBm"
      },
      "execution_count": null,
      "outputs": []
    },
    {
      "cell_type": "code",
      "source": [
        "label2mcc[56]"
      ],
      "metadata": {
        "colab": {
          "base_uri": "https://localhost:8080/"
        },
        "id": "jf4FHk9BkBvF",
        "outputId": "547a1747-eddd-43e3-df59-30329811ab8f"
      },
      "execution_count": null,
      "outputs": [
        {
          "output_type": "execute_result",
          "data": {
            "text/plain": [
              "7841"
            ]
          },
          "metadata": {},
          "execution_count": 35
        }
      ]
    },
    {
      "cell_type": "code",
      "source": [
        "def predict_10(seq, trans_len = 10, diversity=1.0, seq_length=100):\n",
        "\n",
        "  seq = list(map(lambda x: mcc2label[x], seq))\n",
        "  #print(seq)\n",
        "  seq = prepare(seq)\n",
        "\n",
        "  data = []\n",
        "\n",
        "  for i in range(trans_len):\n",
        "\n",
        "    x = seq[i: i + seq_length]\n",
        "    #print(type(x))\n",
        "    pred = model.predict([x])\n",
        "    next_index = sample(pred, diversity)\n",
        "\n",
        "    data.append(next_index)\n",
        "    seq.append(next_index)\n",
        "\n",
        "  return list(map(lambda x: label2mcc[x], data))"
      ],
      "metadata": {
        "id": "EMyI3KBu54ze"
      },
      "execution_count": null,
      "outputs": []
    },
    {
      "cell_type": "code",
      "source": [
        "rez = dict()\n",
        "\n",
        "for i in [0.2, 0.5, 1.0, 1.2]:\n",
        "\n",
        "  i = 0.2\n",
        "  print(f\"div_{i}\")\n",
        "  df_train[f\"rnn_preds_{i}\"] = df_train[\"Data\"].map(lambda x: predict_10(seq=x, diversity=i))\n",
        "  print(mapk(df_train['Target'], df_train[f\"rnn_preds_{i}\"]))\n",
        "  break\n"
      ],
      "metadata": {
        "id": "YXAqS4yfbovv"
      },
      "execution_count": null,
      "outputs": []
    },
    {
      "cell_type": "code",
      "source": [
        "# target, pred\n",
        "# сильнее оценивает последние предсказания, похуй на порядок\n",
        "mapk([[1,2,3,4,5,6,7,8,9,1]], [[10,2,3,4,5,6,7,8,9,10]])"
      ],
      "metadata": {
        "colab": {
          "base_uri": "https://localhost:8080/"
        },
        "id": "_8lmtgwj3cj6",
        "outputId": "68abf5a7-0cb9-4670-aac4-68fb38d8bf3b"
      },
      "execution_count": null,
      "outputs": [
        {
          "output_type": "execute_result",
          "data": {
            "text/plain": [
              "0.6171031746031745"
            ]
          },
          "metadata": {},
          "execution_count": 89
        }
      ]
    },
    {
      "cell_type": "code",
      "source": [
        "mapk([[11,2,33,44,55,66,77,88,99,1]], [[10,2,3,4,5,6,7,8,9,10]])"
      ],
      "metadata": {
        "colab": {
          "base_uri": "https://localhost:8080/"
        },
        "id": "rtHDn6PZ4dyD",
        "outputId": "8edb1076-60d6-4624-b9b9-f3dbe4a52f29"
      },
      "execution_count": null,
      "outputs": [
        {
          "output_type": "execute_result",
          "data": {
            "text/plain": [
              "0.05"
            ]
          },
          "metadata": {},
          "execution_count": 93
        }
      ]
    },
    {
      "cell_type": "code",
      "source": [
        "mapk(df_train['Target'], df_train['pred_lstm'])"
      ],
      "metadata": {
        "id": "PiZ601-fGf4y"
      },
      "execution_count": null,
      "outputs": []
    },
    {
      "cell_type": "code",
      "source": [
        "rez = predict_all(df_test)"
      ],
      "metadata": {
        "colab": {
          "base_uri": "https://localhost:8080/"
        },
        "id": "Nh9od9GGAe-t",
        "outputId": "be77bf09-b2b0-472b-9058-dd4fd2c02e78"
      },
      "execution_count": null,
      "outputs": [
        {
          "output_type": "stream",
          "name": "stdout",
          "text": [
            "220/220 [==============================] - 42s 189ms/step\n",
            "220/220 [==============================] - 62s 282ms/step\n",
            "220/220 [==============================] - 42s 189ms/step\n",
            "220/220 [==============================] - 57s 258ms/step\n",
            "220/220 [==============================] - 40s 183ms/step\n",
            "220/220 [==============================] - 46s 207ms/step\n",
            "220/220 [==============================] - 42s 189ms/step\n",
            "220/220 [==============================] - 40s 183ms/step\n",
            "220/220 [==============================] - 40s 180ms/step\n",
            "220/220 [==============================] - 39s 176ms/step\n"
          ]
        }
      ]
    },
    {
      "cell_type": "markdown",
      "source": [
        "## Submission"
      ],
      "metadata": {
        "id": "F5kQ3rwsdEJq"
      }
    },
    {
      "cell_type": "code",
      "source": [
        "df_test['Predicted'] = pd.Series(data=rez)"
      ],
      "metadata": {
        "execution": {
          "iopub.status.busy": "2022-04-29T11:27:31.644491Z",
          "iopub.execute_input": "2022-04-29T11:27:31.644781Z",
          "iopub.status.idle": "2022-04-29T11:27:32.029352Z",
          "shell.execute_reply.started": "2022-04-29T11:27:31.644750Z",
          "shell.execute_reply": "2022-04-29T11:27:32.028438Z"
        },
        "trusted": true,
        "id": "cM_MABSjdEJq"
      },
      "execution_count": null,
      "outputs": []
    },
    {
      "cell_type": "code",
      "source": [
        "df_test.head()"
      ],
      "metadata": {
        "execution": {
          "iopub.status.busy": "2022-04-29T11:27:33.222499Z",
          "iopub.execute_input": "2022-04-29T11:27:33.222901Z",
          "iopub.status.idle": "2022-04-29T11:27:33.238841Z",
          "shell.execute_reply.started": "2022-04-29T11:27:33.222860Z",
          "shell.execute_reply": "2022-04-29T11:27:33.238287Z"
        },
        "trusted": true,
        "colab": {
          "base_uri": "https://localhost:8080/",
          "height": 206
        },
        "id": "mzFboQondEJq",
        "outputId": "19b288e6-3711-4804-fcad-d40bc1d53354"
      },
      "execution_count": null,
      "outputs": [
        {
          "output_type": "execute_result",
          "data": {
            "text/plain": [
              "   Id                                               Data  \\\n",
              "0   0  [4814, 4814, 6011, 6011, 6010, 6011, 6011, 481...   \n",
              "1   1  [6010, 6011, 6010, 5411, 5411, 5977, 6011, 601...   \n",
              "2   2  [4814, 6011, 5251, 6011, 7832, 5641, 5814, 482...   \n",
              "3   3  [6011, 4722, 4722, 4722, 4814, 6011, 6011, 482...   \n",
              "4   4  [4814, 4814, 4814, 6011, 4814, 4814, 4814, 481...   \n",
              "\n",
              "                                              data_1  \\\n",
              "0  [112, 112, 164, 164, 163, 164, 164, 112, 164, ...   \n",
              "1  [163, 164, 163, 50, 50, 154, 164, 163, 50, 164...   \n",
              "2  [112, 164, 30, 164, 99, 79, 106, 114, 41, 163,...   \n",
              "3  [164, 97, 97, 97, 112, 164, 164, 114, 164, 164...   \n",
              "4  [112, 112, 112, 164, 112, 112, 112, 112, 112, ...   \n",
              "\n",
              "                                           Predicted  \n",
              "0  [6011, 6011, 6011, 6011, 6011, 6011, 6011, 601...  \n",
              "1  [5722, 5722, 5722, 5722, 5722, 5722, 5722, 572...  \n",
              "2  [6010, 6010, 6010, 6010, 6010, 6010, 6010, 601...  \n",
              "3  [6011, 6011, 6011, 6011, 6011, 6011, 6011, 601...  \n",
              "4  [4814, 4814, 4814, 4814, 4814, 4814, 4814, 481...  "
            ],
            "text/html": [
              "\n",
              "  <div id=\"df-ddba7cbe-1245-4985-bd1a-1b6472ce055e\" class=\"colab-df-container\">\n",
              "    <div>\n",
              "<style scoped>\n",
              "    .dataframe tbody tr th:only-of-type {\n",
              "        vertical-align: middle;\n",
              "    }\n",
              "\n",
              "    .dataframe tbody tr th {\n",
              "        vertical-align: top;\n",
              "    }\n",
              "\n",
              "    .dataframe thead th {\n",
              "        text-align: right;\n",
              "    }\n",
              "</style>\n",
              "<table border=\"1\" class=\"dataframe\">\n",
              "  <thead>\n",
              "    <tr style=\"text-align: right;\">\n",
              "      <th></th>\n",
              "      <th>Id</th>\n",
              "      <th>Data</th>\n",
              "      <th>data_1</th>\n",
              "      <th>Predicted</th>\n",
              "    </tr>\n",
              "  </thead>\n",
              "  <tbody>\n",
              "    <tr>\n",
              "      <th>0</th>\n",
              "      <td>0</td>\n",
              "      <td>[4814, 4814, 6011, 6011, 6010, 6011, 6011, 481...</td>\n",
              "      <td>[112, 112, 164, 164, 163, 164, 164, 112, 164, ...</td>\n",
              "      <td>[6011, 6011, 6011, 6011, 6011, 6011, 6011, 601...</td>\n",
              "    </tr>\n",
              "    <tr>\n",
              "      <th>1</th>\n",
              "      <td>1</td>\n",
              "      <td>[6010, 6011, 6010, 5411, 5411, 5977, 6011, 601...</td>\n",
              "      <td>[163, 164, 163, 50, 50, 154, 164, 163, 50, 164...</td>\n",
              "      <td>[5722, 5722, 5722, 5722, 5722, 5722, 5722, 572...</td>\n",
              "    </tr>\n",
              "    <tr>\n",
              "      <th>2</th>\n",
              "      <td>2</td>\n",
              "      <td>[4814, 6011, 5251, 6011, 7832, 5641, 5814, 482...</td>\n",
              "      <td>[112, 164, 30, 164, 99, 79, 106, 114, 41, 163,...</td>\n",
              "      <td>[6010, 6010, 6010, 6010, 6010, 6010, 6010, 601...</td>\n",
              "    </tr>\n",
              "    <tr>\n",
              "      <th>3</th>\n",
              "      <td>3</td>\n",
              "      <td>[6011, 4722, 4722, 4722, 4814, 6011, 6011, 482...</td>\n",
              "      <td>[164, 97, 97, 97, 112, 164, 164, 114, 164, 164...</td>\n",
              "      <td>[6011, 6011, 6011, 6011, 6011, 6011, 6011, 601...</td>\n",
              "    </tr>\n",
              "    <tr>\n",
              "      <th>4</th>\n",
              "      <td>4</td>\n",
              "      <td>[4814, 4814, 4814, 6011, 4814, 4814, 4814, 481...</td>\n",
              "      <td>[112, 112, 112, 164, 112, 112, 112, 112, 112, ...</td>\n",
              "      <td>[4814, 4814, 4814, 4814, 4814, 4814, 4814, 481...</td>\n",
              "    </tr>\n",
              "  </tbody>\n",
              "</table>\n",
              "</div>\n",
              "    <div class=\"colab-df-buttons\">\n",
              "\n",
              "  <div class=\"colab-df-container\">\n",
              "    <button class=\"colab-df-convert\" onclick=\"convertToInteractive('df-ddba7cbe-1245-4985-bd1a-1b6472ce055e')\"\n",
              "            title=\"Convert this dataframe to an interactive table.\"\n",
              "            style=\"display:none;\">\n",
              "\n",
              "  <svg xmlns=\"http://www.w3.org/2000/svg\" height=\"24px\" viewBox=\"0 -960 960 960\">\n",
              "    <path d=\"M120-120v-720h720v720H120Zm60-500h600v-160H180v160Zm220 220h160v-160H400v160Zm0 220h160v-160H400v160ZM180-400h160v-160H180v160Zm440 0h160v-160H620v160ZM180-180h160v-160H180v160Zm440 0h160v-160H620v160Z\"/>\n",
              "  </svg>\n",
              "    </button>\n",
              "\n",
              "  <style>\n",
              "    .colab-df-container {\n",
              "      display:flex;\n",
              "      gap: 12px;\n",
              "    }\n",
              "\n",
              "    .colab-df-convert {\n",
              "      background-color: #E8F0FE;\n",
              "      border: none;\n",
              "      border-radius: 50%;\n",
              "      cursor: pointer;\n",
              "      display: none;\n",
              "      fill: #1967D2;\n",
              "      height: 32px;\n",
              "      padding: 0 0 0 0;\n",
              "      width: 32px;\n",
              "    }\n",
              "\n",
              "    .colab-df-convert:hover {\n",
              "      background-color: #E2EBFA;\n",
              "      box-shadow: 0px 1px 2px rgba(60, 64, 67, 0.3), 0px 1px 3px 1px rgba(60, 64, 67, 0.15);\n",
              "      fill: #174EA6;\n",
              "    }\n",
              "\n",
              "    .colab-df-buttons div {\n",
              "      margin-bottom: 4px;\n",
              "    }\n",
              "\n",
              "    [theme=dark] .colab-df-convert {\n",
              "      background-color: #3B4455;\n",
              "      fill: #D2E3FC;\n",
              "    }\n",
              "\n",
              "    [theme=dark] .colab-df-convert:hover {\n",
              "      background-color: #434B5C;\n",
              "      box-shadow: 0px 1px 3px 1px rgba(0, 0, 0, 0.15);\n",
              "      filter: drop-shadow(0px 1px 2px rgba(0, 0, 0, 0.3));\n",
              "      fill: #FFFFFF;\n",
              "    }\n",
              "  </style>\n",
              "\n",
              "    <script>\n",
              "      const buttonEl =\n",
              "        document.querySelector('#df-ddba7cbe-1245-4985-bd1a-1b6472ce055e button.colab-df-convert');\n",
              "      buttonEl.style.display =\n",
              "        google.colab.kernel.accessAllowed ? 'block' : 'none';\n",
              "\n",
              "      async function convertToInteractive(key) {\n",
              "        const element = document.querySelector('#df-ddba7cbe-1245-4985-bd1a-1b6472ce055e');\n",
              "        const dataTable =\n",
              "          await google.colab.kernel.invokeFunction('convertToInteractive',\n",
              "                                                    [key], {});\n",
              "        if (!dataTable) return;\n",
              "\n",
              "        const docLinkHtml = 'Like what you see? Visit the ' +\n",
              "          '<a target=\"_blank\" href=https://colab.research.google.com/notebooks/data_table.ipynb>data table notebook</a>'\n",
              "          + ' to learn more about interactive tables.';\n",
              "        element.innerHTML = '';\n",
              "        dataTable['output_type'] = 'display_data';\n",
              "        await google.colab.output.renderOutput(dataTable, element);\n",
              "        const docLink = document.createElement('div');\n",
              "        docLink.innerHTML = docLinkHtml;\n",
              "        element.appendChild(docLink);\n",
              "      }\n",
              "    </script>\n",
              "  </div>\n",
              "\n",
              "\n",
              "<div id=\"df-16241610-cedd-45d7-b655-68fa2ec1d148\">\n",
              "  <button class=\"colab-df-quickchart\" onclick=\"quickchart('df-16241610-cedd-45d7-b655-68fa2ec1d148')\"\n",
              "            title=\"Suggest charts.\"\n",
              "            style=\"display:none;\">\n",
              "\n",
              "<svg xmlns=\"http://www.w3.org/2000/svg\" height=\"24px\"viewBox=\"0 0 24 24\"\n",
              "     width=\"24px\">\n",
              "    <g>\n",
              "        <path d=\"M19 3H5c-1.1 0-2 .9-2 2v14c0 1.1.9 2 2 2h14c1.1 0 2-.9 2-2V5c0-1.1-.9-2-2-2zM9 17H7v-7h2v7zm4 0h-2V7h2v10zm4 0h-2v-4h2v4z\"/>\n",
              "    </g>\n",
              "</svg>\n",
              "  </button>\n",
              "\n",
              "<style>\n",
              "  .colab-df-quickchart {\n",
              "      --bg-color: #E8F0FE;\n",
              "      --fill-color: #1967D2;\n",
              "      --hover-bg-color: #E2EBFA;\n",
              "      --hover-fill-color: #174EA6;\n",
              "      --disabled-fill-color: #AAA;\n",
              "      --disabled-bg-color: #DDD;\n",
              "  }\n",
              "\n",
              "  [theme=dark] .colab-df-quickchart {\n",
              "      --bg-color: #3B4455;\n",
              "      --fill-color: #D2E3FC;\n",
              "      --hover-bg-color: #434B5C;\n",
              "      --hover-fill-color: #FFFFFF;\n",
              "      --disabled-bg-color: #3B4455;\n",
              "      --disabled-fill-color: #666;\n",
              "  }\n",
              "\n",
              "  .colab-df-quickchart {\n",
              "    background-color: var(--bg-color);\n",
              "    border: none;\n",
              "    border-radius: 50%;\n",
              "    cursor: pointer;\n",
              "    display: none;\n",
              "    fill: var(--fill-color);\n",
              "    height: 32px;\n",
              "    padding: 0;\n",
              "    width: 32px;\n",
              "  }\n",
              "\n",
              "  .colab-df-quickchart:hover {\n",
              "    background-color: var(--hover-bg-color);\n",
              "    box-shadow: 0 1px 2px rgba(60, 64, 67, 0.3), 0 1px 3px 1px rgba(60, 64, 67, 0.15);\n",
              "    fill: var(--button-hover-fill-color);\n",
              "  }\n",
              "\n",
              "  .colab-df-quickchart-complete:disabled,\n",
              "  .colab-df-quickchart-complete:disabled:hover {\n",
              "    background-color: var(--disabled-bg-color);\n",
              "    fill: var(--disabled-fill-color);\n",
              "    box-shadow: none;\n",
              "  }\n",
              "\n",
              "  .colab-df-spinner {\n",
              "    border: 2px solid var(--fill-color);\n",
              "    border-color: transparent;\n",
              "    border-bottom-color: var(--fill-color);\n",
              "    animation:\n",
              "      spin 1s steps(1) infinite;\n",
              "  }\n",
              "\n",
              "  @keyframes spin {\n",
              "    0% {\n",
              "      border-color: transparent;\n",
              "      border-bottom-color: var(--fill-color);\n",
              "      border-left-color: var(--fill-color);\n",
              "    }\n",
              "    20% {\n",
              "      border-color: transparent;\n",
              "      border-left-color: var(--fill-color);\n",
              "      border-top-color: var(--fill-color);\n",
              "    }\n",
              "    30% {\n",
              "      border-color: transparent;\n",
              "      border-left-color: var(--fill-color);\n",
              "      border-top-color: var(--fill-color);\n",
              "      border-right-color: var(--fill-color);\n",
              "    }\n",
              "    40% {\n",
              "      border-color: transparent;\n",
              "      border-right-color: var(--fill-color);\n",
              "      border-top-color: var(--fill-color);\n",
              "    }\n",
              "    60% {\n",
              "      border-color: transparent;\n",
              "      border-right-color: var(--fill-color);\n",
              "    }\n",
              "    80% {\n",
              "      border-color: transparent;\n",
              "      border-right-color: var(--fill-color);\n",
              "      border-bottom-color: var(--fill-color);\n",
              "    }\n",
              "    90% {\n",
              "      border-color: transparent;\n",
              "      border-bottom-color: var(--fill-color);\n",
              "    }\n",
              "  }\n",
              "</style>\n",
              "\n",
              "  <script>\n",
              "    async function quickchart(key) {\n",
              "      const quickchartButtonEl =\n",
              "        document.querySelector('#' + key + ' button');\n",
              "      quickchartButtonEl.disabled = true;  // To prevent multiple clicks.\n",
              "      quickchartButtonEl.classList.add('colab-df-spinner');\n",
              "      try {\n",
              "        const charts = await google.colab.kernel.invokeFunction(\n",
              "            'suggestCharts', [key], {});\n",
              "      } catch (error) {\n",
              "        console.error('Error during call to suggestCharts:', error);\n",
              "      }\n",
              "      quickchartButtonEl.classList.remove('colab-df-spinner');\n",
              "      quickchartButtonEl.classList.add('colab-df-quickchart-complete');\n",
              "    }\n",
              "    (() => {\n",
              "      let quickchartButtonEl =\n",
              "        document.querySelector('#df-16241610-cedd-45d7-b655-68fa2ec1d148 button');\n",
              "      quickchartButtonEl.style.display =\n",
              "        google.colab.kernel.accessAllowed ? 'block' : 'none';\n",
              "    })();\n",
              "  </script>\n",
              "</div>\n",
              "    </div>\n",
              "  </div>\n"
            ]
          },
          "metadata": {},
          "execution_count": 33
        }
      ]
    },
    {
      "cell_type": "code",
      "source": [
        "submission_baseline_2 = df_test[['Id', 'Predicted']]\n",
        "submission_baseline_2['Predicted'] = submission_baseline_2.Predicted.astype(str).str.replace(',', '')\n",
        "submission_baseline_2.to_csv('submission_baseline_2.csv', index=False)"
      ],
      "metadata": {
        "execution": {
          "iopub.status.busy": "2022-04-29T11:27:47.248035Z",
          "iopub.execute_input": "2022-04-29T11:27:47.248322Z",
          "iopub.status.idle": "2022-04-29T11:27:47.291562Z",
          "shell.execute_reply.started": "2022-04-29T11:27:47.248294Z",
          "shell.execute_reply": "2022-04-29T11:27:47.290485Z"
        },
        "trusted": true,
        "id": "qvqrgg9_dEJr"
      },
      "execution_count": null,
      "outputs": []
    }
  ]
}